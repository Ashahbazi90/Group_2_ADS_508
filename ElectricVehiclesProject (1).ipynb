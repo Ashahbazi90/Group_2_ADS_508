{
 "cells": [
  {
   "cell_type": "markdown",
   "id": "3dcef216-0ce9-47ca-82f9-65f3b80d506a",
   "metadata": {},
   "source": [
    "# **Electric Vehicles Project**"
   ]
  },
  {
   "cell_type": "code",
   "execution_count": 2,
   "id": "eb3c2714-6c63-42f5-abcc-1dde162d2e56",
   "metadata": {
    "tags": []
   },
   "outputs": [
    {
     "name": "stdout",
     "output_type": "stream",
     "text": [
      "Requirement already satisfied: xgboost in /opt/conda/lib/python3.8/site-packages (2.0.3)\n",
      "Requirement already satisfied: numpy in /opt/conda/lib/python3.8/site-packages (from xgboost) (1.24.4)\n",
      "Requirement already satisfied: scipy in /opt/conda/lib/python3.8/site-packages (from xgboost) (1.10.1)\n",
      "\u001b[33mDEPRECATION: pyodbc 4.0.0-unsupported has a non-standard version number. pip 24.1 will enforce this behaviour change. A possible replacement is to upgrade to a newer version of pyodbc or contact the author to suggest that they release a version with a conforming version number. Discussion can be found at https://github.com/pypa/pip/issues/12063\u001b[0m\u001b[33m\n",
      "\u001b[0m\u001b[33mWARNING: Running pip as the 'root' user can result in broken permissions and conflicting behaviour with the system package manager. It is recommended to use a virtual environment instead: https://pip.pypa.io/warnings/venv\u001b[0m\u001b[33m\n",
      "\u001b[0m"
     ]
    }
   ],
   "source": [
    "#pip install folium\n",
    "#!pip install --upgrade seaborn\n",
    "!pip install xgboost\n"
   ]
  },
  {
   "cell_type": "code",
   "execution_count": 3,
   "id": "f84d94d9-c205-4723-b3b8-efc90c7c5b47",
   "metadata": {
    "tags": []
   },
   "outputs": [],
   "source": [
    "# Importing necessary libraries\n",
    "import pandas as pd\n",
    "import numpy as np\n",
    "import matplotlib.pyplot as pl\n",
    "import seaborn as sns\n",
    "import matplotlib.pyplot as plt\n",
    "import folium"
   ]
  },
  {
   "cell_type": "code",
   "execution_count": 4,
   "id": "aab8c165-8bfa-4c1c-b879-f8068ccc5ecc",
   "metadata": {
    "tags": []
   },
   "outputs": [],
   "source": [
    "from sklearn.model_selection import train_test_split\n",
    "from sklearn.impute import SimpleImputer\n",
    "from sklearn.compose import ColumnTransformer\n",
    "from sklearn.pipeline import Pipeline\n",
    "from sklearn.preprocessing import OneHotEncoder, StandardScaler\n",
    "from xgboost import XGBRegressor\n",
    "from sklearn.metrics import mean_squared_error"
   ]
  },
  {
   "cell_type": "code",
   "execution_count": 5,
   "id": "614cec96-1dee-4c16-8040-e79e5be302a9",
   "metadata": {
    "tags": []
   },
   "outputs": [],
   "source": [
    "from sklearn.linear_model import LinearRegression, Ridge, Lasso\n",
    "from sklearn.ensemble import RandomForestRegressor, GradientBoostingRegressor\n",
    "from sklearn.metrics import mean_squared_error, r2_score, mean_absolute_error"
   ]
  },
  {
   "cell_type": "markdown",
   "id": "c8ca3e89-301d-41bd-bd4a-d51e0b46fd20",
   "metadata": {},
   "source": [
    "## Loading The database:"
   ]
  },
  {
   "cell_type": "code",
   "execution_count": 6,
   "id": "da5340e4-74f4-4e3a-ab62-88b8484abae9",
   "metadata": {
    "tags": []
   },
   "outputs": [
    {
     "name": "stdout",
     "output_type": "stream",
     "text": [
      "2024-03-17 18:13:17     704669 alt_fuel_stations.csv\n",
      "2024-03-17 17:47:02   42030494 Electric_Vehicle_Population_Data.csv\n",
      "2024-03-17 17:47:02  319658341 Electric_Vehicle_Title_and_Registration_Activity.csv\n"
     ]
    }
   ],
   "source": [
    "# AWS S3 file listings\n",
    "!aws s3 ls s3://team2buckets3/alt_fuel_stations.csv\n",
    "!aws s3 ls s3://team2buckets3/Electric_Vehicle_Population_Data.csv\n",
    "!aws s3 ls s3://team2buckets3/Electric_Vehicle_Title_and_Registration_Activity.csv"
   ]
  },
  {
   "cell_type": "code",
   "execution_count": 7,
   "id": "f6026db4-20a1-418b-859b-692cc2b66fd3",
   "metadata": {
    "tags": []
   },
   "outputs": [
    {
     "name": "stdout",
     "output_type": "stream",
     "text": [
      "download: s3://team2buckets3/alt_fuel_stations.csv to ./alt_fuel_stations.csv\n",
      "download: s3://team2buckets3/Electric_Vehicle_Population_Data.csv to ./Electric_Vehicle_Population_Data.csv\n",
      "download: s3://team2buckets3/Electric_Vehicle_Title_and_Registration_Activity.csv to ./Electric_Vehicle_Title_and_Registration_Activity.csv\n"
     ]
    }
   ],
   "source": [
    "# AWS S3 file copying\n",
    "!aws s3 cp s3://team2buckets3/alt_fuel_stations.csv ./alt_fuel_stations.csv\n",
    "!aws s3 cp s3://team2buckets3/Electric_Vehicle_Population_Data.csv ./Electric_Vehicle_Population_Data.csv\n",
    "!aws s3 cp s3://team2buckets3/Electric_Vehicle_Title_and_Registration_Activity.csv ./Electric_Vehicle_Title_and_Registration_Activity.csv"
   ]
  },
  {
   "cell_type": "code",
   "execution_count": 8,
   "id": "1f5ef8d8-6b81-4469-b461-d49588061d38",
   "metadata": {
    "tags": []
   },
   "outputs": [],
   "source": [
    "# Reading CSV files into pandas DataFrames\n",
    "fuel_stations = pd.read_csv('alt_fuel_stations.csv')\n",
    "ev_population = pd.read_csv('Electric_Vehicle_Population_Data.csv')\n",
    "ev_registration = pd.read_csv('Electric_Vehicle_Title_and_Registration_Activity.csv')"
   ]
  },
  {
   "cell_type": "markdown",
   "id": "68658a17-1683-477c-9d94-313d1089dd85",
   "metadata": {},
   "source": [
    "## Understand the datebase:"
   ]
  },
  {
   "cell_type": "markdown",
   "id": "8646f371-62e3-428e-adc7-51138339198a",
   "metadata": {},
   "source": [
    "### Fuel Stations Data:"
   ]
  },
  {
   "cell_type": "code",
   "execution_count": 9,
   "id": "779f2587-aade-4aa5-bc1d-458f17e83336",
   "metadata": {
    "tags": []
   },
   "outputs": [
    {
     "name": "stdout",
     "output_type": "stream",
     "text": [
      "Displaying Fuel Stations data:\n"
     ]
    },
    {
     "data": {
      "text/html": [
       "<div>\n",
       "<style scoped>\n",
       "    .dataframe tbody tr th:only-of-type {\n",
       "        vertical-align: middle;\n",
       "    }\n",
       "\n",
       "    .dataframe tbody tr th {\n",
       "        vertical-align: top;\n",
       "    }\n",
       "\n",
       "    .dataframe thead th {\n",
       "        text-align: right;\n",
       "    }\n",
       "</style>\n",
       "<table border=\"1\" class=\"dataframe\">\n",
       "  <thead>\n",
       "    <tr style=\"text-align: right;\">\n",
       "      <th></th>\n",
       "      <th>Fuel Type Code</th>\n",
       "      <th>Station Name</th>\n",
       "      <th>Street Address</th>\n",
       "      <th>Intersection Directions</th>\n",
       "      <th>City</th>\n",
       "      <th>State</th>\n",
       "      <th>ZIP</th>\n",
       "      <th>Plus4</th>\n",
       "      <th>Station Phone</th>\n",
       "      <th>Status Code</th>\n",
       "      <th>...</th>\n",
       "      <th>Restricted Access</th>\n",
       "      <th>RD Blends</th>\n",
       "      <th>RD Blends (French)</th>\n",
       "      <th>RD Blended with Biodiesel</th>\n",
       "      <th>RD Maximum Biodiesel Level</th>\n",
       "      <th>NPS Unit Name</th>\n",
       "      <th>CNG Station Sells Renewable Natural Gas</th>\n",
       "      <th>LNG Station Sells Renewable Natural Gas</th>\n",
       "      <th>Maximum Vehicle Class</th>\n",
       "      <th>EV Workplace Charging</th>\n",
       "    </tr>\n",
       "  </thead>\n",
       "  <tbody>\n",
       "    <tr>\n",
       "      <th>0</th>\n",
       "      <td>ELEC</td>\n",
       "      <td>City of Lacey - City Hall Parking</td>\n",
       "      <td>420 College St</td>\n",
       "      <td>At 3rd Ave SE, next to police station</td>\n",
       "      <td>Lacey</td>\n",
       "      <td>WA</td>\n",
       "      <td>98503</td>\n",
       "      <td>NaN</td>\n",
       "      <td>360-491-3214</td>\n",
       "      <td>E</td>\n",
       "      <td>...</td>\n",
       "      <td>False</td>\n",
       "      <td>NaN</td>\n",
       "      <td>NaN</td>\n",
       "      <td>NaN</td>\n",
       "      <td>NaN</td>\n",
       "      <td>NaN</td>\n",
       "      <td>NaN</td>\n",
       "      <td>NaN</td>\n",
       "      <td>LD</td>\n",
       "      <td>False</td>\n",
       "    </tr>\n",
       "    <tr>\n",
       "      <th>1</th>\n",
       "      <td>ELEC</td>\n",
       "      <td>Seattle-Tacoma International Airport - General...</td>\n",
       "      <td>17801 Pacific Hwy S</td>\n",
       "      <td>5th floor parking garage; rows D, G, and I</td>\n",
       "      <td>Seattle</td>\n",
       "      <td>WA</td>\n",
       "      <td>98188</td>\n",
       "      <td>NaN</td>\n",
       "      <td>206-787-5388</td>\n",
       "      <td>E</td>\n",
       "      <td>...</td>\n",
       "      <td>False</td>\n",
       "      <td>NaN</td>\n",
       "      <td>NaN</td>\n",
       "      <td>NaN</td>\n",
       "      <td>NaN</td>\n",
       "      <td>NaN</td>\n",
       "      <td>NaN</td>\n",
       "      <td>NaN</td>\n",
       "      <td>LD</td>\n",
       "      <td>False</td>\n",
       "    </tr>\n",
       "    <tr>\n",
       "      <th>2</th>\n",
       "      <td>ELEC</td>\n",
       "      <td>Avista Corp</td>\n",
       "      <td>1411 E Mission Ave</td>\n",
       "      <td>NaN</td>\n",
       "      <td>Spokane</td>\n",
       "      <td>WA</td>\n",
       "      <td>99252</td>\n",
       "      <td>NaN</td>\n",
       "      <td>509-489-0500</td>\n",
       "      <td>E</td>\n",
       "      <td>...</td>\n",
       "      <td>False</td>\n",
       "      <td>NaN</td>\n",
       "      <td>NaN</td>\n",
       "      <td>NaN</td>\n",
       "      <td>NaN</td>\n",
       "      <td>NaN</td>\n",
       "      <td>NaN</td>\n",
       "      <td>NaN</td>\n",
       "      <td>LD</td>\n",
       "      <td>False</td>\n",
       "    </tr>\n",
       "  </tbody>\n",
       "</table>\n",
       "<p>3 rows × 74 columns</p>\n",
       "</div>"
      ],
      "text/plain": [
       "  Fuel Type Code                                       Station Name  \\\n",
       "0           ELEC                  City of Lacey - City Hall Parking   \n",
       "1           ELEC  Seattle-Tacoma International Airport - General...   \n",
       "2           ELEC                                        Avista Corp   \n",
       "\n",
       "        Street Address                     Intersection Directions     City  \\\n",
       "0       420 College St       At 3rd Ave SE, next to police station    Lacey   \n",
       "1  17801 Pacific Hwy S  5th floor parking garage; rows D, G, and I  Seattle   \n",
       "2   1411 E Mission Ave                                         NaN  Spokane   \n",
       "\n",
       "  State    ZIP  Plus4 Station Phone Status Code  ...  Restricted Access  \\\n",
       "0    WA  98503    NaN  360-491-3214           E  ...              False   \n",
       "1    WA  98188    NaN  206-787-5388           E  ...              False   \n",
       "2    WA  99252    NaN  509-489-0500           E  ...              False   \n",
       "\n",
       "  RD Blends RD Blends (French) RD Blended with Biodiesel  \\\n",
       "0       NaN                NaN                       NaN   \n",
       "1       NaN                NaN                       NaN   \n",
       "2       NaN                NaN                       NaN   \n",
       "\n",
       "   RD Maximum Biodiesel Level  NPS Unit Name  \\\n",
       "0                         NaN            NaN   \n",
       "1                         NaN            NaN   \n",
       "2                         NaN            NaN   \n",
       "\n",
       "   CNG Station Sells Renewable Natural Gas  \\\n",
       "0                                      NaN   \n",
       "1                                      NaN   \n",
       "2                                      NaN   \n",
       "\n",
       "   LNG Station Sells Renewable Natural Gas  Maximum Vehicle Class  \\\n",
       "0                                      NaN                     LD   \n",
       "1                                      NaN                     LD   \n",
       "2                                      NaN                     LD   \n",
       "\n",
       "   EV Workplace Charging  \n",
       "0                  False  \n",
       "1                  False  \n",
       "2                  False  \n",
       "\n",
       "[3 rows x 74 columns]"
      ]
     },
     "execution_count": 9,
     "metadata": {},
     "output_type": "execute_result"
    }
   ],
   "source": [
    "print(\"Displaying Fuel Stations data:\")\n",
    "fuel_stations.head(3)"
   ]
  },
  {
   "cell_type": "code",
   "execution_count": 10,
   "id": "90e2034f-bce8-4ab7-b5ab-8219c4ada011",
   "metadata": {
    "tags": []
   },
   "outputs": [
    {
     "name": "stdout",
     "output_type": "stream",
     "text": [
      "Data Information:\n",
      "<class 'pandas.core.frame.DataFrame'>\n",
      "RangeIndex: 2138 entries, 0 to 2137\n",
      "Data columns (total 74 columns):\n",
      " #   Column                                   Non-Null Count  Dtype  \n",
      "---  ------                                   --------------  -----  \n",
      " 0   Fuel Type Code                           2138 non-null   object \n",
      " 1   Station Name                             2138 non-null   object \n",
      " 2   Street Address                           2138 non-null   object \n",
      " 3   Intersection Directions                  87 non-null     object \n",
      " 4   City                                     2138 non-null   object \n",
      " 5   State                                    2138 non-null   object \n",
      " 6   ZIP                                      2138 non-null   object \n",
      " 7   Plus4                                    0 non-null      float64\n",
      " 8   Station Phone                            2122 non-null   object \n",
      " 9   Status Code                              2138 non-null   object \n",
      " 10  Expected Date                            0 non-null      float64\n",
      " 11  Groups With Access Code                  2138 non-null   object \n",
      " 12  Access Days Time                         1952 non-null   object \n",
      " 13  Cards Accepted                           128 non-null    object \n",
      " 14  BD Blends                                0 non-null      float64\n",
      " 15  NG Fill Type Code                        0 non-null      float64\n",
      " 16  NG PSI                                   0 non-null      float64\n",
      " 17  EV Level1 EVSE Num                       5 non-null      float64\n",
      " 18  EV Level2 EVSE Num                       1881 non-null   float64\n",
      " 19  EV DC Fast Count                         321 non-null    float64\n",
      " 20  EV Other Info                            2 non-null      object \n",
      " 21  EV Network                               2138 non-null   object \n",
      " 22  EV Network Web                           1955 non-null   object \n",
      " 23  Geocode Status                           2138 non-null   object \n",
      " 24  Latitude                                 2138 non-null   float64\n",
      " 25  Longitude                                2138 non-null   float64\n",
      " 26  Date Last Confirmed                      2135 non-null   object \n",
      " 27  ID                                       2138 non-null   int64  \n",
      " 28  Updated At                               2138 non-null   object \n",
      " 29  Owner Type Code                          369 non-null    object \n",
      " 30  Federal Agency ID                        0 non-null      float64\n",
      " 31  Federal Agency Name                      0 non-null      float64\n",
      " 32  Open Date                                2137 non-null   object \n",
      " 33  Hydrogen Status Link                     0 non-null      float64\n",
      " 34  NG Vehicle Class                         0 non-null      float64\n",
      " 35  LPG Primary                              0 non-null      float64\n",
      " 36  E85 Blender Pump                         0 non-null      float64\n",
      " 37  EV Connector Types                       2138 non-null   object \n",
      " 38  Country                                  2138 non-null   object \n",
      " 39  Intersection Directions (French)         0 non-null      float64\n",
      " 40  Access Days Time (French)                0 non-null      float64\n",
      " 41  BD Blends (French)                       0 non-null      float64\n",
      " 42  Groups With Access Code (French)         2138 non-null   object \n",
      " 43  Hydrogen Is Retail                       0 non-null      float64\n",
      " 44  Access Code                              2138 non-null   object \n",
      " 45  Access Detail Code                       98 non-null     object \n",
      " 46  Federal Agency Code                      0 non-null      float64\n",
      " 47  Facility Type                            363 non-null    object \n",
      " 48  CNG Dispenser Num                        0 non-null      float64\n",
      " 49  CNG On-Site Renewable Source             0 non-null      float64\n",
      " 50  CNG Total Compression Capacity           0 non-null      float64\n",
      " 51  CNG Storage Capacity                     0 non-null      float64\n",
      " 52  LNG On-Site Renewable Source             0 non-null      float64\n",
      " 53  E85 Other Ethanol Blends                 0 non-null      float64\n",
      " 54  EV Pricing                               514 non-null    object \n",
      " 55  EV Pricing (French)                      0 non-null      float64\n",
      " 56  LPG Nozzle Types                         0 non-null      float64\n",
      " 57  Hydrogen Pressures                       0 non-null      float64\n",
      " 58  Hydrogen Standards                       0 non-null      float64\n",
      " 59  CNG Fill Type Code                       0 non-null      float64\n",
      " 60  CNG PSI                                  0 non-null      float64\n",
      " 61  CNG Vehicle Class                        0 non-null      float64\n",
      " 62  LNG Vehicle Class                        0 non-null      float64\n",
      " 63  EV On-Site Renewable Source              8 non-null      object \n",
      " 64  Restricted Access                        319 non-null    object \n",
      " 65  RD Blends                                0 non-null      float64\n",
      " 66  RD Blends (French)                       0 non-null      float64\n",
      " 67  RD Blended with Biodiesel                0 non-null      float64\n",
      " 68  RD Maximum Biodiesel Level               0 non-null      float64\n",
      " 69  NPS Unit Name                            4 non-null      object \n",
      " 70  CNG Station Sells Renewable Natural Gas  0 non-null      float64\n",
      " 71  LNG Station Sells Renewable Natural Gas  0 non-null      float64\n",
      " 72  Maximum Vehicle Class                    253 non-null    object \n",
      " 73  EV Workplace Charging                    2138 non-null   bool   \n",
      "dtypes: bool(1), float64(41), int64(1), object(31)\n",
      "memory usage: 1.2+ MB\n",
      "\n",
      "Summary Statistics for fuel stations data:\n"
     ]
    },
    {
     "data": {
      "text/html": [
       "<div>\n",
       "<style scoped>\n",
       "    .dataframe tbody tr th:only-of-type {\n",
       "        vertical-align: middle;\n",
       "    }\n",
       "\n",
       "    .dataframe tbody tr th {\n",
       "        vertical-align: top;\n",
       "    }\n",
       "\n",
       "    .dataframe thead th {\n",
       "        text-align: right;\n",
       "    }\n",
       "</style>\n",
       "<table border=\"1\" class=\"dataframe\">\n",
       "  <thead>\n",
       "    <tr style=\"text-align: right;\">\n",
       "      <th></th>\n",
       "      <th>Plus4</th>\n",
       "      <th>Expected Date</th>\n",
       "      <th>BD Blends</th>\n",
       "      <th>NG Fill Type Code</th>\n",
       "      <th>NG PSI</th>\n",
       "      <th>EV Level1 EVSE Num</th>\n",
       "      <th>EV Level2 EVSE Num</th>\n",
       "      <th>EV DC Fast Count</th>\n",
       "      <th>Latitude</th>\n",
       "      <th>Longitude</th>\n",
       "      <th>...</th>\n",
       "      <th>CNG Fill Type Code</th>\n",
       "      <th>CNG PSI</th>\n",
       "      <th>CNG Vehicle Class</th>\n",
       "      <th>LNG Vehicle Class</th>\n",
       "      <th>RD Blends</th>\n",
       "      <th>RD Blends (French)</th>\n",
       "      <th>RD Blended with Biodiesel</th>\n",
       "      <th>RD Maximum Biodiesel Level</th>\n",
       "      <th>CNG Station Sells Renewable Natural Gas</th>\n",
       "      <th>LNG Station Sells Renewable Natural Gas</th>\n",
       "    </tr>\n",
       "  </thead>\n",
       "  <tbody>\n",
       "    <tr>\n",
       "      <th>count</th>\n",
       "      <td>0.0</td>\n",
       "      <td>0.0</td>\n",
       "      <td>0.0</td>\n",
       "      <td>0.0</td>\n",
       "      <td>0.0</td>\n",
       "      <td>5.00000</td>\n",
       "      <td>1881.000000</td>\n",
       "      <td>321.000000</td>\n",
       "      <td>2138.000000</td>\n",
       "      <td>2138.000000</td>\n",
       "      <td>...</td>\n",
       "      <td>0.0</td>\n",
       "      <td>0.0</td>\n",
       "      <td>0.0</td>\n",
       "      <td>0.0</td>\n",
       "      <td>0.0</td>\n",
       "      <td>0.0</td>\n",
       "      <td>0.0</td>\n",
       "      <td>0.0</td>\n",
       "      <td>0.0</td>\n",
       "      <td>0.0</td>\n",
       "    </tr>\n",
       "    <tr>\n",
       "      <th>mean</th>\n",
       "      <td>NaN</td>\n",
       "      <td>NaN</td>\n",
       "      <td>NaN</td>\n",
       "      <td>NaN</td>\n",
       "      <td>NaN</td>\n",
       "      <td>3.80000</td>\n",
       "      <td>2.332270</td>\n",
       "      <td>3.725857</td>\n",
       "      <td>47.452871</td>\n",
       "      <td>-121.855048</td>\n",
       "      <td>...</td>\n",
       "      <td>NaN</td>\n",
       "      <td>NaN</td>\n",
       "      <td>NaN</td>\n",
       "      <td>NaN</td>\n",
       "      <td>NaN</td>\n",
       "      <td>NaN</td>\n",
       "      <td>NaN</td>\n",
       "      <td>NaN</td>\n",
       "      <td>NaN</td>\n",
       "      <td>NaN</td>\n",
       "    </tr>\n",
       "    <tr>\n",
       "      <th>std</th>\n",
       "      <td>NaN</td>\n",
       "      <td>NaN</td>\n",
       "      <td>NaN</td>\n",
       "      <td>NaN</td>\n",
       "      <td>NaN</td>\n",
       "      <td>3.63318</td>\n",
       "      <td>2.608429</td>\n",
       "      <td>3.888234</td>\n",
       "      <td>0.617638</td>\n",
       "      <td>1.452720</td>\n",
       "      <td>...</td>\n",
       "      <td>NaN</td>\n",
       "      <td>NaN</td>\n",
       "      <td>NaN</td>\n",
       "      <td>NaN</td>\n",
       "      <td>NaN</td>\n",
       "      <td>NaN</td>\n",
       "      <td>NaN</td>\n",
       "      <td>NaN</td>\n",
       "      <td>NaN</td>\n",
       "      <td>NaN</td>\n",
       "    </tr>\n",
       "    <tr>\n",
       "      <th>min</th>\n",
       "      <td>NaN</td>\n",
       "      <td>NaN</td>\n",
       "      <td>NaN</td>\n",
       "      <td>NaN</td>\n",
       "      <td>NaN</td>\n",
       "      <td>1.00000</td>\n",
       "      <td>1.000000</td>\n",
       "      <td>1.000000</td>\n",
       "      <td>45.562567</td>\n",
       "      <td>-124.662924</td>\n",
       "      <td>...</td>\n",
       "      <td>NaN</td>\n",
       "      <td>NaN</td>\n",
       "      <td>NaN</td>\n",
       "      <td>NaN</td>\n",
       "      <td>NaN</td>\n",
       "      <td>NaN</td>\n",
       "      <td>NaN</td>\n",
       "      <td>NaN</td>\n",
       "      <td>NaN</td>\n",
       "      <td>NaN</td>\n",
       "    </tr>\n",
       "    <tr>\n",
       "      <th>25%</th>\n",
       "      <td>NaN</td>\n",
       "      <td>NaN</td>\n",
       "      <td>NaN</td>\n",
       "      <td>NaN</td>\n",
       "      <td>NaN</td>\n",
       "      <td>2.00000</td>\n",
       "      <td>2.000000</td>\n",
       "      <td>1.000000</td>\n",
       "      <td>47.302726</td>\n",
       "      <td>-122.377587</td>\n",
       "      <td>...</td>\n",
       "      <td>NaN</td>\n",
       "      <td>NaN</td>\n",
       "      <td>NaN</td>\n",
       "      <td>NaN</td>\n",
       "      <td>NaN</td>\n",
       "      <td>NaN</td>\n",
       "      <td>NaN</td>\n",
       "      <td>NaN</td>\n",
       "      <td>NaN</td>\n",
       "      <td>NaN</td>\n",
       "    </tr>\n",
       "    <tr>\n",
       "      <th>50%</th>\n",
       "      <td>NaN</td>\n",
       "      <td>NaN</td>\n",
       "      <td>NaN</td>\n",
       "      <td>NaN</td>\n",
       "      <td>NaN</td>\n",
       "      <td>2.00000</td>\n",
       "      <td>2.000000</td>\n",
       "      <td>2.000000</td>\n",
       "      <td>47.615515</td>\n",
       "      <td>-122.315505</td>\n",
       "      <td>...</td>\n",
       "      <td>NaN</td>\n",
       "      <td>NaN</td>\n",
       "      <td>NaN</td>\n",
       "      <td>NaN</td>\n",
       "      <td>NaN</td>\n",
       "      <td>NaN</td>\n",
       "      <td>NaN</td>\n",
       "      <td>NaN</td>\n",
       "      <td>NaN</td>\n",
       "      <td>NaN</td>\n",
       "    </tr>\n",
       "    <tr>\n",
       "      <th>75%</th>\n",
       "      <td>NaN</td>\n",
       "      <td>NaN</td>\n",
       "      <td>NaN</td>\n",
       "      <td>NaN</td>\n",
       "      <td>NaN</td>\n",
       "      <td>4.00000</td>\n",
       "      <td>2.000000</td>\n",
       "      <td>4.000000</td>\n",
       "      <td>47.663247</td>\n",
       "      <td>-122.175931</td>\n",
       "      <td>...</td>\n",
       "      <td>NaN</td>\n",
       "      <td>NaN</td>\n",
       "      <td>NaN</td>\n",
       "      <td>NaN</td>\n",
       "      <td>NaN</td>\n",
       "      <td>NaN</td>\n",
       "      <td>NaN</td>\n",
       "      <td>NaN</td>\n",
       "      <td>NaN</td>\n",
       "      <td>NaN</td>\n",
       "    </tr>\n",
       "    <tr>\n",
       "      <th>max</th>\n",
       "      <td>NaN</td>\n",
       "      <td>NaN</td>\n",
       "      <td>NaN</td>\n",
       "      <td>NaN</td>\n",
       "      <td>NaN</td>\n",
       "      <td>10.00000</td>\n",
       "      <td>68.000000</td>\n",
       "      <td>20.000000</td>\n",
       "      <td>48.995255</td>\n",
       "      <td>-117.043496</td>\n",
       "      <td>...</td>\n",
       "      <td>NaN</td>\n",
       "      <td>NaN</td>\n",
       "      <td>NaN</td>\n",
       "      <td>NaN</td>\n",
       "      <td>NaN</td>\n",
       "      <td>NaN</td>\n",
       "      <td>NaN</td>\n",
       "      <td>NaN</td>\n",
       "      <td>NaN</td>\n",
       "      <td>NaN</td>\n",
       "    </tr>\n",
       "  </tbody>\n",
       "</table>\n",
       "<p>8 rows × 42 columns</p>\n",
       "</div>"
      ],
      "text/plain": [
       "       Plus4  Expected Date  BD Blends  NG Fill Type Code  NG PSI  \\\n",
       "count    0.0            0.0        0.0                0.0     0.0   \n",
       "mean     NaN            NaN        NaN                NaN     NaN   \n",
       "std      NaN            NaN        NaN                NaN     NaN   \n",
       "min      NaN            NaN        NaN                NaN     NaN   \n",
       "25%      NaN            NaN        NaN                NaN     NaN   \n",
       "50%      NaN            NaN        NaN                NaN     NaN   \n",
       "75%      NaN            NaN        NaN                NaN     NaN   \n",
       "max      NaN            NaN        NaN                NaN     NaN   \n",
       "\n",
       "       EV Level1 EVSE Num  EV Level2 EVSE Num  EV DC Fast Count     Latitude  \\\n",
       "count             5.00000         1881.000000        321.000000  2138.000000   \n",
       "mean              3.80000            2.332270          3.725857    47.452871   \n",
       "std               3.63318            2.608429          3.888234     0.617638   \n",
       "min               1.00000            1.000000          1.000000    45.562567   \n",
       "25%               2.00000            2.000000          1.000000    47.302726   \n",
       "50%               2.00000            2.000000          2.000000    47.615515   \n",
       "75%               4.00000            2.000000          4.000000    47.663247   \n",
       "max              10.00000           68.000000         20.000000    48.995255   \n",
       "\n",
       "         Longitude  ...  CNG Fill Type Code  CNG PSI  CNG Vehicle Class  \\\n",
       "count  2138.000000  ...                 0.0      0.0                0.0   \n",
       "mean   -121.855048  ...                 NaN      NaN                NaN   \n",
       "std       1.452720  ...                 NaN      NaN                NaN   \n",
       "min    -124.662924  ...                 NaN      NaN                NaN   \n",
       "25%    -122.377587  ...                 NaN      NaN                NaN   \n",
       "50%    -122.315505  ...                 NaN      NaN                NaN   \n",
       "75%    -122.175931  ...                 NaN      NaN                NaN   \n",
       "max    -117.043496  ...                 NaN      NaN                NaN   \n",
       "\n",
       "       LNG Vehicle Class  RD Blends  RD Blends (French)  \\\n",
       "count                0.0        0.0                 0.0   \n",
       "mean                 NaN        NaN                 NaN   \n",
       "std                  NaN        NaN                 NaN   \n",
       "min                  NaN        NaN                 NaN   \n",
       "25%                  NaN        NaN                 NaN   \n",
       "50%                  NaN        NaN                 NaN   \n",
       "75%                  NaN        NaN                 NaN   \n",
       "max                  NaN        NaN                 NaN   \n",
       "\n",
       "       RD Blended with Biodiesel  RD Maximum Biodiesel Level  \\\n",
       "count                        0.0                         0.0   \n",
       "mean                         NaN                         NaN   \n",
       "std                          NaN                         NaN   \n",
       "min                          NaN                         NaN   \n",
       "25%                          NaN                         NaN   \n",
       "50%                          NaN                         NaN   \n",
       "75%                          NaN                         NaN   \n",
       "max                          NaN                         NaN   \n",
       "\n",
       "       CNG Station Sells Renewable Natural Gas  \\\n",
       "count                                      0.0   \n",
       "mean                                       NaN   \n",
       "std                                        NaN   \n",
       "min                                        NaN   \n",
       "25%                                        NaN   \n",
       "50%                                        NaN   \n",
       "75%                                        NaN   \n",
       "max                                        NaN   \n",
       "\n",
       "       LNG Station Sells Renewable Natural Gas  \n",
       "count                                      0.0  \n",
       "mean                                       NaN  \n",
       "std                                        NaN  \n",
       "min                                        NaN  \n",
       "25%                                        NaN  \n",
       "50%                                        NaN  \n",
       "75%                                        NaN  \n",
       "max                                        NaN  \n",
       "\n",
       "[8 rows x 42 columns]"
      ]
     },
     "execution_count": 10,
     "metadata": {},
     "output_type": "execute_result"
    }
   ],
   "source": [
    "# 1. Data Info\n",
    "print(\"Data Information:\")\n",
    "fuel_stations.info()\n",
    "\n",
    "# 2. Summary Statistics\n",
    "print(\"\\nSummary Statistics for fuel stations data:\")\n",
    "fuel_stations.describe()\n"
   ]
  },
  {
   "cell_type": "markdown",
   "id": "5bb9544f-c8d9-46d3-aed9-97bcc5968028",
   "metadata": {
    "tags": []
   },
   "source": [
    "## Data cleaning"
   ]
  },
  {
   "cell_type": "code",
   "execution_count": 11,
   "id": "4801ef74-d8dd-4e13-8e85-f7986863b802",
   "metadata": {
    "tags": []
   },
   "outputs": [
    {
     "name": "stdout",
     "output_type": "stream",
     "text": [
      "<class 'pandas.core.frame.DataFrame'>\n",
      "RangeIndex: 2138 entries, 0 to 2137\n",
      "Data columns (total 30 columns):\n",
      " #   Column                            Non-Null Count  Dtype  \n",
      "---  ------                            --------------  -----  \n",
      " 0   Fuel Type Code                    2138 non-null   object \n",
      " 1   Station Name                      2138 non-null   object \n",
      " 2   Street Address                    2138 non-null   object \n",
      " 3   Intersection Directions           87 non-null     object \n",
      " 4   City                              2138 non-null   object \n",
      " 5   State                             2138 non-null   object \n",
      " 6   ZIP                               2138 non-null   object \n",
      " 7   Station Phone                     2122 non-null   object \n",
      " 8   Status Code                       2138 non-null   object \n",
      " 9   Groups With Access Code           2138 non-null   object \n",
      " 10  EV Level2 EVSE Num                1881 non-null   float64\n",
      " 11  EV DC Fast Count                  321 non-null    float64\n",
      " 12  EV Network                        2138 non-null   object \n",
      " 13  Geocode Status                    2138 non-null   object \n",
      " 14  Latitude                          2138 non-null   float64\n",
      " 15  Longitude                         2138 non-null   float64\n",
      " 16  ID                                2138 non-null   int64  \n",
      " 17  Updated At                        2138 non-null   object \n",
      " 18  Open Date                         2137 non-null   object \n",
      " 19  EV Connector Types                2138 non-null   object \n",
      " 20  Country                           2138 non-null   object \n",
      " 21  Groups With Access Code (French)  2138 non-null   object \n",
      " 22  Access Code                       2138 non-null   object \n",
      " 23  Access Detail Code                98 non-null     object \n",
      " 24  Facility Type                     363 non-null    object \n",
      " 25  EV Pricing                        514 non-null    object \n",
      " 26  EV On-Site Renewable Source       8 non-null      object \n",
      " 27  Restricted Access                 319 non-null    object \n",
      " 28  NPS Unit Name                     4 non-null      object \n",
      " 29  Maximum Vehicle Class             253 non-null    object \n",
      "dtypes: float64(4), int64(1), object(25)\n",
      "memory usage: 501.2+ KB\n",
      "None\n"
     ]
    }
   ],
   "source": [
    "# List of unnecessary columns\n",
    "unnecessary_columns = ['Plus4', 'Expected Date', 'BD Blends', 'NG Fill Type Code', \n",
    "                       'NG PSI', 'EV Level1 EVSE Num', 'Hydrogen Status Link', \n",
    "                       'NG Vehicle Class', 'LPG Primary', 'E85 Blender Pump', \n",
    "                       'Intersection Directions (French)', 'Access Days Time (French)', \n",
    "                       'BD Blends (French)', 'Hydrogen Is Retail', 'Federal Agency Code', \n",
    "                       'CNG Dispenser Num', 'CNG On-Site Renewable Source', \n",
    "                       'CNG Total Compression Capacity', 'CNG Storage Capacity', \n",
    "                       'LNG On-Site Renewable Source', 'E85 Other Ethanol Blends', \n",
    "                       'EV Pricing (French)', 'LPG Nozzle Types', 'Hydrogen Pressures', \n",
    "                       'Hydrogen Standards', 'CNG Fill Type Code', 'CNG PSI', \n",
    "                       'CNG Vehicle Class', 'LNG Vehicle Class', 'EV Workplace Charging', \n",
    "                       'RD Blends', 'RD Blends (French)', 'RD Blended with Biodiesel', \n",
    "                       'RD Maximum Biodiesel Level', 'CNG Station Sells Renewable Natural Gas', \n",
    "                       'LNG Station Sells Renewable Natural Gas', 'Access Days Time', 'Cards Accepted', \n",
    "                       'EV Other Info', 'EV Network Web', 'Date Last Confirmed', 'Owner Type Code', \n",
    "                       'Federal Agency Name' ,'Federal Agency ID']\n",
    "\n",
    "# Drop unnecessary columns\n",
    "fuel_stations = fuel_stations.drop(columns=unnecessary_columns)\n",
    "\n",
    "# Check the updated DataFrame\n",
    "print(fuel_stations.info())\n"
   ]
  },
  {
   "cell_type": "code",
   "execution_count": 12,
   "id": "4dfe655a-800e-4051-b4ad-aa9452c4f659",
   "metadata": {
    "tags": []
   },
   "outputs": [
    {
     "name": "stdout",
     "output_type": "stream",
     "text": [
      "Missing values:\n",
      " Fuel Type Code                         0\n",
      "Station Name                           0\n",
      "Street Address                         0\n",
      "Intersection Directions             2051\n",
      "City                                   0\n",
      "State                                  0\n",
      "ZIP                                    0\n",
      "Station Phone                         16\n",
      "Status Code                            0\n",
      "Groups With Access Code                0\n",
      "EV Level2 EVSE Num                   257\n",
      "EV DC Fast Count                    1817\n",
      "EV Network                             0\n",
      "Geocode Status                         0\n",
      "Latitude                               0\n",
      "Longitude                              0\n",
      "ID                                     0\n",
      "Updated At                             0\n",
      "Open Date                              1\n",
      "EV Connector Types                     0\n",
      "Country                                0\n",
      "Groups With Access Code (French)       0\n",
      "Access Code                            0\n",
      "Access Detail Code                  2040\n",
      "Facility Type                       1775\n",
      "EV Pricing                          1624\n",
      "EV On-Site Renewable Source         2130\n",
      "Restricted Access                   1819\n",
      "NPS Unit Name                       2134\n",
      "Maximum Vehicle Class               1885\n",
      "dtype: int64\n"
     ]
    }
   ],
   "source": [
    "# Check for missing values\n",
    "missing_values = fuel_stations.isnull().sum()\n",
    "print(\"Missing values:\\n\", missing_values)"
   ]
  },
  {
   "cell_type": "code",
   "execution_count": 13,
   "id": "7d73a2dd-700d-4a48-a2cd-daabc304e100",
   "metadata": {
    "tags": []
   },
   "outputs": [
    {
     "name": "stdout",
     "output_type": "stream",
     "text": [
      "Fuel Type Code                      0\n",
      "Station Name                        0\n",
      "Street Address                      0\n",
      "Intersection Directions             0\n",
      "City                                0\n",
      "State                               0\n",
      "ZIP                                 0\n",
      "Station Phone                       0\n",
      "Status Code                         0\n",
      "Groups With Access Code             0\n",
      "EV Level2 EVSE Num                  0\n",
      "EV DC Fast Count                    0\n",
      "EV Network                          0\n",
      "Geocode Status                      0\n",
      "Latitude                            0\n",
      "Longitude                           0\n",
      "ID                                  0\n",
      "Updated At                          0\n",
      "Open Date                           0\n",
      "EV Connector Types                  0\n",
      "Country                             0\n",
      "Groups With Access Code (French)    0\n",
      "Access Code                         0\n",
      "Access Detail Code                  0\n",
      "Facility Type                       0\n",
      "EV Pricing                          0\n",
      "EV On-Site Renewable Source         0\n",
      "Restricted Access                   0\n",
      "NPS Unit Name                       0\n",
      "Maximum Vehicle Class               0\n",
      "dtype: int64\n"
     ]
    }
   ],
   "source": [
    "# Filling missing values\n",
    "fuel_stations['Intersection Directions'].fillna('No directions provided', inplace=True)\n",
    "fuel_stations['Station Phone'].fillna('', inplace=True)\n",
    "\n",
    "median_ev_level2 = fuel_stations['EV Level2 EVSE Num'].median()\n",
    "fuel_stations['EV Level2 EVSE Num'].fillna(median_ev_level2, inplace=True)\n",
    "fuel_stations['EV DC Fast Count'].fillna(0, inplace=True)\n",
    "# most_recent_date = fuel_stations['Date Last Confirmed'].max()\n",
    "# fuel_stations['Date Last Confirmed'].fillna(most_recent_date, inplace=True)\n",
    "# fuel_stations['Owner Type Code'].fillna('Unknown', inplace=True)\n",
    "most_common_open_date = fuel_stations['Open Date'].mode()[0]\n",
    "fuel_stations['Open Date'].fillna(most_common_open_date, inplace=True)\n",
    "fuel_stations['Access Detail Code'].fillna('Not specified', inplace=True)\n",
    "fuel_stations['Facility Type'].fillna('Not specified', inplace=True)\n",
    "fuel_stations['EV Pricing'].fillna('Not specified', inplace=True)\n",
    "fuel_stations['EV On-Site Renewable Source'].fillna('Not specified', inplace=True)\n",
    "fuel_stations['Restricted Access'].fillna('Not specified', inplace=True)\n",
    "fuel_stations['NPS Unit Name'].fillna('Not specified', inplace=True)\n",
    "fuel_stations['Maximum Vehicle Class'].fillna('Not specified', inplace=True)\n",
    "print(fuel_stations.isnull().sum())\n"
   ]
  },
  {
   "cell_type": "code",
   "execution_count": 14,
   "id": "76ab7e2e-1066-47ea-84ab-4872cca34cd5",
   "metadata": {
    "tags": []
   },
   "outputs": [
    {
     "data": {
      "image/png": "[encoded data removed]",
      "text/plain": [
       "<Figure size 720x432 with 1 Axes>"
      ]
     },
     "metadata": {
      "needs_background": "light"
     },
     "output_type": "display_data"
    }
   ],
   "source": [
    "# Distribution of EV DC Fast Count\n",
    "plt.figure(figsize=(10, 6))\n",
    "sns.histplot(data=fuel_stations, x='EV DC Fast Count', bins=20)\n",
    "plt.title(\"Distribution of EV DC Fast Count\")\n",
    "plt.xlabel(\"EV DC Fast Count\")\n",
    "plt.ylabel(\"Frequency\")\n",
    "plt.show()"
   ]
  },
  {
   "cell_type": "code",
   "execution_count": 15,
   "id": "a98d2209-d1cb-4bac-a929-995220771c86",
   "metadata": {
    "tags": []
   },
   "outputs": [
    {
     "data": {
      "image/png": "[encoded data removed]",
      "text/plain": [
       "<Figure size 720x432 with 1 Axes>"
      ]
     },
     "metadata": {
      "needs_background": "light"
     },
     "output_type": "display_data"
    }
   ],
   "source": [
    "# Scatter plot of Latitude vs Longitude\n",
    "plt.figure(figsize=(10, 6))\n",
    "sns.scatterplot(data=fuel_stations, x='Longitude', y='Latitude')\n",
    "plt.title(\"Geographical Distribution of Stations\")\n",
    "plt.xlabel(\"Longitude\")\n",
    "plt.ylabel(\"Latitude\")\n",
    "plt.show()"
   ]
  },
  {
   "cell_type": "code",
   "execution_count": 16,
   "id": "b5c629c1-ed0b-4b5a-81ed-95fb833bfc16",
   "metadata": {
    "tags": []
   },
   "outputs": [
    {
     "data": {
      "image/png": "[encoded data removed]",
      "text/plain": [
       "<Figure size 720x432 with 1 Axes>"
      ]
     },
     "metadata": {
      "needs_background": "light"
     },
     "output_type": "display_data"
    }
   ],
   "source": [
    "# Geographical Distribution of Stations\n",
    "map_stations = folium.Map(location=[fuel_stations['Latitude'].mean(), fuel_stations['Longitude'].mean()], zoom_start=4)\n",
    "for _, station in fuel_stations.iterrows():\n",
    "    folium.Marker([station['Latitude'], station['Longitude']], popup=station['Station Name']).add_to(map_stations)\n",
    "map_stations.save('stations_map.html')\n",
    "\n",
    "# Fuel Type Distribution\n",
    "plt.figure(figsize=(10, 6))\n",
    "sns.countplot(x='Fuel Type Code', data=fuel_stations)\n",
    "plt.title(\"Distribution of Fuel Types\")\n",
    "plt.xlabel(\"Fuel Type\")\n",
    "plt.ylabel(\"Count\")\n",
    "plt.xticks(rotation=45)\n",
    "plt.show()"
   ]
  },
  {
   "cell_type": "code",
   "execution_count": 17,
   "id": "be6c8d22-4d65-4fe5-b6a9-fb6f07084542",
   "metadata": {
    "tags": []
   },
   "outputs": [
    {
     "data": {
      "image/png": "[encoded data removed]",
      "text/plain": [
       "<Figure size 720x432 with 1 Axes>"
      ]
     },
     "metadata": {
      "needs_background": "light"
     },
     "output_type": "display_data"
    }
   ],
   "source": [
    "# Station Status Distribution\n",
    "plt.figure(figsize=(10, 6))\n",
    "sns.countplot(x='Status Code', data=fuel_stations)\n",
    "plt.title(\"Distribution of Station Status\")\n",
    "plt.xlabel(\"Status\")\n",
    "plt.ylabel(\"Count\")\n",
    "plt.show()\n"
   ]
  },
  {
   "cell_type": "code",
   "execution_count": 18,
   "id": "a89c498b-39a4-49cb-bfb9-5802d246abe3",
   "metadata": {
    "tags": []
   },
   "outputs": [
    {
     "data": {
      "image/png": "[encoded data removed]",
      "text/plain": [
       "<Figure size 720x432 with 1 Axes>"
      ]
     },
     "metadata": {
      "needs_background": "light"
     },
     "output_type": "display_data"
    }
   ],
   "source": [
    "# Charging Infrastructure Analysis\n",
    "plt.figure(figsize=(10, 6))\n",
    "sns.scatterplot(x='EV Level2 EVSE Num', y='EV DC Fast Count', data=fuel_stations)\n",
    "plt.title(\"Charging Infrastructure Analysis\")\n",
    "plt.xlabel(\"EV Level2 EVSE Num\")\n",
    "plt.ylabel(\"EV DC Fast Count\")\n",
    "plt.show()"
   ]
  },
  {
   "cell_type": "markdown",
   "id": "b91d3daf-3723-4384-9284-6412cca3faac",
   "metadata": {},
   "source": [
    "### Handling the Outliers"
   ]
  },
  {
   "cell_type": "code",
   "execution_count": 19,
   "id": "00c88d48-fda8-471a-9293-955482a146a1",
   "metadata": {
    "tags": []
   },
   "outputs": [
    {
     "data": {
      "image/png": "[encoded data removed]",
      "text/plain": [
       "<Figure size 720x432 with 1 Axes>"
      ]
     },
     "metadata": {
      "needs_background": "light"
     },
     "output_type": "display_data"
    }
   ],
   "source": [
    "# Create a box plot for 'EV Level2 EVSE Num' and 'EV DC Fast Count'\n",
    "plt.figure(figsize=(10, 6))\n",
    "sns.boxplot(data=fuel_stations[['EV Level2 EVSE Num', 'EV DC Fast Count']])\n",
    "plt.title('Box Plot of EV Level2 EVSE Num and EV DC Fast Count')\n",
    "plt.xlabel('Features')\n",
    "plt.ylabel('Count')\n",
    "plt.show()"
   ]
  },
  {
   "cell_type": "code",
   "execution_count": 20,
   "id": "763156b3-cd9f-4098-8db9-510fe87ec9fd",
   "metadata": {
    "tags": []
   },
   "outputs": [
    {
     "data": {
      "text/html": [
       "<div>\n",
       "<style scoped>\n",
       "    .dataframe tbody tr th:only-of-type {\n",
       "        vertical-align: middle;\n",
       "    }\n",
       "\n",
       "    .dataframe tbody tr th {\n",
       "        vertical-align: top;\n",
       "    }\n",
       "\n",
       "    .dataframe thead th {\n",
       "        text-align: right;\n",
       "    }\n",
       "</style>\n",
       "<table border=\"1\" class=\"dataframe\">\n",
       "  <thead>\n",
       "    <tr style=\"text-align: right;\">\n",
       "      <th></th>\n",
       "      <th>EV Level2 EVSE Num</th>\n",
       "      <th>EV DC Fast Count</th>\n",
       "      <th>Latitude</th>\n",
       "      <th>Longitude</th>\n",
       "      <th>ID</th>\n",
       "    </tr>\n",
       "  </thead>\n",
       "  <tbody>\n",
       "    <tr>\n",
       "      <th>count</th>\n",
       "      <td>2138.000000</td>\n",
       "      <td>2138.000000</td>\n",
       "      <td>2138.000000</td>\n",
       "      <td>2138.000000</td>\n",
       "      <td>2138.000000</td>\n",
       "    </tr>\n",
       "    <tr>\n",
       "      <th>mean</th>\n",
       "      <td>2.292329</td>\n",
       "      <td>0.559401</td>\n",
       "      <td>47.452871</td>\n",
       "      <td>-121.855048</td>\n",
       "      <td>205771.521983</td>\n",
       "    </tr>\n",
       "    <tr>\n",
       "      <th>std</th>\n",
       "      <td>2.448945</td>\n",
       "      <td>2.008983</td>\n",
       "      <td>0.617638</td>\n",
       "      <td>1.452720</td>\n",
       "      <td>75149.374226</td>\n",
       "    </tr>\n",
       "    <tr>\n",
       "      <th>min</th>\n",
       "      <td>1.000000</td>\n",
       "      <td>0.000000</td>\n",
       "      <td>45.562567</td>\n",
       "      <td>-124.662924</td>\n",
       "      <td>33351.000000</td>\n",
       "    </tr>\n",
       "    <tr>\n",
       "      <th>25%</th>\n",
       "      <td>2.000000</td>\n",
       "      <td>0.000000</td>\n",
       "      <td>47.302726</td>\n",
       "      <td>-122.377587</td>\n",
       "      <td>162945.000000</td>\n",
       "    </tr>\n",
       "    <tr>\n",
       "      <th>50%</th>\n",
       "      <td>2.000000</td>\n",
       "      <td>0.000000</td>\n",
       "      <td>47.615515</td>\n",
       "      <td>-122.315505</td>\n",
       "      <td>197437.000000</td>\n",
       "    </tr>\n",
       "    <tr>\n",
       "      <th>75%</th>\n",
       "      <td>2.000000</td>\n",
       "      <td>0.000000</td>\n",
       "      <td>47.663247</td>\n",
       "      <td>-122.175931</td>\n",
       "      <td>259609.750000</td>\n",
       "    </tr>\n",
       "    <tr>\n",
       "      <th>max</th>\n",
       "      <td>68.000000</td>\n",
       "      <td>20.000000</td>\n",
       "      <td>48.995255</td>\n",
       "      <td>-117.043496</td>\n",
       "      <td>330712.000000</td>\n",
       "    </tr>\n",
       "  </tbody>\n",
       "</table>\n",
       "</div>"
      ],
      "text/plain": [
       "       EV Level2 EVSE Num  EV DC Fast Count     Latitude    Longitude  \\\n",
       "count         2138.000000       2138.000000  2138.000000  2138.000000   \n",
       "mean             2.292329          0.559401    47.452871  -121.855048   \n",
       "std              2.448945          2.008983     0.617638     1.452720   \n",
       "min              1.000000          0.000000    45.562567  -124.662924   \n",
       "25%              2.000000          0.000000    47.302726  -122.377587   \n",
       "50%              2.000000          0.000000    47.615515  -122.315505   \n",
       "75%              2.000000          0.000000    47.663247  -122.175931   \n",
       "max             68.000000         20.000000    48.995255  -117.043496   \n",
       "\n",
       "                  ID  \n",
       "count    2138.000000  \n",
       "mean   205771.521983  \n",
       "std     75149.374226  \n",
       "min     33351.000000  \n",
       "25%    162945.000000  \n",
       "50%    197437.000000  \n",
       "75%    259609.750000  \n",
       "max    330712.000000  "
      ]
     },
     "execution_count": 20,
     "metadata": {},
     "output_type": "execute_result"
    }
   ],
   "source": [
    "fuel_stations.describe()"
   ]
  },
  {
   "cell_type": "code",
   "execution_count": null,
   "id": "0ea78743-ee4b-40ba-9f1b-37db66930b2d",
   "metadata": {},
   "outputs": [],
   "source": []
  },
  {
   "cell_type": "markdown",
   "id": "8ec6923a-4344-4f04-8682-e8026d4a189d",
   "metadata": {},
   "source": [
    "### Electric Vehicles Population:"
   ]
  },
  {
   "cell_type": "code",
   "execution_count": 21,
   "id": "707b0986-58dc-42e3-9ec9-848854ca8f68",
   "metadata": {
    "tags": []
   },
   "outputs": [
    {
     "name": "stdout",
     "output_type": "stream",
     "text": [
      "The display for the Electric Vehicles Population Data\n"
     ]
    },
    {
     "data": {
      "text/html": [
       "<div>\n",
       "<style scoped>\n",
       "    .dataframe tbody tr th:only-of-type {\n",
       "        vertical-align: middle;\n",
       "    }\n",
       "\n",
       "    .dataframe tbody tr th {\n",
       "        vertical-align: top;\n",
       "    }\n",
       "\n",
       "    .dataframe thead th {\n",
       "        text-align: right;\n",
       "    }\n",
       "</style>\n",
       "<table border=\"1\" class=\"dataframe\">\n",
       "  <thead>\n",
       "    <tr style=\"text-align: right;\">\n",
       "      <th></th>\n",
       "      <th>VIN (1-10)</th>\n",
       "      <th>County</th>\n",
       "      <th>City</th>\n",
       "      <th>State</th>\n",
       "      <th>Postal Code</th>\n",
       "      <th>Model Year</th>\n",
       "      <th>Make</th>\n",
       "      <th>Model</th>\n",
       "      <th>Electric Vehicle Type</th>\n",
       "      <th>Clean Alternative Fuel Vehicle (CAFV) Eligibility</th>\n",
       "      <th>Electric Range</th>\n",
       "      <th>Base MSRP</th>\n",
       "      <th>Legislative District</th>\n",
       "      <th>DOL Vehicle ID</th>\n",
       "      <th>Vehicle Location</th>\n",
       "      <th>Electric Utility</th>\n",
       "      <th>2020 Census Tract</th>\n",
       "    </tr>\n",
       "  </thead>\n",
       "  <tbody>\n",
       "    <tr>\n",
       "      <th>0</th>\n",
       "      <td>5UXKT0C59G</td>\n",
       "      <td>Yakima</td>\n",
       "      <td>Zillah</td>\n",
       "      <td>WA</td>\n",
       "      <td>98953.0</td>\n",
       "      <td>2016</td>\n",
       "      <td>BMW</td>\n",
       "      <td>X5</td>\n",
       "      <td>Plug-in Hybrid Electric Vehicle (PHEV)</td>\n",
       "      <td>Not eligible due to low battery range</td>\n",
       "      <td>14.0</td>\n",
       "      <td>0.0</td>\n",
       "      <td>15.0</td>\n",
       "      <td>206822717</td>\n",
       "      <td>POINT (-120.26317 46.40556)</td>\n",
       "      <td>PACIFICORP</td>\n",
       "      <td>5.307700e+10</td>\n",
       "    </tr>\n",
       "    <tr>\n",
       "      <th>1</th>\n",
       "      <td>5YJ3E1EA2J</td>\n",
       "      <td>Snohomish</td>\n",
       "      <td>Edmonds</td>\n",
       "      <td>WA</td>\n",
       "      <td>98020.0</td>\n",
       "      <td>2018</td>\n",
       "      <td>TESLA</td>\n",
       "      <td>MODEL 3</td>\n",
       "      <td>Battery Electric Vehicle (BEV)</td>\n",
       "      <td>Clean Alternative Fuel Vehicle Eligible</td>\n",
       "      <td>215.0</td>\n",
       "      <td>0.0</td>\n",
       "      <td>21.0</td>\n",
       "      <td>137721636</td>\n",
       "      <td>POINT (-122.37507 47.80807)</td>\n",
       "      <td>PUGET SOUND ENERGY INC</td>\n",
       "      <td>5.306105e+10</td>\n",
       "    </tr>\n",
       "    <tr>\n",
       "      <th>2</th>\n",
       "      <td>1G1RE6E4XE</td>\n",
       "      <td>Kitsap</td>\n",
       "      <td>Port Orchard</td>\n",
       "      <td>WA</td>\n",
       "      <td>98367.0</td>\n",
       "      <td>2014</td>\n",
       "      <td>CHEVROLET</td>\n",
       "      <td>VOLT</td>\n",
       "      <td>Plug-in Hybrid Electric Vehicle (PHEV)</td>\n",
       "      <td>Clean Alternative Fuel Vehicle Eligible</td>\n",
       "      <td>38.0</td>\n",
       "      <td>0.0</td>\n",
       "      <td>26.0</td>\n",
       "      <td>197718468</td>\n",
       "      <td>POINT (-122.6847073 47.50524)</td>\n",
       "      <td>PUGET SOUND ENERGY INC</td>\n",
       "      <td>5.303509e+10</td>\n",
       "    </tr>\n",
       "  </tbody>\n",
       "</table>\n",
       "</div>"
      ],
      "text/plain": [
       "   VIN (1-10)     County          City State  Postal Code  Model Year  \\\n",
       "0  5UXKT0C59G     Yakima        Zillah    WA      98953.0        2016   \n",
       "1  5YJ3E1EA2J  Snohomish       Edmonds    WA      98020.0        2018   \n",
       "2  1G1RE6E4XE     Kitsap  Port Orchard    WA      98367.0        2014   \n",
       "\n",
       "        Make    Model                   Electric Vehicle Type  \\\n",
       "0        BMW       X5  Plug-in Hybrid Electric Vehicle (PHEV)   \n",
       "1      TESLA  MODEL 3          Battery Electric Vehicle (BEV)   \n",
       "2  CHEVROLET     VOLT  Plug-in Hybrid Electric Vehicle (PHEV)   \n",
       "\n",
       "  Clean Alternative Fuel Vehicle (CAFV) Eligibility  Electric Range  \\\n",
       "0             Not eligible due to low battery range            14.0   \n",
       "1           Clean Alternative Fuel Vehicle Eligible           215.0   \n",
       "2           Clean Alternative Fuel Vehicle Eligible            38.0   \n",
       "\n",
       "   Base MSRP  Legislative District  DOL Vehicle ID  \\\n",
       "0        0.0                  15.0       206822717   \n",
       "1        0.0                  21.0       137721636   \n",
       "2        0.0                  26.0       197718468   \n",
       "\n",
       "                Vehicle Location        Electric Utility  2020 Census Tract  \n",
       "0    POINT (-120.26317 46.40556)              PACIFICORP       5.307700e+10  \n",
       "1    POINT (-122.37507 47.80807)  PUGET SOUND ENERGY INC       5.306105e+10  \n",
       "2  POINT (-122.6847073 47.50524)  PUGET SOUND ENERGY INC       5.303509e+10  "
      ]
     },
     "execution_count": 21,
     "metadata": {},
     "output_type": "execute_result"
    }
   ],
   "source": [
    "print(\"The display for the Electric Vehicles Population Data\")\n",
    "ev_population.head(3)"
   ]
  },
  {
   "cell_type": "code",
   "execution_count": 22,
   "id": "d3b0936a-eaf7-4271-af33-5be545b22a3f",
   "metadata": {
    "tags": []
   },
   "outputs": [
    {
     "name": "stdout",
     "output_type": "stream",
     "text": [
      "Data Information:\n",
      "<class 'pandas.core.frame.DataFrame'>\n",
      "RangeIndex: 173533 entries, 0 to 173532\n",
      "Data columns (total 17 columns):\n",
      " #   Column                                             Non-Null Count   Dtype  \n",
      "---  ------                                             --------------   -----  \n",
      " 0   VIN (1-10)                                         173533 non-null  object \n",
      " 1   County                                             173528 non-null  object \n",
      " 2   City                                               173528 non-null  object \n",
      " 3   State                                              173533 non-null  object \n",
      " 4   Postal Code                                        173528 non-null  float64\n",
      " 5   Model Year                                         173533 non-null  int64  \n",
      " 6   Make                                               173533 non-null  object \n",
      " 7   Model                                              173533 non-null  object \n",
      " 8   Electric Vehicle Type                              173533 non-null  object \n",
      " 9   Clean Alternative Fuel Vehicle (CAFV) Eligibility  173533 non-null  object \n",
      " 10  Electric Range                                     173532 non-null  float64\n",
      " 11  Base MSRP                                          173532 non-null  float64\n",
      " 12  Legislative District                               173157 non-null  float64\n",
      " 13  DOL Vehicle ID                                     173533 non-null  int64  \n",
      " 14  Vehicle Location                                   173523 non-null  object \n",
      " 15  Electric Utility                                   173528 non-null  object \n",
      " 16  2020 Census Tract                                  173528 non-null  float64\n",
      "dtypes: float64(5), int64(2), object(10)\n",
      "memory usage: 22.5+ MB\n",
      "\n",
      "Summary Statistics for EV Population data:\n"
     ]
    },
    {
     "data": {
      "text/html": [
       "<div>\n",
       "<style scoped>\n",
       "    .dataframe tbody tr th:only-of-type {\n",
       "        vertical-align: middle;\n",
       "    }\n",
       "\n",
       "    .dataframe tbody tr th {\n",
       "        vertical-align: top;\n",
       "    }\n",
       "\n",
       "    .dataframe thead th {\n",
       "        text-align: right;\n",
       "    }\n",
       "</style>\n",
       "<table border=\"1\" class=\"dataframe\">\n",
       "  <thead>\n",
       "    <tr style=\"text-align: right;\">\n",
       "      <th></th>\n",
       "      <th>Postal Code</th>\n",
       "      <th>Model Year</th>\n",
       "      <th>Electric Range</th>\n",
       "      <th>Base MSRP</th>\n",
       "      <th>Legislative District</th>\n",
       "      <th>DOL Vehicle ID</th>\n",
       "      <th>2020 Census Tract</th>\n",
       "    </tr>\n",
       "  </thead>\n",
       "  <tbody>\n",
       "    <tr>\n",
       "      <th>count</th>\n",
       "      <td>173528.000000</td>\n",
       "      <td>173533.000000</td>\n",
       "      <td>173532.000000</td>\n",
       "      <td>173532.000000</td>\n",
       "      <td>173157.000000</td>\n",
       "      <td>1.735330e+05</td>\n",
       "      <td>1.735280e+05</td>\n",
       "    </tr>\n",
       "    <tr>\n",
       "      <th>mean</th>\n",
       "      <td>98174.746099</td>\n",
       "      <td>2020.435352</td>\n",
       "      <td>60.148002</td>\n",
       "      <td>1113.254472</td>\n",
       "      <td>29.146670</td>\n",
       "      <td>2.188134e+08</td>\n",
       "      <td>5.297739e+10</td>\n",
       "    </tr>\n",
       "    <tr>\n",
       "      <th>std</th>\n",
       "      <td>2411.109685</td>\n",
       "      <td>2.994442</td>\n",
       "      <td>92.644038</td>\n",
       "      <td>8513.543524</td>\n",
       "      <td>14.871778</td>\n",
       "      <td>7.658800e+07</td>\n",
       "      <td>1.567028e+09</td>\n",
       "    </tr>\n",
       "    <tr>\n",
       "      <th>min</th>\n",
       "      <td>1545.000000</td>\n",
       "      <td>1997.000000</td>\n",
       "      <td>0.000000</td>\n",
       "      <td>0.000000</td>\n",
       "      <td>1.000000</td>\n",
       "      <td>4.385000e+03</td>\n",
       "      <td>1.001020e+09</td>\n",
       "    </tr>\n",
       "    <tr>\n",
       "      <th>25%</th>\n",
       "      <td>98052.000000</td>\n",
       "      <td>2018.000000</td>\n",
       "      <td>0.000000</td>\n",
       "      <td>0.000000</td>\n",
       "      <td>18.000000</td>\n",
       "      <td>1.801662e+08</td>\n",
       "      <td>5.303301e+10</td>\n",
       "    </tr>\n",
       "    <tr>\n",
       "      <th>50%</th>\n",
       "      <td>98122.000000</td>\n",
       "      <td>2022.000000</td>\n",
       "      <td>0.000000</td>\n",
       "      <td>0.000000</td>\n",
       "      <td>33.000000</td>\n",
       "      <td>2.271021e+08</td>\n",
       "      <td>5.303303e+10</td>\n",
       "    </tr>\n",
       "    <tr>\n",
       "      <th>75%</th>\n",
       "      <td>98370.000000</td>\n",
       "      <td>2023.000000</td>\n",
       "      <td>83.000000</td>\n",
       "      <td>0.000000</td>\n",
       "      <td>42.000000</td>\n",
       "      <td>2.530049e+08</td>\n",
       "      <td>5.305307e+10</td>\n",
       "    </tr>\n",
       "    <tr>\n",
       "      <th>max</th>\n",
       "      <td>99577.000000</td>\n",
       "      <td>2024.000000</td>\n",
       "      <td>337.000000</td>\n",
       "      <td>845000.000000</td>\n",
       "      <td>49.000000</td>\n",
       "      <td>4.792548e+08</td>\n",
       "      <td>5.603300e+10</td>\n",
       "    </tr>\n",
       "  </tbody>\n",
       "</table>\n",
       "</div>"
      ],
      "text/plain": [
       "         Postal Code     Model Year  Electric Range      Base MSRP  \\\n",
       "count  173528.000000  173533.000000   173532.000000  173532.000000   \n",
       "mean    98174.746099    2020.435352       60.148002    1113.254472   \n",
       "std      2411.109685       2.994442       92.644038    8513.543524   \n",
       "min      1545.000000    1997.000000        0.000000       0.000000   \n",
       "25%     98052.000000    2018.000000        0.000000       0.000000   \n",
       "50%     98122.000000    2022.000000        0.000000       0.000000   \n",
       "75%     98370.000000    2023.000000       83.000000       0.000000   \n",
       "max     99577.000000    2024.000000      337.000000  845000.000000   \n",
       "\n",
       "       Legislative District  DOL Vehicle ID  2020 Census Tract  \n",
       "count         173157.000000    1.735330e+05       1.735280e+05  \n",
       "mean              29.146670    2.188134e+08       5.297739e+10  \n",
       "std               14.871778    7.658800e+07       1.567028e+09  \n",
       "min                1.000000    4.385000e+03       1.001020e+09  \n",
       "25%               18.000000    1.801662e+08       5.303301e+10  \n",
       "50%               33.000000    2.271021e+08       5.303303e+10  \n",
       "75%               42.000000    2.530049e+08       5.305307e+10  \n",
       "max               49.000000    4.792548e+08       5.603300e+10  "
      ]
     },
     "execution_count": 22,
     "metadata": {},
     "output_type": "execute_result"
    }
   ],
   "source": [
    "# 1. Data Info\n",
    "print(\"Data Information:\")\n",
    "ev_population.info()\n",
    "\n",
    "# 2. Summary Statistics\n",
    "print(\"\\nSummary Statistics for EV Population data:\")\n",
    "ev_population.describe()"
   ]
  },
  {
   "cell_type": "markdown",
   "id": "be646eb4-9998-4372-9303-00f4d3658b97",
   "metadata": {},
   "source": [
    "## Data cleaning"
   ]
  },
  {
   "cell_type": "code",
   "execution_count": 23,
   "id": "cf87f7df-328d-4b95-9a75-99056bec5d6c",
   "metadata": {
    "tags": []
   },
   "outputs": [
    {
     "name": "stdout",
     "output_type": "stream",
     "text": [
      "<class 'pandas.core.frame.DataFrame'>\n",
      "RangeIndex: 173151 entries, 0 to 173150\n",
      "Data columns (total 17 columns):\n",
      " #   Column                                             Non-Null Count   Dtype  \n",
      "---  ------                                             --------------   -----  \n",
      " 0   VIN (1-10)                                         173151 non-null  object \n",
      " 1   County                                             173151 non-null  object \n",
      " 2   City                                               173151 non-null  object \n",
      " 3   State                                              173151 non-null  object \n",
      " 4   Postal Code                                        173151 non-null  object \n",
      " 5   Model Year                                         173151 non-null  int64  \n",
      " 6   Make                                               173151 non-null  object \n",
      " 7   Model                                              173151 non-null  object \n",
      " 8   Electric Vehicle Type                              173151 non-null  object \n",
      " 9   Clean Alternative Fuel Vehicle (CAFV) Eligibility  173151 non-null  object \n",
      " 10  Electric Range                                     173151 non-null  float64\n",
      " 11  Base MSRP                                          173151 non-null  float64\n",
      " 12  Legislative District                               173151 non-null  int64  \n",
      " 13  DOL Vehicle ID                                     173151 non-null  int64  \n",
      " 14  Vehicle Location                                   173151 non-null  object \n",
      " 15  Electric Utility                                   173151 non-null  object \n",
      " 16  2020 Census Tract                                  173151 non-null  float64\n",
      "dtypes: float64(3), int64(3), object(11)\n",
      "memory usage: 22.5+ MB\n",
      "None\n"
     ]
    }
   ],
   "source": [
    "# Drop rows with missing values\n",
    "ev_population = ev_population.dropna()\n",
    "\n",
    "# Convert 'Postal Code' and 'Legislative District' to integer type\n",
    "ev_population['Postal Code'] = ev_population['Postal Code'].astype(str)\n",
    "ev_population['Legislative District'] = ev_population['Legislative District'].astype(int)\n",
    "\n",
    "# Remove leading/trailing whitespaces and convert text columns to lowercase\n",
    "ev_population['County'] = ev_population['County'].str.strip().str.lower()\n",
    "ev_population['City'] = ev_population['City'].str.strip().str.lower()\n",
    "ev_population['State'] = ev_population['State'].str.strip().str.lower()\n",
    "ev_population['Make'] = ev_population['Make'].str.strip().str.lower()\n",
    "ev_population['Model'] = ev_population['Model'].str.strip().str.lower()\n",
    "ev_population['Electric Vehicle Type'] = ev_population['Electric Vehicle Type'].str.strip().str.lower()\n",
    "ev_population['Clean Alternative Fuel Vehicle (CAFV) Eligibility'] = ev_population['Clean Alternative Fuel Vehicle (CAFV) Eligibility'].str.strip().str.lower()\n",
    "ev_population['Vehicle Location'] = ev_population['Vehicle Location'].str.strip().str.lower()\n",
    "ev_population['Electric Utility'] = ev_population['Electric Utility'].str.strip().str.lower()\n",
    "\n",
    "# Check for duplicate rows and drop them if necessary\n",
    "ev_population = ev_population.drop_duplicates()\n",
    "\n",
    "# Reset index after dropping rows\n",
    "ev_population.reset_index(drop=True, inplace=True)\n",
    "\n",
    "# Check the cleaned DataFrame\n",
    "print(ev_population.info())\n",
    "\n"
   ]
  },
  {
   "cell_type": "code",
   "execution_count": 24,
   "id": "188d8561-5a79-41eb-b74a-ab384098c5be",
   "metadata": {
    "tags": []
   },
   "outputs": [
    {
     "data": {
      "text/plain": [
       "VIN (1-10)                                           0\n",
       "County                                               0\n",
       "City                                                 0\n",
       "State                                                0\n",
       "Postal Code                                          0\n",
       "Model Year                                           0\n",
       "Make                                                 0\n",
       "Model                                                0\n",
       "Electric Vehicle Type                                0\n",
       "Clean Alternative Fuel Vehicle (CAFV) Eligibility    0\n",
       "Electric Range                                       0\n",
       "Base MSRP                                            0\n",
       "Legislative District                                 0\n",
       "DOL Vehicle ID                                       0\n",
       "Vehicle Location                                     0\n",
       "Electric Utility                                     0\n",
       "2020 Census Tract                                    0\n",
       "dtype: int64"
      ]
     },
     "execution_count": 24,
     "metadata": {},
     "output_type": "execute_result"
    }
   ],
   "source": [
    "# Check for missing data\n",
    "ev_population.isnull().sum()\n",
    "\n"
   ]
  },
  {
   "cell_type": "code",
   "execution_count": 25,
   "id": "bbc799a9-5230-41fe-a54e-58dac0a4333b",
   "metadata": {
    "tags": []
   },
   "outputs": [
    {
     "name": "stdout",
     "output_type": "stream",
     "text": [
      "\n",
      " Summary Statistics for Electric Vehicles Population data\n",
      "          Model Year  Electric Range      Base MSRP  Legislative District  \\\n",
      "count  173151.000000   173151.000000  173151.000000         173151.000000   \n",
      "mean     2020.436989       60.135304    1110.335747             29.146987   \n",
      "std         2.994179       92.640670    8501.184324             14.871933   \n",
      "min      1997.000000        0.000000       0.000000              1.000000   \n",
      "25%      2018.000000        0.000000       0.000000             18.000000   \n",
      "50%      2022.000000        0.000000       0.000000             33.000000   \n",
      "75%      2023.000000       83.000000       0.000000             42.000000   \n",
      "max      2024.000000      337.000000  845000.000000             49.000000   \n",
      "\n",
      "       DOL Vehicle ID  2020 Census Tract  \n",
      "count    1.731510e+05       1.731510e+05  \n",
      "mean     2.188368e+08       5.303982e+10  \n",
      "std      7.658982e+07       1.620477e+07  \n",
      "min      4.385000e+03       5.300195e+10  \n",
      "25%      1.802026e+08       5.303301e+10  \n",
      "50%      2.271138e+08       5.303303e+10  \n",
      "75%      2.530245e+08       5.305307e+10  \n",
      "max      4.792548e+08       5.307794e+10  \n"
     ]
    }
   ],
   "source": [
    "# Summary Statistics\n",
    "print(\"\\n Summary Statistics for Electric Vehicles Population data\")\n",
    "print(ev_population.describe())"
   ]
  },
  {
   "cell_type": "code",
   "execution_count": 26,
   "id": "f2870c07-1415-486b-bc43-507d314730ac",
   "metadata": {
    "tags": []
   },
   "outputs": [
    {
     "data": {
      "image/png": "[encoded data removed]",
      "text/plain": [
       "<Figure size 720x432 with 1 Axes>"
      ]
     },
     "metadata": {
      "needs_background": "light"
     },
     "output_type": "display_data"
    }
   ],
   "source": [
    "# Distribution of Model Year\n",
    "plt.figure(figsize=(10, 6))\n",
    "sns.histplot(ev_population['Model Year'], bins=20, kde=True)\n",
    "plt.title(\"Distribution of Model Year\")\n",
    "plt.xlabel(\"Model Year\")\n",
    "plt.ylabel(\"Frequency\")\n",
    "plt.show()\n"
   ]
  },
  {
   "cell_type": "code",
   "execution_count": 27,
   "id": "faff5a80-e1a7-4ed6-81d7-2ae9ef221495",
   "metadata": {
    "tags": []
   },
   "outputs": [
    {
     "data": {
      "image/png": "[encoded data removed]",
      "text/plain": [
       "<Figure size 720x432 with 1 Axes>"
      ]
     },
     "metadata": {
      "needs_background": "light"
     },
     "output_type": "display_data"
    }
   ],
   "source": [
    "# Distribution of Electric Range\n",
    "plt.figure(figsize=(10, 6))\n",
    "sns.histplot(ev_population['Electric Range'], bins=20, kde=True)\n",
    "plt.title(\"Distribution of Electric Range\")\n",
    "plt.xlabel(\"Electric Range\")\n",
    "plt.ylabel(\"Frequency\")\n",
    "plt.show()"
   ]
  },
  {
   "cell_type": "code",
   "execution_count": 28,
   "id": "06011a96-8357-43e8-a668-ed9891e6d231",
   "metadata": {
    "tags": []
   },
   "outputs": [
    {
     "data": {
      "image/png": "[encoded data removed]",
      "text/plain": [
       "<Figure size 720x432 with 1 Axes>"
      ]
     },
     "metadata": {
      "needs_background": "light"
     },
     "output_type": "display_data"
    }
   ],
   "source": [
    "# Distribution of Electric Vehicle Types\n",
    "plt.figure(figsize=(10, 6))\n",
    "sns.countplot(x='Electric Vehicle Type', data=ev_population)\n",
    "plt.title(\"Distribution of Electric Vehicle Types\")\n",
    "plt.xlabel(\"Electric Vehicle Type\")\n",
    "plt.ylabel(\"Count\")\n",
    "plt.xticks(rotation=45)\n",
    "plt.show()"
   ]
  },
  {
   "cell_type": "code",
   "execution_count": 29,
   "id": "c168d61d-f450-4fbd-9268-39a5d7635b21",
   "metadata": {
    "tags": []
   },
   "outputs": [
    {
     "data": {
      "image/png": "[encoded data removed]",
      "text/plain": [
       "<Figure size 864x576 with 1 Axes>"
      ]
     },
     "metadata": {
      "needs_background": "light"
     },
     "output_type": "display_data"
    }
   ],
   "source": [
    "# Relationship between Make and Electric Range\n",
    "plt.figure(figsize=(12, 8))\n",
    "sns.boxplot(x='Make', y='Electric Range', data=ev_population)\n",
    "plt.title(\"Relationship between Make and Electric Range\")\n",
    "plt.xlabel(\"Make\")\n",
    "plt.ylabel(\"Electric Range\")\n",
    "plt.xticks(rotation=90)\n",
    "plt.show()"
   ]
  },
  {
   "cell_type": "markdown",
   "id": "28ea6530-2a1a-4150-b572-2bdfa0a05bd8",
   "metadata": {},
   "source": [
    "### Electric Vehicles Registration:"
   ]
  },
  {
   "cell_type": "code",
   "execution_count": 30,
   "id": "017fa08a-ed37-47c6-ac13-651d8a4e9a1d",
   "metadata": {
    "tags": []
   },
   "outputs": [
    {
     "name": "stdout",
     "output_type": "stream",
     "text": [
      "The display for the Electric Vehicles Registration Data\n"
     ]
    },
    {
     "data": {
      "text/html": [
       "<div>\n",
       "<style scoped>\n",
       "    .dataframe tbody tr th:only-of-type {\n",
       "        vertical-align: middle;\n",
       "    }\n",
       "\n",
       "    .dataframe tbody tr th {\n",
       "        vertical-align: top;\n",
       "    }\n",
       "\n",
       "    .dataframe thead th {\n",
       "        text-align: right;\n",
       "    }\n",
       "</style>\n",
       "<table border=\"1\" class=\"dataframe\">\n",
       "  <thead>\n",
       "    <tr style=\"text-align: right;\">\n",
       "      <th></th>\n",
       "      <th>Clean Alternative Fuel Vehicle Type</th>\n",
       "      <th>VIN (1-10)</th>\n",
       "      <th>DOL Vehicle ID</th>\n",
       "      <th>Model Year</th>\n",
       "      <th>Make</th>\n",
       "      <th>Model</th>\n",
       "      <th>Vehicle Primary Use</th>\n",
       "      <th>Electric Range</th>\n",
       "      <th>Odometer Reading</th>\n",
       "      <th>Odometer Code</th>\n",
       "      <th>...</th>\n",
       "      <th>State of Residence</th>\n",
       "      <th>Postal Code</th>\n",
       "      <th>Meets 2019 HB 2042 Sale Price/Value Requirement</th>\n",
       "      <th>2019 HB 2042: Sale Price/Value Requirement</th>\n",
       "      <th>Electric Vehicle Fee Paid</th>\n",
       "      <th>Transportation Electrification Fee Paid</th>\n",
       "      <th>Hybrid Vehicle Electrification Fee Paid</th>\n",
       "      <th>2020 Census Tract</th>\n",
       "      <th>Legislative District</th>\n",
       "      <th>Electric Utility</th>\n",
       "    </tr>\n",
       "  </thead>\n",
       "  <tbody>\n",
       "    <tr>\n",
       "      <th>0</th>\n",
       "      <td>Battery Electric Vehicle (BEV)</td>\n",
       "      <td>5YJ3E1EA7J</td>\n",
       "      <td>231013436</td>\n",
       "      <td>2018</td>\n",
       "      <td>TESLA</td>\n",
       "      <td>Model 3</td>\n",
       "      <td>Passenger</td>\n",
       "      <td>215.0</td>\n",
       "      <td>0</td>\n",
       "      <td>Odometer reading is not collected at time of r...</td>\n",
       "      <td>...</td>\n",
       "      <td>WA</td>\n",
       "      <td>98033.0</td>\n",
       "      <td>False</td>\n",
       "      <td>This transaction type is not eligible for the ...</td>\n",
       "      <td>Yes</td>\n",
       "      <td>Yes</td>\n",
       "      <td>No</td>\n",
       "      <td>5.303302e+10</td>\n",
       "      <td>48.0</td>\n",
       "      <td>PUGET SOUND ENERGY INC||CITY OF TACOMA - (WA)</td>\n",
       "    </tr>\n",
       "    <tr>\n",
       "      <th>1</th>\n",
       "      <td>Battery Electric Vehicle (BEV)</td>\n",
       "      <td>5YJXCDE23H</td>\n",
       "      <td>149021127</td>\n",
       "      <td>2017</td>\n",
       "      <td>TESLA</td>\n",
       "      <td>Model X</td>\n",
       "      <td>Passenger</td>\n",
       "      <td>200.0</td>\n",
       "      <td>0</td>\n",
       "      <td>Odometer reading is not collected at time of r...</td>\n",
       "      <td>...</td>\n",
       "      <td>WA</td>\n",
       "      <td>98033.0</td>\n",
       "      <td>False</td>\n",
       "      <td>This transaction type is not eligible for the ...</td>\n",
       "      <td>Yes</td>\n",
       "      <td>Yes</td>\n",
       "      <td>No</td>\n",
       "      <td>5.303302e+10</td>\n",
       "      <td>48.0</td>\n",
       "      <td>PUGET SOUND ENERGY INC||CITY OF TACOMA - (WA)</td>\n",
       "    </tr>\n",
       "    <tr>\n",
       "      <th>2</th>\n",
       "      <td>Battery Electric Vehicle (BEV)</td>\n",
       "      <td>1N4BZ0CP5H</td>\n",
       "      <td>325665931</td>\n",
       "      <td>2017</td>\n",
       "      <td>NISSAN</td>\n",
       "      <td>Leaf</td>\n",
       "      <td>Passenger</td>\n",
       "      <td>107.0</td>\n",
       "      <td>0</td>\n",
       "      <td>Odometer reading is not collected at time of r...</td>\n",
       "      <td>...</td>\n",
       "      <td>WA</td>\n",
       "      <td>98033.0</td>\n",
       "      <td>False</td>\n",
       "      <td>This transaction type is not eligible for the ...</td>\n",
       "      <td>Yes</td>\n",
       "      <td>No</td>\n",
       "      <td>No</td>\n",
       "      <td>5.303302e+10</td>\n",
       "      <td>48.0</td>\n",
       "      <td>PUGET SOUND ENERGY INC||CITY OF TACOMA - (WA)</td>\n",
       "    </tr>\n",
       "  </tbody>\n",
       "</table>\n",
       "<p>3 rows × 29 columns</p>\n",
       "</div>"
      ],
      "text/plain": [
       "  Clean Alternative Fuel Vehicle Type  VIN (1-10)  DOL Vehicle ID  Model Year  \\\n",
       "0      Battery Electric Vehicle (BEV)  5YJ3E1EA7J       231013436        2018   \n",
       "1      Battery Electric Vehicle (BEV)  5YJXCDE23H       149021127        2017   \n",
       "2      Battery Electric Vehicle (BEV)  1N4BZ0CP5H       325665931        2017   \n",
       "\n",
       "     Make    Model Vehicle Primary Use  Electric Range  Odometer Reading  \\\n",
       "0   TESLA  Model 3           Passenger           215.0                 0   \n",
       "1   TESLA  Model X           Passenger           200.0                 0   \n",
       "2  NISSAN     Leaf           Passenger           107.0                 0   \n",
       "\n",
       "                                       Odometer Code  ... State of Residence  \\\n",
       "0  Odometer reading is not collected at time of r...  ...                 WA   \n",
       "1  Odometer reading is not collected at time of r...  ...                 WA   \n",
       "2  Odometer reading is not collected at time of r...  ...                 WA   \n",
       "\n",
       "   Postal Code Meets 2019 HB 2042 Sale Price/Value Requirement  \\\n",
       "0      98033.0                                           False   \n",
       "1      98033.0                                           False   \n",
       "2      98033.0                                           False   \n",
       "\n",
       "          2019 HB 2042: Sale Price/Value Requirement  \\\n",
       "0  This transaction type is not eligible for the ...   \n",
       "1  This transaction type is not eligible for the ...   \n",
       "2  This transaction type is not eligible for the ...   \n",
       "\n",
       "  Electric Vehicle Fee Paid Transportation Electrification Fee Paid  \\\n",
       "0                       Yes                                     Yes   \n",
       "1                       Yes                                     Yes   \n",
       "2                       Yes                                      No   \n",
       "\n",
       "   Hybrid Vehicle Electrification Fee Paid 2020 Census Tract  \\\n",
       "0                                       No      5.303302e+10   \n",
       "1                                       No      5.303302e+10   \n",
       "2                                       No      5.303302e+10   \n",
       "\n",
       "  Legislative District                               Electric Utility  \n",
       "0                 48.0  PUGET SOUND ENERGY INC||CITY OF TACOMA - (WA)  \n",
       "1                 48.0  PUGET SOUND ENERGY INC||CITY OF TACOMA - (WA)  \n",
       "2                 48.0  PUGET SOUND ENERGY INC||CITY OF TACOMA - (WA)  \n",
       "\n",
       "[3 rows x 29 columns]"
      ]
     },
     "execution_count": 30,
     "metadata": {},
     "output_type": "execute_result"
    }
   ],
   "source": [
    "print(\"The display for the Electric Vehicles Registration Data\")\n",
    "ev_registration.head(3)"
   ]
  },
  {
   "cell_type": "code",
   "execution_count": 31,
   "id": "ac0e6986-7c6e-4b0c-aef9-a9a62d5fcb0d",
   "metadata": {
    "tags": []
   },
   "outputs": [
    {
     "name": "stdout",
     "output_type": "stream",
     "text": [
      " Data Information\n",
      "<class 'pandas.core.frame.DataFrame'>\n",
      "RangeIndex: 924803 entries, 0 to 924802\n",
      "Data columns (total 29 columns):\n",
      " #   Column                                           Non-Null Count   Dtype  \n",
      "---  ------                                           --------------   -----  \n",
      " 0   Clean Alternative Fuel Vehicle Type              924803 non-null  object \n",
      " 1   VIN (1-10)                                       924803 non-null  object \n",
      " 2   DOL Vehicle ID                                   924803 non-null  int64  \n",
      " 3   Model Year                                       924803 non-null  int64  \n",
      " 4   Make                                             924803 non-null  object \n",
      " 5   Model                                            924803 non-null  object \n",
      " 6   Vehicle Primary Use                              924803 non-null  object \n",
      " 7   Electric Range                                   924801 non-null  float64\n",
      " 8   Odometer Reading                                 924803 non-null  int64  \n",
      " 9   Odometer Code                                    924803 non-null  object \n",
      " 10  New or Used Vehicle                              924803 non-null  object \n",
      " 11  Sale Price                                       924803 non-null  int64  \n",
      " 12  Sale Date                                        274289 non-null  object \n",
      " 13  Base MSRP                                        924801 non-null  float64\n",
      " 14  Transaction Type                                 924803 non-null  object \n",
      " 15  DOL Transaction Date                             924803 non-null  object \n",
      " 16  Transaction Year                                 924803 non-null  int64  \n",
      " 17  County                                           924754 non-null  object \n",
      " 18  City                                             924715 non-null  object \n",
      " 19  State of Residence                               924802 non-null  object \n",
      " 20  Postal Code                                      924741 non-null  float64\n",
      " 21  Meets 2019 HB 2042 Sale Price/Value Requirement  924803 non-null  bool   \n",
      " 22  2019 HB 2042: Sale Price/Value Requirement       924803 non-null  object \n",
      " 23  Electric Vehicle Fee Paid                        924803 non-null  object \n",
      " 24  Transportation Electrification Fee Paid          833772 non-null  object \n",
      " 25  Hybrid Vehicle Electrification Fee Paid          833772 non-null  object \n",
      " 26  2020 Census Tract                                924754 non-null  float64\n",
      " 27  Legislative District                             921613 non-null  float64\n",
      " 28  Electric Utility                                 924754 non-null  object \n",
      "dtypes: bool(1), float64(5), int64(5), object(18)\n",
      "memory usage: 198.4+ MB\n",
      "\n",
      " Summary Statistics for Electric Vehicles Registration data\n"
     ]
    },
    {
     "data": {
      "text/html": [
       "<div>\n",
       "<style scoped>\n",
       "    .dataframe tbody tr th:only-of-type {\n",
       "        vertical-align: middle;\n",
       "    }\n",
       "\n",
       "    .dataframe tbody tr th {\n",
       "        vertical-align: top;\n",
       "    }\n",
       "\n",
       "    .dataframe thead th {\n",
       "        text-align: right;\n",
       "    }\n",
       "</style>\n",
       "<table border=\"1\" class=\"dataframe\">\n",
       "  <thead>\n",
       "    <tr style=\"text-align: right;\">\n",
       "      <th></th>\n",
       "      <th>DOL Vehicle ID</th>\n",
       "      <th>Model Year</th>\n",
       "      <th>Electric Range</th>\n",
       "      <th>Odometer Reading</th>\n",
       "      <th>Sale Price</th>\n",
       "      <th>Base MSRP</th>\n",
       "      <th>Transaction Year</th>\n",
       "      <th>Postal Code</th>\n",
       "      <th>2020 Census Tract</th>\n",
       "      <th>Legislative District</th>\n",
       "    </tr>\n",
       "  </thead>\n",
       "  <tbody>\n",
       "    <tr>\n",
       "      <th>count</th>\n",
       "      <td>9.248030e+05</td>\n",
       "      <td>924803.000000</td>\n",
       "      <td>924801.000000</td>\n",
       "      <td>924803.000000</td>\n",
       "      <td>9.248030e+05</td>\n",
       "      <td>924801.000000</td>\n",
       "      <td>924803.000000</td>\n",
       "      <td>924741.000000</td>\n",
       "      <td>9.247540e+05</td>\n",
       "      <td>921613.000000</td>\n",
       "    </tr>\n",
       "    <tr>\n",
       "      <th>mean</th>\n",
       "      <td>2.087825e+08</td>\n",
       "      <td>2018.323074</td>\n",
       "      <td>87.554102</td>\n",
       "      <td>2867.602018</td>\n",
       "      <td>1.138436e+04</td>\n",
       "      <td>2621.287726</td>\n",
       "      <td>2020.506160</td>\n",
       "      <td>98126.927385</td>\n",
       "      <td>5.294411e+10</td>\n",
       "      <td>29.877476</td>\n",
       "    </tr>\n",
       "    <tr>\n",
       "      <th>std</th>\n",
       "      <td>9.524541e+07</td>\n",
       "      <td>3.521393</td>\n",
       "      <td>95.520694</td>\n",
       "      <td>11974.663842</td>\n",
       "      <td>3.224411e+04</td>\n",
       "      <td>13156.193703</td>\n",
       "      <td>2.709137</td>\n",
       "      <td>2859.645490</td>\n",
       "      <td>1.924420e+09</td>\n",
       "      <td>14.781102</td>\n",
       "    </tr>\n",
       "    <tr>\n",
       "      <th>min</th>\n",
       "      <td>4.000000e+00</td>\n",
       "      <td>1993.000000</td>\n",
       "      <td>0.000000</td>\n",
       "      <td>0.000000</td>\n",
       "      <td>0.000000e+00</td>\n",
       "      <td>0.000000</td>\n",
       "      <td>2010.000000</td>\n",
       "      <td>745.000000</td>\n",
       "      <td>1.001020e+09</td>\n",
       "      <td>1.000000</td>\n",
       "    </tr>\n",
       "    <tr>\n",
       "      <th>25%</th>\n",
       "      <td>1.489764e+08</td>\n",
       "      <td>2016.000000</td>\n",
       "      <td>0.000000</td>\n",
       "      <td>0.000000</td>\n",
       "      <td>0.000000e+00</td>\n",
       "      <td>0.000000</td>\n",
       "      <td>2019.000000</td>\n",
       "      <td>98052.000000</td>\n",
       "      <td>5.303301e+10</td>\n",
       "      <td>18.000000</td>\n",
       "    </tr>\n",
       "    <tr>\n",
       "      <th>50%</th>\n",
       "      <td>2.039975e+08</td>\n",
       "      <td>2018.000000</td>\n",
       "      <td>47.000000</td>\n",
       "      <td>0.000000</td>\n",
       "      <td>0.000000e+00</td>\n",
       "      <td>0.000000</td>\n",
       "      <td>2021.000000</td>\n",
       "      <td>98118.000000</td>\n",
       "      <td>5.303303e+10</td>\n",
       "      <td>34.000000</td>\n",
       "    </tr>\n",
       "    <tr>\n",
       "      <th>75%</th>\n",
       "      <td>2.499224e+08</td>\n",
       "      <td>2022.000000</td>\n",
       "      <td>200.000000</td>\n",
       "      <td>15.000000</td>\n",
       "      <td>0.000000e+00</td>\n",
       "      <td>0.000000</td>\n",
       "      <td>2023.000000</td>\n",
       "      <td>98366.000000</td>\n",
       "      <td>5.305307e+10</td>\n",
       "      <td>43.000000</td>\n",
       "    </tr>\n",
       "    <tr>\n",
       "      <th>max</th>\n",
       "      <td>4.792548e+08</td>\n",
       "      <td>2024.000000</td>\n",
       "      <td>337.000000</td>\n",
       "      <td>962619.000000</td>\n",
       "      <td>1.231202e+07</td>\n",
       "      <td>845000.000000</td>\n",
       "      <td>2024.000000</td>\n",
       "      <td>99901.000000</td>\n",
       "      <td>7.211913e+10</td>\n",
       "      <td>49.000000</td>\n",
       "    </tr>\n",
       "  </tbody>\n",
       "</table>\n",
       "</div>"
      ],
      "text/plain": [
       "       DOL Vehicle ID     Model Year  Electric Range  Odometer Reading  \\\n",
       "count    9.248030e+05  924803.000000   924801.000000     924803.000000   \n",
       "mean     2.087825e+08    2018.323074       87.554102       2867.602018   \n",
       "std      9.524541e+07       3.521393       95.520694      11974.663842   \n",
       "min      4.000000e+00    1993.000000        0.000000          0.000000   \n",
       "25%      1.489764e+08    2016.000000        0.000000          0.000000   \n",
       "50%      2.039975e+08    2018.000000       47.000000          0.000000   \n",
       "75%      2.499224e+08    2022.000000      200.000000         15.000000   \n",
       "max      4.792548e+08    2024.000000      337.000000     962619.000000   \n",
       "\n",
       "         Sale Price      Base MSRP  Transaction Year    Postal Code  \\\n",
       "count  9.248030e+05  924801.000000     924803.000000  924741.000000   \n",
       "mean   1.138436e+04    2621.287726       2020.506160   98126.927385   \n",
       "std    3.224411e+04   13156.193703          2.709137    2859.645490   \n",
       "min    0.000000e+00       0.000000       2010.000000     745.000000   \n",
       "25%    0.000000e+00       0.000000       2019.000000   98052.000000   \n",
       "50%    0.000000e+00       0.000000       2021.000000   98118.000000   \n",
       "75%    0.000000e+00       0.000000       2023.000000   98366.000000   \n",
       "max    1.231202e+07  845000.000000       2024.000000   99901.000000   \n",
       "\n",
       "       2020 Census Tract  Legislative District  \n",
       "count       9.247540e+05         921613.000000  \n",
       "mean        5.294411e+10             29.877476  \n",
       "std         1.924420e+09             14.781102  \n",
       "min         1.001020e+09              1.000000  \n",
       "25%         5.303301e+10             18.000000  \n",
       "50%         5.303303e+10             34.000000  \n",
       "75%         5.305307e+10             43.000000  \n",
       "max         7.211913e+10             49.000000  "
      ]
     },
     "execution_count": 31,
     "metadata": {},
     "output_type": "execute_result"
    }
   ],
   "source": [
    "# 1. Data Info\n",
    "print(\" Data Information\")\n",
    "ev_registration.info()\n",
    "\n",
    "# 2. Summary Statistics\n",
    "print(\"\\n Summary Statistics for Electric Vehicles Registration data\")\n",
    "ev_registration.describe()"
   ]
  },
  {
   "cell_type": "markdown",
   "id": "23f052fa-848c-47fb-8433-4c933258d6e4",
   "metadata": {},
   "source": [
    "## Data Cleaning "
   ]
  },
  {
   "cell_type": "code",
   "execution_count": 32,
   "id": "4db67efe-c814-439b-b4df-3a26c5526020",
   "metadata": {
    "tags": []
   },
   "outputs": [
    {
     "name": "stdout",
     "output_type": "stream",
     "text": [
      "<class 'pandas.core.frame.DataFrame'>\n",
      "RangeIndex: 223329 entries, 0 to 223328\n",
      "Data columns (total 29 columns):\n",
      " #   Column                                           Non-Null Count   Dtype  \n",
      "---  ------                                           --------------   -----  \n",
      " 0   Clean Alternative Fuel Vehicle Type              223329 non-null  object \n",
      " 1   VIN (1-10)                                       223329 non-null  object \n",
      " 2   DOL Vehicle ID                                   223329 non-null  int64  \n",
      " 3   Model Year                                       223329 non-null  int64  \n",
      " 4   Make                                             223329 non-null  object \n",
      " 5   Model                                            223329 non-null  object \n",
      " 6   Vehicle Primary Use                              223329 non-null  object \n",
      " 7   Electric Range                                   223329 non-null  float64\n",
      " 8   Odometer Reading                                 223329 non-null  int64  \n",
      " 9   Odometer Code                                    223329 non-null  object \n",
      " 10  New or Used Vehicle                              223329 non-null  object \n",
      " 11  Sale Price                                       223329 non-null  int64  \n",
      " 12  Sale Date                                        223329 non-null  object \n",
      " 13  Base MSRP                                        223329 non-null  float64\n",
      " 14  Transaction Type                                 223329 non-null  object \n",
      " 15  DOL Transaction Date                             223329 non-null  object \n",
      " 16  Transaction Year                                 223329 non-null  int64  \n",
      " 17  County                                           223329 non-null  object \n",
      " 18  City                                             223329 non-null  object \n",
      " 19  State of Residence                               223329 non-null  object \n",
      " 20  Postal Code                                      223329 non-null  int64  \n",
      " 21  Meets 2019 HB 2042 Sale Price/Value Requirement  223329 non-null  bool   \n",
      " 22  2019 HB 2042: Sale Price/Value Requirement       223329 non-null  object \n",
      " 23  Electric Vehicle Fee Paid                        223329 non-null  object \n",
      " 24  Transportation Electrification Fee Paid          223329 non-null  object \n",
      " 25  Hybrid Vehicle Electrification Fee Paid          223329 non-null  object \n",
      " 26  2020 Census Tract                                223329 non-null  float64\n",
      " 27  Legislative District                             223329 non-null  int64  \n",
      " 28  Electric Utility                                 223329 non-null  object \n",
      "dtypes: bool(1), float64(3), int64(7), object(18)\n",
      "memory usage: 47.9+ MB\n",
      "None\n"
     ]
    }
   ],
   "source": [
    "# Drop rows with missing values\n",
    "ev_registration = ev_registration.dropna()\n",
    "\n",
    "# Convert 'Postal Code' and 'Legislative District' to integer type\n",
    "ev_registration['Postal Code'] = ev_registration['Postal Code'].astype(int)\n",
    "ev_registration['Legislative District'] = ev_registration['Legislative District'].astype(int)\n",
    "\n",
    "# Remove leading/trailing whitespaces and convert text columns to lowercase\n",
    "ev_registration['County'] = ev_registration['County'].str.strip().str.lower()\n",
    "ev_registration['City'] = ev_registration['City'].str.strip().str.lower()\n",
    "ev_registration['State of Residence'] = ev_registration['State of Residence'].str.strip().str.lower()\n",
    "ev_registration['Make'] = ev_registration['Make'].str.strip().str.lower()\n",
    "ev_registration['Model'] = ev_registration['Model'].str.strip().str.lower()\n",
    "ev_registration['Vehicle Primary Use'] = ev_registration['Vehicle Primary Use'].str.strip().str.lower()\n",
    "ev_registration['Transaction Type'] = ev_registration['Transaction Type'].str.strip().str.lower()\n",
    "ev_registration['Electric Utility'] = ev_registration['Electric Utility'].str.strip().str.lower()\n",
    "\n",
    "# Check for duplicate rows and drop them if necessary\n",
    "ev_registration = ev_registration.drop_duplicates()\n",
    "\n",
    "# Reset index after dropping rows\n",
    "ev_registration.reset_index(drop=True, inplace=True)\n",
    "\n",
    "# Check the cleaned DataFrame\n",
    "print(ev_registration.info())"
   ]
  },
  {
   "cell_type": "code",
   "execution_count": 33,
   "id": "a182fe3a-8bc9-4ea8-89ca-54b79fea642b",
   "metadata": {
    "tags": []
   },
   "outputs": [
    {
     "data": {
      "text/plain": [
       "Clean Alternative Fuel Vehicle Type                0\n",
       "VIN (1-10)                                         0\n",
       "DOL Vehicle ID                                     0\n",
       "Model Year                                         0\n",
       "Make                                               0\n",
       "Model                                              0\n",
       "Vehicle Primary Use                                0\n",
       "Electric Range                                     0\n",
       "Odometer Reading                                   0\n",
       "Odometer Code                                      0\n",
       "New or Used Vehicle                                0\n",
       "Sale Price                                         0\n",
       "Sale Date                                          0\n",
       "Base MSRP                                          0\n",
       "Transaction Type                                   0\n",
       "DOL Transaction Date                               0\n",
       "Transaction Year                                   0\n",
       "County                                             0\n",
       "City                                               0\n",
       "State of Residence                                 0\n",
       "Postal Code                                        0\n",
       "Meets 2019 HB 2042 Sale Price/Value Requirement    0\n",
       "2019 HB 2042: Sale Price/Value Requirement         0\n",
       "Electric Vehicle Fee Paid                          0\n",
       "Transportation Electrification Fee Paid            0\n",
       "Hybrid Vehicle Electrification Fee Paid            0\n",
       "2020 Census Tract                                  0\n",
       "Legislative District                               0\n",
       "Electric Utility                                   0\n",
       "dtype: int64"
      ]
     },
     "execution_count": 33,
     "metadata": {},
     "output_type": "execute_result"
    }
   ],
   "source": [
    "# Check for missing data\n",
    "ev_registration.isnull().sum()"
   ]
  },
  {
   "cell_type": "code",
   "execution_count": 34,
   "id": "48baf2d3-79f2-4075-b5ef-d26b82c18a66",
   "metadata": {
    "tags": []
   },
   "outputs": [
    {
     "name": "stdout",
     "output_type": "stream",
     "text": [
      "<class 'pandas.core.frame.DataFrame'>\n",
      "RangeIndex: 223329 entries, 0 to 223328\n",
      "Data columns (total 26 columns):\n",
      " #   Column                                           Non-Null Count   Dtype  \n",
      "---  ------                                           --------------   -----  \n",
      " 0   Clean Alternative Fuel Vehicle Type              223329 non-null  object \n",
      " 1   VIN (1-10)                                       223329 non-null  object \n",
      " 2   DOL Vehicle ID                                   223329 non-null  int64  \n",
      " 3   Model Year                                       223329 non-null  int64  \n",
      " 4   Make                                             223329 non-null  object \n",
      " 5   Model                                            223329 non-null  object \n",
      " 6   Vehicle Primary Use                              223329 non-null  object \n",
      " 7   Electric Range                                   223329 non-null  float64\n",
      " 8   Odometer Reading                                 223329 non-null  int64  \n",
      " 9   Odometer Code                                    223329 non-null  object \n",
      " 10  New or Used Vehicle                              223329 non-null  object \n",
      " 11  Sale Price                                       223329 non-null  int64  \n",
      " 12  Sale Date                                        223329 non-null  object \n",
      " 13  Base MSRP                                        223329 non-null  float64\n",
      " 14  Transaction Type                                 223329 non-null  object \n",
      " 15  DOL Transaction Date                             223329 non-null  object \n",
      " 16  Transaction Year                                 223329 non-null  int64  \n",
      " 17  County                                           223329 non-null  object \n",
      " 18  City                                             223329 non-null  object \n",
      " 19  State of Residence                               223329 non-null  object \n",
      " 20  Postal Code                                      223329 non-null  int64  \n",
      " 21  Meets 2019 HB 2042 Sale Price/Value Requirement  223329 non-null  bool   \n",
      " 22  2019 HB 2042: Sale Price/Value Requirement       223329 non-null  object \n",
      " 23  2020 Census Tract                                223329 non-null  float64\n",
      " 24  Legislative District                             223329 non-null  int64  \n",
      " 25  Electric Utility                                 223329 non-null  object \n",
      "dtypes: bool(1), float64(3), int64(7), object(15)\n",
      "memory usage: 42.8+ MB\n",
      "None\n"
     ]
    }
   ],
   "source": [
    "# List of unnecessary columns to be removed\n",
    "columns_to_drop = ['Electric Vehicle Fee Paid', 'Transportation Electrification Fee Paid', 'Hybrid Vehicle Electrification Fee Paid']\n",
    "\n",
    "# Drop unnecessary columns\n",
    "ev_registration= ev_registration.drop(columns=columns_to_drop, axis=1)\n",
    "\n",
    "# Check the cleaned DataFrame\n",
    "print(ev_registration.info())\n"
   ]
  },
  {
   "cell_type": "code",
   "execution_count": 35,
   "id": "ab01f24d-a54b-43ac-8f0a-5e6ae571a34d",
   "metadata": {
    "tags": []
   },
   "outputs": [
    {
     "data": {
      "image/png": "[encoded data removed]",
      "text/plain": [
       "<Figure size 720x432 with 1 Axes>"
      ]
     },
     "metadata": {
      "needs_background": "light"
     },
     "output_type": "display_data"
    }
   ],
   "source": [
    "# Distribution of Model Year\n",
    "plt.figure(figsize=(10, 6))\n",
    "sns.histplot(ev_registration['Model Year'], bins=20, kde=True)\n",
    "plt.title(\"Distribution of Model Year\")\n",
    "plt.xlabel(\"Model Year\")\n",
    "plt.ylabel(\"Frequency\")\n",
    "plt.show()"
   ]
  },
  {
   "cell_type": "code",
   "execution_count": 36,
   "id": "bde83ba5-6551-4d01-afde-46134d5450c3",
   "metadata": {
    "tags": []
   },
   "outputs": [
    {
     "data": {
      "image/png": "[encoded data removed]",
      "text/plain": [
       "<Figure size 720x432 with 1 Axes>"
      ]
     },
     "metadata": {
      "needs_background": "light"
     },
     "output_type": "display_data"
    }
   ],
   "source": [
    "# Distribution of Electric Range\n",
    "plt.figure(figsize=(10, 6))\n",
    "sns.histplot(ev_registration['Electric Range'], bins=20, kde=True)\n",
    "plt.title(\"Distribution of Electric Range\")\n",
    "plt.xlabel(\"Electric Range\")\n",
    "plt.ylabel(\"Frequency\")\n",
    "plt.show()"
   ]
  },
  {
   "cell_type": "code",
   "execution_count": 37,
   "id": "a01af6ff-fb2a-4a8e-8335-118699d7cd72",
   "metadata": {
    "tags": []
   },
   "outputs": [
    {
     "data": {
      "image/png": "[encoded data removed]",
      "text/plain": [
       "<Figure size 720x432 with 1 Axes>"
      ]
     },
     "metadata": {
      "needs_background": "light"
     },
     "output_type": "display_data"
    }
   ],
   "source": [
    "# Distribution of Vehicle Primary Use\n",
    "plt.figure(figsize=(10, 6))\n",
    "sns.countplot(x='Vehicle Primary Use', data=ev_registration)\n",
    "plt.title(\"Distribution of Vehicle Primary Use\")\n",
    "plt.xlabel(\"Vehicle Primary Use\")\n",
    "plt.ylabel(\"Count\")\n",
    "plt.xticks(rotation=45)\n",
    "plt.show()"
   ]
  },
  {
   "cell_type": "code",
   "execution_count": 38,
   "id": "b45fe3ca-4d9d-41df-9642-41114897e822",
   "metadata": {
    "tags": []
   },
   "outputs": [
    {
     "data": {
      "image/png": "[encoded data removed]",
      "text/plain": [
       "<Figure size 864x576 with 1 Axes>"
      ]
     },
     "metadata": {
      "needs_background": "light"
     },
     "output_type": "display_data"
    }
   ],
   "source": [
    "# Relationship between Make and Electric Range\n",
    "plt.figure(figsize=(12, 8))\n",
    "sns.boxplot(x='Make', y='Electric Range', data=ev_registration)\n",
    "plt.title(\"Relationship between Make and Electric Range\")\n",
    "plt.xlabel(\"Make\")\n",
    "plt.ylabel(\"Electric Range\")\n",
    "plt.xticks(rotation=90)\n",
    "plt.show()"
   ]
  },
  {
   "cell_type": "markdown",
   "id": "ab21aac9-201e-4251-913f-99d9faa4612b",
   "metadata": {},
   "source": [
    "### Handling the Outliers"
   ]
  },
  {
   "cell_type": "code",
   "execution_count": null,
   "id": "59daed5b-599c-481c-b113-77c9baf5917a",
   "metadata": {},
   "outputs": [],
   "source": []
  },
  {
   "cell_type": "markdown",
   "id": "204e9dd1-386c-4d57-b9d6-66153c0457e9",
   "metadata": {
    "tags": []
   },
   "source": [
    "## Data Scrubbing"
   ]
  },
  {
   "cell_type": "code",
   "execution_count": 39,
   "id": "c786e2b9-66ca-4f8a-80ae-9f1a2c73d6c6",
   "metadata": {
    "tags": []
   },
   "outputs": [
    {
     "data": {
      "text/html": [
       "<div>\n",
       "<style scoped>\n",
       "    .dataframe tbody tr th:only-of-type {\n",
       "        vertical-align: middle;\n",
       "    }\n",
       "\n",
       "    .dataframe tbody tr th {\n",
       "        vertical-align: top;\n",
       "    }\n",
       "\n",
       "    .dataframe thead th {\n",
       "        text-align: right;\n",
       "    }\n",
       "</style>\n",
       "<table border=\"1\" class=\"dataframe\">\n",
       "  <thead>\n",
       "    <tr style=\"text-align: right;\">\n",
       "      <th></th>\n",
       "      <th>ZIP</th>\n",
       "      <th>num_stations_ZIP</th>\n",
       "    </tr>\n",
       "  </thead>\n",
       "  <tbody>\n",
       "    <tr>\n",
       "      <th>0</th>\n",
       "      <td>98001</td>\n",
       "      <td>6</td>\n",
       "    </tr>\n",
       "    <tr>\n",
       "      <th>1</th>\n",
       "      <td>98002</td>\n",
       "      <td>6</td>\n",
       "    </tr>\n",
       "    <tr>\n",
       "      <th>2</th>\n",
       "      <td>98003</td>\n",
       "      <td>10</td>\n",
       "    </tr>\n",
       "    <tr>\n",
       "      <th>3</th>\n",
       "      <td>98004</td>\n",
       "      <td>152</td>\n",
       "    </tr>\n",
       "    <tr>\n",
       "      <th>4</th>\n",
       "      <td>98005</td>\n",
       "      <td>70</td>\n",
       "    </tr>\n",
       "    <tr>\n",
       "      <th>...</th>\n",
       "      <td>...</td>\n",
       "      <td>...</td>\n",
       "    </tr>\n",
       "    <tr>\n",
       "      <th>310</th>\n",
       "      <td>99354</td>\n",
       "      <td>2</td>\n",
       "    </tr>\n",
       "    <tr>\n",
       "      <th>311</th>\n",
       "      <td>99361</td>\n",
       "      <td>1</td>\n",
       "    </tr>\n",
       "    <tr>\n",
       "      <th>312</th>\n",
       "      <td>99362</td>\n",
       "      <td>19</td>\n",
       "    </tr>\n",
       "    <tr>\n",
       "      <th>313</th>\n",
       "      <td>99403</td>\n",
       "      <td>1</td>\n",
       "    </tr>\n",
       "    <tr>\n",
       "      <th>314</th>\n",
       "      <td>G9N 0</td>\n",
       "      <td>1</td>\n",
       "    </tr>\n",
       "  </tbody>\n",
       "</table>\n",
       "<p>315 rows × 2 columns</p>\n",
       "</div>"
      ],
      "text/plain": [
       "       ZIP  num_stations_ZIP\n",
       "0    98001                 6\n",
       "1    98002                 6\n",
       "2    98003                10\n",
       "3    98004               152\n",
       "4    98005                70\n",
       "..     ...               ...\n",
       "310  99354                 2\n",
       "311  99361                 1\n",
       "312  99362                19\n",
       "313  99403                 1\n",
       "314  G9N 0                 1\n",
       "\n",
       "[315 rows x 2 columns]"
      ]
     },
     "execution_count": 39,
     "metadata": {},
     "output_type": "execute_result"
    }
   ],
   "source": [
    "station_counts = fuel_stations.groupby('ZIP').size().reset_index(name='num_stations_ZIP')\n",
    "station_counts"
   ]
  },
  {
   "cell_type": "code",
   "execution_count": 40,
   "id": "48effe2a-ecac-4291-a8fe-cac701e8fdd1",
   "metadata": {
    "tags": []
   },
   "outputs": [
    {
     "data": {
      "text/html": [
       "<div>\n",
       "<style scoped>\n",
       "    .dataframe tbody tr th:only-of-type {\n",
       "        vertical-align: middle;\n",
       "    }\n",
       "\n",
       "    .dataframe tbody tr th {\n",
       "        vertical-align: top;\n",
       "    }\n",
       "\n",
       "    .dataframe thead th {\n",
       "        text-align: right;\n",
       "    }\n",
       "</style>\n",
       "<table border=\"1\" class=\"dataframe\">\n",
       "  <thead>\n",
       "    <tr style=\"text-align: right;\">\n",
       "      <th></th>\n",
       "      <th>VIN (1-10)</th>\n",
       "      <th>County</th>\n",
       "      <th>City</th>\n",
       "      <th>State</th>\n",
       "      <th>Postal Code</th>\n",
       "      <th>Model Year</th>\n",
       "      <th>Make</th>\n",
       "      <th>Model</th>\n",
       "      <th>Electric Vehicle Type</th>\n",
       "      <th>Clean Alternative Fuel Vehicle (CAFV) Eligibility</th>\n",
       "      <th>Electric Range</th>\n",
       "      <th>Base MSRP</th>\n",
       "      <th>Legislative District</th>\n",
       "      <th>DOL Vehicle ID</th>\n",
       "      <th>Vehicle Location</th>\n",
       "      <th>Electric Utility</th>\n",
       "      <th>2020 Census Tract</th>\n",
       "      <th>num_stations_ZIP</th>\n",
       "    </tr>\n",
       "  </thead>\n",
       "  <tbody>\n",
       "    <tr>\n",
       "      <th>0</th>\n",
       "      <td>5UXKT0C59G</td>\n",
       "      <td>yakima</td>\n",
       "      <td>zillah</td>\n",
       "      <td>wa</td>\n",
       "      <td>98953.0</td>\n",
       "      <td>2016</td>\n",
       "      <td>bmw</td>\n",
       "      <td>x5</td>\n",
       "      <td>plug-in hybrid electric vehicle (phev)</td>\n",
       "      <td>not eligible due to low battery range</td>\n",
       "      <td>14.0</td>\n",
       "      <td>0.0</td>\n",
       "      <td>15</td>\n",
       "      <td>206822717</td>\n",
       "      <td>point (-120.26317 46.40556)</td>\n",
       "      <td>pacificorp</td>\n",
       "      <td>5.307700e+10</td>\n",
       "      <td>NaN</td>\n",
       "    </tr>\n",
       "    <tr>\n",
       "      <th>1</th>\n",
       "      <td>5YJ3E1EA2J</td>\n",
       "      <td>snohomish</td>\n",
       "      <td>edmonds</td>\n",
       "      <td>wa</td>\n",
       "      <td>98020.0</td>\n",
       "      <td>2018</td>\n",
       "      <td>tesla</td>\n",
       "      <td>model 3</td>\n",
       "      <td>battery electric vehicle (bev)</td>\n",
       "      <td>clean alternative fuel vehicle eligible</td>\n",
       "      <td>215.0</td>\n",
       "      <td>0.0</td>\n",
       "      <td>21</td>\n",
       "      <td>137721636</td>\n",
       "      <td>point (-122.37507 47.80807)</td>\n",
       "      <td>puget sound energy inc</td>\n",
       "      <td>5.306105e+10</td>\n",
       "      <td>NaN</td>\n",
       "    </tr>\n",
       "    <tr>\n",
       "      <th>2</th>\n",
       "      <td>1G1RE6E4XE</td>\n",
       "      <td>kitsap</td>\n",
       "      <td>port orchard</td>\n",
       "      <td>wa</td>\n",
       "      <td>98367.0</td>\n",
       "      <td>2014</td>\n",
       "      <td>chevrolet</td>\n",
       "      <td>volt</td>\n",
       "      <td>plug-in hybrid electric vehicle (phev)</td>\n",
       "      <td>clean alternative fuel vehicle eligible</td>\n",
       "      <td>38.0</td>\n",
       "      <td>0.0</td>\n",
       "      <td>26</td>\n",
       "      <td>197718468</td>\n",
       "      <td>point (-122.6847073 47.50524)</td>\n",
       "      <td>puget sound energy inc</td>\n",
       "      <td>5.303509e+10</td>\n",
       "      <td>NaN</td>\n",
       "    </tr>\n",
       "  </tbody>\n",
       "</table>\n",
       "</div>"
      ],
      "text/plain": [
       "   VIN (1-10)     County          City State Postal Code  Model Year  \\\n",
       "0  5UXKT0C59G     yakima        zillah    wa     98953.0        2016   \n",
       "1  5YJ3E1EA2J  snohomish       edmonds    wa     98020.0        2018   \n",
       "2  1G1RE6E4XE     kitsap  port orchard    wa     98367.0        2014   \n",
       "\n",
       "        Make    Model                   Electric Vehicle Type  \\\n",
       "0        bmw       x5  plug-in hybrid electric vehicle (phev)   \n",
       "1      tesla  model 3          battery electric vehicle (bev)   \n",
       "2  chevrolet     volt  plug-in hybrid electric vehicle (phev)   \n",
       "\n",
       "  Clean Alternative Fuel Vehicle (CAFV) Eligibility  Electric Range  \\\n",
       "0             not eligible due to low battery range            14.0   \n",
       "1           clean alternative fuel vehicle eligible           215.0   \n",
       "2           clean alternative fuel vehicle eligible            38.0   \n",
       "\n",
       "   Base MSRP  Legislative District  DOL Vehicle ID  \\\n",
       "0        0.0                    15       206822717   \n",
       "1        0.0                    21       137721636   \n",
       "2        0.0                    26       197718468   \n",
       "\n",
       "                Vehicle Location        Electric Utility  2020 Census Tract  \\\n",
       "0    point (-120.26317 46.40556)              pacificorp       5.307700e+10   \n",
       "1    point (-122.37507 47.80807)  puget sound energy inc       5.306105e+10   \n",
       "2  point (-122.6847073 47.50524)  puget sound energy inc       5.303509e+10   \n",
       "\n",
       "   num_stations_ZIP  \n",
       "0               NaN  \n",
       "1               NaN  \n",
       "2               NaN  "
      ]
     },
     "execution_count": 40,
     "metadata": {},
     "output_type": "execute_result"
    }
   ],
   "source": [
    "# Add the number of stations per ZIP code to ev population data\n",
    "ev_population = pd.merge(ev_population, station_counts, left_on='Postal Code', right_on='ZIP', how='left')\n",
    "ev_population.drop(columns=['ZIP'],inplace=True)\n",
    "ev_population.head(3)"
   ]
  },
  {
   "cell_type": "code",
   "execution_count": null,
   "id": "0b6a58c7-6468-416b-a8cf-45d3928663f4",
   "metadata": {
    "tags": []
   },
   "outputs": [],
   "source": []
  },
  {
   "cell_type": "code",
   "execution_count": 41,
   "id": "6b864ff1-5358-4fa2-addf-7ba8dc56e6db",
   "metadata": {
    "tags": []
   },
   "outputs": [
    {
     "data": {
      "text/html": [
       "<div>\n",
       "<style scoped>\n",
       "    .dataframe tbody tr th:only-of-type {\n",
       "        vertical-align: middle;\n",
       "    }\n",
       "\n",
       "    .dataframe tbody tr th {\n",
       "        vertical-align: top;\n",
       "    }\n",
       "\n",
       "    .dataframe thead th {\n",
       "        text-align: right;\n",
       "    }\n",
       "</style>\n",
       "<table border=\"1\" class=\"dataframe\">\n",
       "  <thead>\n",
       "    <tr style=\"text-align: right;\">\n",
       "      <th></th>\n",
       "      <th>City</th>\n",
       "      <th>num_stations_city</th>\n",
       "    </tr>\n",
       "  </thead>\n",
       "  <tbody>\n",
       "    <tr>\n",
       "      <th>0</th>\n",
       "      <td>8900 e. buckeye ave.</td>\n",
       "      <td>1</td>\n",
       "    </tr>\n",
       "    <tr>\n",
       "      <th>1</th>\n",
       "      <td>aberdeen</td>\n",
       "      <td>9</td>\n",
       "    </tr>\n",
       "    <tr>\n",
       "      <th>2</th>\n",
       "      <td>airway heights</td>\n",
       "      <td>8</td>\n",
       "    </tr>\n",
       "    <tr>\n",
       "      <th>3</th>\n",
       "      <td>anacortes</td>\n",
       "      <td>15</td>\n",
       "    </tr>\n",
       "    <tr>\n",
       "      <th>4</th>\n",
       "      <td>arlington</td>\n",
       "      <td>8</td>\n",
       "    </tr>\n",
       "    <tr>\n",
       "      <th>...</th>\n",
       "      <td>...</td>\n",
       "      <td>...</td>\n",
       "    </tr>\n",
       "    <tr>\n",
       "      <th>213</th>\n",
       "      <td>yakima</td>\n",
       "      <td>20</td>\n",
       "    </tr>\n",
       "    <tr>\n",
       "      <th>214</th>\n",
       "      <td>yelm</td>\n",
       "      <td>1</td>\n",
       "    </tr>\n",
       "    <tr>\n",
       "      <th>215</th>\n",
       "      <td>zillah</td>\n",
       "      <td>2</td>\n",
       "    </tr>\n",
       "    <tr>\n",
       "      <th>216</th>\n",
       "      <td>lburien</td>\n",
       "      <td>1</td>\n",
       "    </tr>\n",
       "    <tr>\n",
       "      <th>217</th>\n",
       "      <td>pasco</td>\n",
       "      <td>1</td>\n",
       "    </tr>\n",
       "  </tbody>\n",
       "</table>\n",
       "<p>218 rows × 2 columns</p>\n",
       "</div>"
      ],
      "text/plain": [
       "                     City  num_stations_city\n",
       "0    8900 e. buckeye ave.                  1\n",
       "1                aberdeen                  9\n",
       "2          airway heights                  8\n",
       "3               anacortes                 15\n",
       "4               arlington                  8\n",
       "..                    ...                ...\n",
       "213                yakima                 20\n",
       "214                  yelm                  1\n",
       "215                zillah                  2\n",
       "216               lburien                  1\n",
       "217                 pasco                  1\n",
       "\n",
       "[218 rows x 2 columns]"
      ]
     },
     "execution_count": 41,
     "metadata": {},
     "output_type": "execute_result"
    }
   ],
   "source": [
    "station_counts_city = fuel_stations.groupby('City').size().reset_index(name='num_stations_city')\n",
    "# Lower case column City to match ev_population format\n",
    "station_counts_city['City'] = station_counts_city['City'].str.lower()\n",
    "station_counts_city"
   ]
  },
  {
   "cell_type": "code",
   "execution_count": 42,
   "id": "d2f7003f-472e-4d93-9c94-ea770529a97c",
   "metadata": {
    "tags": []
   },
   "outputs": [
    {
     "data": {
      "text/html": [
       "<div>\n",
       "<style scoped>\n",
       "    .dataframe tbody tr th:only-of-type {\n",
       "        vertical-align: middle;\n",
       "    }\n",
       "\n",
       "    .dataframe tbody tr th {\n",
       "        vertical-align: top;\n",
       "    }\n",
       "\n",
       "    .dataframe thead th {\n",
       "        text-align: right;\n",
       "    }\n",
       "</style>\n",
       "<table border=\"1\" class=\"dataframe\">\n",
       "  <thead>\n",
       "    <tr style=\"text-align: right;\">\n",
       "      <th></th>\n",
       "      <th>VIN (1-10)</th>\n",
       "      <th>County</th>\n",
       "      <th>City</th>\n",
       "      <th>State</th>\n",
       "      <th>Postal Code</th>\n",
       "      <th>Model Year</th>\n",
       "      <th>Make</th>\n",
       "      <th>Model</th>\n",
       "      <th>Electric Vehicle Type</th>\n",
       "      <th>Clean Alternative Fuel Vehicle (CAFV) Eligibility</th>\n",
       "      <th>Electric Range</th>\n",
       "      <th>Base MSRP</th>\n",
       "      <th>Legislative District</th>\n",
       "      <th>DOL Vehicle ID</th>\n",
       "      <th>Vehicle Location</th>\n",
       "      <th>Electric Utility</th>\n",
       "      <th>2020 Census Tract</th>\n",
       "      <th>num_stations_ZIP</th>\n",
       "      <th>num_stations_city</th>\n",
       "    </tr>\n",
       "  </thead>\n",
       "  <tbody>\n",
       "    <tr>\n",
       "      <th>0</th>\n",
       "      <td>5UXKT0C59G</td>\n",
       "      <td>yakima</td>\n",
       "      <td>zillah</td>\n",
       "      <td>wa</td>\n",
       "      <td>98953.0</td>\n",
       "      <td>2016</td>\n",
       "      <td>bmw</td>\n",
       "      <td>x5</td>\n",
       "      <td>plug-in hybrid electric vehicle (phev)</td>\n",
       "      <td>not eligible due to low battery range</td>\n",
       "      <td>14.0</td>\n",
       "      <td>0.0</td>\n",
       "      <td>15</td>\n",
       "      <td>206822717</td>\n",
       "      <td>point (-120.26317 46.40556)</td>\n",
       "      <td>pacificorp</td>\n",
       "      <td>5.307700e+10</td>\n",
       "      <td>NaN</td>\n",
       "      <td>2.0</td>\n",
       "    </tr>\n",
       "    <tr>\n",
       "      <th>1</th>\n",
       "      <td>5YJ3E1EA2J</td>\n",
       "      <td>snohomish</td>\n",
       "      <td>edmonds</td>\n",
       "      <td>wa</td>\n",
       "      <td>98020.0</td>\n",
       "      <td>2018</td>\n",
       "      <td>tesla</td>\n",
       "      <td>model 3</td>\n",
       "      <td>battery electric vehicle (bev)</td>\n",
       "      <td>clean alternative fuel vehicle eligible</td>\n",
       "      <td>215.0</td>\n",
       "      <td>0.0</td>\n",
       "      <td>21</td>\n",
       "      <td>137721636</td>\n",
       "      <td>point (-122.37507 47.80807)</td>\n",
       "      <td>puget sound energy inc</td>\n",
       "      <td>5.306105e+10</td>\n",
       "      <td>NaN</td>\n",
       "      <td>17.0</td>\n",
       "    </tr>\n",
       "    <tr>\n",
       "      <th>2</th>\n",
       "      <td>1G1RE6E4XE</td>\n",
       "      <td>kitsap</td>\n",
       "      <td>port orchard</td>\n",
       "      <td>wa</td>\n",
       "      <td>98367.0</td>\n",
       "      <td>2014</td>\n",
       "      <td>chevrolet</td>\n",
       "      <td>volt</td>\n",
       "      <td>plug-in hybrid electric vehicle (phev)</td>\n",
       "      <td>clean alternative fuel vehicle eligible</td>\n",
       "      <td>38.0</td>\n",
       "      <td>0.0</td>\n",
       "      <td>26</td>\n",
       "      <td>197718468</td>\n",
       "      <td>point (-122.6847073 47.50524)</td>\n",
       "      <td>puget sound energy inc</td>\n",
       "      <td>5.303509e+10</td>\n",
       "      <td>NaN</td>\n",
       "      <td>6.0</td>\n",
       "    </tr>\n",
       "  </tbody>\n",
       "</table>\n",
       "</div>"
      ],
      "text/plain": [
       "   VIN (1-10)     County          City State Postal Code  Model Year  \\\n",
       "0  5UXKT0C59G     yakima        zillah    wa     98953.0        2016   \n",
       "1  5YJ3E1EA2J  snohomish       edmonds    wa     98020.0        2018   \n",
       "2  1G1RE6E4XE     kitsap  port orchard    wa     98367.0        2014   \n",
       "\n",
       "        Make    Model                   Electric Vehicle Type  \\\n",
       "0        bmw       x5  plug-in hybrid electric vehicle (phev)   \n",
       "1      tesla  model 3          battery electric vehicle (bev)   \n",
       "2  chevrolet     volt  plug-in hybrid electric vehicle (phev)   \n",
       "\n",
       "  Clean Alternative Fuel Vehicle (CAFV) Eligibility  Electric Range  \\\n",
       "0             not eligible due to low battery range            14.0   \n",
       "1           clean alternative fuel vehicle eligible           215.0   \n",
       "2           clean alternative fuel vehicle eligible            38.0   \n",
       "\n",
       "   Base MSRP  Legislative District  DOL Vehicle ID  \\\n",
       "0        0.0                    15       206822717   \n",
       "1        0.0                    21       137721636   \n",
       "2        0.0                    26       197718468   \n",
       "\n",
       "                Vehicle Location        Electric Utility  2020 Census Tract  \\\n",
       "0    point (-120.26317 46.40556)              pacificorp       5.307700e+10   \n",
       "1    point (-122.37507 47.80807)  puget sound energy inc       5.306105e+10   \n",
       "2  point (-122.6847073 47.50524)  puget sound energy inc       5.303509e+10   \n",
       "\n",
       "   num_stations_ZIP  num_stations_city  \n",
       "0               NaN                2.0  \n",
       "1               NaN               17.0  \n",
       "2               NaN                6.0  "
      ]
     },
     "execution_count": 42,
     "metadata": {},
     "output_type": "execute_result"
    }
   ],
   "source": [
    "# Add the number of stations per city to ev population data\n",
    "ev_population = pd.merge(ev_population, station_counts_city, on='City', how='left')\n",
    "ev_population.head(3)"
   ]
  },
  {
   "cell_type": "code",
   "execution_count": null,
   "id": "24884a63-e9dc-4fde-88b4-40a7bdbe5a8d",
   "metadata": {
    "tags": []
   },
   "outputs": [],
   "source": []
  },
  {
   "cell_type": "code",
   "execution_count": 43,
   "id": "b04c0db2-5040-4164-bfa6-ff50e3c8365f",
   "metadata": {
    "tags": []
   },
   "outputs": [
    {
     "data": {
      "text/html": [
       "<div>\n",
       "<style scoped>\n",
       "    .dataframe tbody tr th:only-of-type {\n",
       "        vertical-align: middle;\n",
       "    }\n",
       "\n",
       "    .dataframe tbody tr th {\n",
       "        vertical-align: top;\n",
       "    }\n",
       "\n",
       "    .dataframe thead th {\n",
       "        text-align: right;\n",
       "    }\n",
       "</style>\n",
       "<table border=\"1\" class=\"dataframe\">\n",
       "  <thead>\n",
       "    <tr style=\"text-align: right;\">\n",
       "      <th></th>\n",
       "      <th>VIN (1-10)</th>\n",
       "      <th>num_register</th>\n",
       "    </tr>\n",
       "  </thead>\n",
       "  <tbody>\n",
       "    <tr>\n",
       "      <th>0</th>\n",
       "      <td>1C4JJXN60P</td>\n",
       "      <td>40</td>\n",
       "    </tr>\n",
       "    <tr>\n",
       "      <th>1</th>\n",
       "      <td>1C4JJXN61P</td>\n",
       "      <td>40</td>\n",
       "    </tr>\n",
       "    <tr>\n",
       "      <th>2</th>\n",
       "      <td>1C4JJXN62P</td>\n",
       "      <td>38</td>\n",
       "    </tr>\n",
       "    <tr>\n",
       "      <th>3</th>\n",
       "      <td>1C4JJXN63P</td>\n",
       "      <td>46</td>\n",
       "    </tr>\n",
       "    <tr>\n",
       "      <th>4</th>\n",
       "      <td>1C4JJXN64P</td>\n",
       "      <td>35</td>\n",
       "    </tr>\n",
       "    <tr>\n",
       "      <th>...</th>\n",
       "      <td>...</td>\n",
       "      <td>...</td>\n",
       "    </tr>\n",
       "    <tr>\n",
       "      <th>10794</th>\n",
       "      <td>ZASPATDW5R</td>\n",
       "      <td>2</td>\n",
       "    </tr>\n",
       "    <tr>\n",
       "      <th>10795</th>\n",
       "      <td>ZASPATDW6R</td>\n",
       "      <td>1</td>\n",
       "    </tr>\n",
       "    <tr>\n",
       "      <th>10796</th>\n",
       "      <td>ZASPATDW7R</td>\n",
       "      <td>2</td>\n",
       "    </tr>\n",
       "    <tr>\n",
       "      <th>10797</th>\n",
       "      <td>ZASPATDW8R</td>\n",
       "      <td>3</td>\n",
       "    </tr>\n",
       "    <tr>\n",
       "      <th>10798</th>\n",
       "      <td>ZASPATDWXR</td>\n",
       "      <td>2</td>\n",
       "    </tr>\n",
       "  </tbody>\n",
       "</table>\n",
       "<p>10799 rows × 2 columns</p>\n",
       "</div>"
      ],
      "text/plain": [
       "       VIN (1-10)  num_register\n",
       "0      1C4JJXN60P            40\n",
       "1      1C4JJXN61P            40\n",
       "2      1C4JJXN62P            38\n",
       "3      1C4JJXN63P            46\n",
       "4      1C4JJXN64P            35\n",
       "...           ...           ...\n",
       "10794  ZASPATDW5R             2\n",
       "10795  ZASPATDW6R             1\n",
       "10796  ZASPATDW7R             2\n",
       "10797  ZASPATDW8R             3\n",
       "10798  ZASPATDWXR             2\n",
       "\n",
       "[10799 rows x 2 columns]"
      ]
     },
     "execution_count": 43,
     "metadata": {},
     "output_type": "execute_result"
    }
   ],
   "source": [
    "register_counts = ev_registration.groupby('VIN (1-10)').size().reset_index(name='num_register')\n",
    "register_counts"
   ]
  },
  {
   "cell_type": "code",
   "execution_count": 44,
   "id": "f31fd968-b9eb-4f0f-a4d0-2154e90ac95c",
   "metadata": {
    "tags": []
   },
   "outputs": [
    {
     "data": {
      "text/html": [
       "<div>\n",
       "<style scoped>\n",
       "    .dataframe tbody tr th:only-of-type {\n",
       "        vertical-align: middle;\n",
       "    }\n",
       "\n",
       "    .dataframe tbody tr th {\n",
       "        vertical-align: top;\n",
       "    }\n",
       "\n",
       "    .dataframe thead th {\n",
       "        text-align: right;\n",
       "    }\n",
       "</style>\n",
       "<table border=\"1\" class=\"dataframe\">\n",
       "  <thead>\n",
       "    <tr style=\"text-align: right;\">\n",
       "      <th></th>\n",
       "      <th>VIN (1-10)</th>\n",
       "      <th>County</th>\n",
       "      <th>City</th>\n",
       "      <th>State</th>\n",
       "      <th>Postal Code</th>\n",
       "      <th>Model Year</th>\n",
       "      <th>Make</th>\n",
       "      <th>Model</th>\n",
       "      <th>Electric Vehicle Type</th>\n",
       "      <th>Clean Alternative Fuel Vehicle (CAFV) Eligibility</th>\n",
       "      <th>Electric Range</th>\n",
       "      <th>Base MSRP</th>\n",
       "      <th>Legislative District</th>\n",
       "      <th>DOL Vehicle ID</th>\n",
       "      <th>Vehicle Location</th>\n",
       "      <th>Electric Utility</th>\n",
       "      <th>2020 Census Tract</th>\n",
       "      <th>num_stations_ZIP</th>\n",
       "      <th>num_stations_city</th>\n",
       "      <th>num_register</th>\n",
       "    </tr>\n",
       "  </thead>\n",
       "  <tbody>\n",
       "    <tr>\n",
       "      <th>0</th>\n",
       "      <td>5UXKT0C59G</td>\n",
       "      <td>yakima</td>\n",
       "      <td>zillah</td>\n",
       "      <td>wa</td>\n",
       "      <td>98953.0</td>\n",
       "      <td>2016</td>\n",
       "      <td>bmw</td>\n",
       "      <td>x5</td>\n",
       "      <td>plug-in hybrid electric vehicle (phev)</td>\n",
       "      <td>not eligible due to low battery range</td>\n",
       "      <td>14.0</td>\n",
       "      <td>0.0</td>\n",
       "      <td>15</td>\n",
       "      <td>206822717</td>\n",
       "      <td>point (-120.26317 46.40556)</td>\n",
       "      <td>pacificorp</td>\n",
       "      <td>5.307700e+10</td>\n",
       "      <td>NaN</td>\n",
       "      <td>2.0</td>\n",
       "      <td>33.0</td>\n",
       "    </tr>\n",
       "    <tr>\n",
       "      <th>1</th>\n",
       "      <td>5YJ3E1EA2J</td>\n",
       "      <td>snohomish</td>\n",
       "      <td>edmonds</td>\n",
       "      <td>wa</td>\n",
       "      <td>98020.0</td>\n",
       "      <td>2018</td>\n",
       "      <td>tesla</td>\n",
       "      <td>model 3</td>\n",
       "      <td>battery electric vehicle (bev)</td>\n",
       "      <td>clean alternative fuel vehicle eligible</td>\n",
       "      <td>215.0</td>\n",
       "      <td>0.0</td>\n",
       "      <td>21</td>\n",
       "      <td>137721636</td>\n",
       "      <td>point (-122.37507 47.80807)</td>\n",
       "      <td>puget sound energy inc</td>\n",
       "      <td>5.306105e+10</td>\n",
       "      <td>NaN</td>\n",
       "      <td>17.0</td>\n",
       "      <td>372.0</td>\n",
       "    </tr>\n",
       "    <tr>\n",
       "      <th>2</th>\n",
       "      <td>1G1RE6E4XE</td>\n",
       "      <td>kitsap</td>\n",
       "      <td>port orchard</td>\n",
       "      <td>wa</td>\n",
       "      <td>98367.0</td>\n",
       "      <td>2014</td>\n",
       "      <td>chevrolet</td>\n",
       "      <td>volt</td>\n",
       "      <td>plug-in hybrid electric vehicle (phev)</td>\n",
       "      <td>clean alternative fuel vehicle eligible</td>\n",
       "      <td>38.0</td>\n",
       "      <td>0.0</td>\n",
       "      <td>26</td>\n",
       "      <td>197718468</td>\n",
       "      <td>point (-122.6847073 47.50524)</td>\n",
       "      <td>puget sound energy inc</td>\n",
       "      <td>5.303509e+10</td>\n",
       "      <td>NaN</td>\n",
       "      <td>6.0</td>\n",
       "      <td>16.0</td>\n",
       "    </tr>\n",
       "  </tbody>\n",
       "</table>\n",
       "</div>"
      ],
      "text/plain": [
       "   VIN (1-10)     County          City State Postal Code  Model Year  \\\n",
       "0  5UXKT0C59G     yakima        zillah    wa     98953.0        2016   \n",
       "1  5YJ3E1EA2J  snohomish       edmonds    wa     98020.0        2018   \n",
       "2  1G1RE6E4XE     kitsap  port orchard    wa     98367.0        2014   \n",
       "\n",
       "        Make    Model                   Electric Vehicle Type  \\\n",
       "0        bmw       x5  plug-in hybrid electric vehicle (phev)   \n",
       "1      tesla  model 3          battery electric vehicle (bev)   \n",
       "2  chevrolet     volt  plug-in hybrid electric vehicle (phev)   \n",
       "\n",
       "  Clean Alternative Fuel Vehicle (CAFV) Eligibility  Electric Range  \\\n",
       "0             not eligible due to low battery range            14.0   \n",
       "1           clean alternative fuel vehicle eligible           215.0   \n",
       "2           clean alternative fuel vehicle eligible            38.0   \n",
       "\n",
       "   Base MSRP  Legislative District  DOL Vehicle ID  \\\n",
       "0        0.0                    15       206822717   \n",
       "1        0.0                    21       137721636   \n",
       "2        0.0                    26       197718468   \n",
       "\n",
       "                Vehicle Location        Electric Utility  2020 Census Tract  \\\n",
       "0    point (-120.26317 46.40556)              pacificorp       5.307700e+10   \n",
       "1    point (-122.37507 47.80807)  puget sound energy inc       5.306105e+10   \n",
       "2  point (-122.6847073 47.50524)  puget sound energy inc       5.303509e+10   \n",
       "\n",
       "   num_stations_ZIP  num_stations_city  num_register  \n",
       "0               NaN                2.0          33.0  \n",
       "1               NaN               17.0         372.0  \n",
       "2               NaN                6.0          16.0  "
      ]
     },
     "execution_count": 44,
     "metadata": {},
     "output_type": "execute_result"
    }
   ],
   "source": [
    "# Add the number of registers to ev population data\n",
    "ev_population = pd.merge(ev_population, register_counts, on='VIN (1-10)', how='left')\n",
    "ev_population.head(3)"
   ]
  },
  {
   "cell_type": "code",
   "execution_count": 45,
   "id": "1c0f9e22-5fda-48d5-9d3a-c14ec42639ea",
   "metadata": {
    "tags": []
   },
   "outputs": [
    {
     "data": {
      "image/png": "[encoded data removed]",
      "text/plain": [
       "<Figure size 720x432 with 1 Axes>"
      ]
     },
     "metadata": {
      "needs_background": "light"
     },
     "output_type": "display_data"
    }
   ],
   "source": [
    "# Create a box plot for num_register\n",
    "plt.figure(figsize=(10, 6))\n",
    "sns.boxplot(data=ev_population[['num_register']])\n",
    "plt.title('Box Plot of number of registers')\n",
    "plt.xlabel('Features')\n",
    "plt.ylabel('Count')\n",
    "plt.show()"
   ]
  },
  {
   "cell_type": "code",
   "execution_count": 46,
   "id": "1acade34-931a-4f67-a542-d28aab1d0ba5",
   "metadata": {
    "tags": []
   },
   "outputs": [
    {
     "data": {
      "text/plain": [
       "array(['not eligible due to low battery range',\n",
       "       'clean alternative fuel vehicle eligible',\n",
       "       'eligibility unknown as battery range has not been researched'],\n",
       "      dtype=object)"
      ]
     },
     "execution_count": 46,
     "metadata": {},
     "output_type": "execute_result"
    }
   ],
   "source": [
    "ev_population['Clean Alternative Fuel Vehicle (CAFV) Eligibility'].unique()"
   ]
  },
  {
   "cell_type": "code",
   "execution_count": 47,
   "id": "64431433-ce94-4bf6-b157-1955d0b42dae",
   "metadata": {
    "tags": []
   },
   "outputs": [],
   "source": [
    "one_hot_encoded_df = pd.get_dummies(ev_population['Clean Alternative Fuel Vehicle (CAFV) Eligibility'], prefix='CAFV')\n",
    "ev_population = pd.concat([ev_population, one_hot_encoded_df], axis=1)\n",
    "ev_population.drop(columns=['Clean Alternative Fuel Vehicle (CAFV) Eligibility'], inplace=True)"
   ]
  },
  {
   "cell_type": "code",
   "execution_count": 48,
   "id": "7a6b5751-8ec5-4722-91b0-6194177bdc8c",
   "metadata": {
    "tags": []
   },
   "outputs": [
    {
     "data": {
      "text/html": [
       "<div>\n",
       "<style scoped>\n",
       "    .dataframe tbody tr th:only-of-type {\n",
       "        vertical-align: middle;\n",
       "    }\n",
       "\n",
       "    .dataframe tbody tr th {\n",
       "        vertical-align: top;\n",
       "    }\n",
       "\n",
       "    .dataframe thead th {\n",
       "        text-align: right;\n",
       "    }\n",
       "</style>\n",
       "<table border=\"1\" class=\"dataframe\">\n",
       "  <thead>\n",
       "    <tr style=\"text-align: right;\">\n",
       "      <th></th>\n",
       "      <th>VIN (1-10)</th>\n",
       "      <th>County</th>\n",
       "      <th>City</th>\n",
       "      <th>State</th>\n",
       "      <th>Postal Code</th>\n",
       "      <th>Model Year</th>\n",
       "      <th>Make</th>\n",
       "      <th>Model</th>\n",
       "      <th>Electric Vehicle Type</th>\n",
       "      <th>Electric Range</th>\n",
       "      <th>...</th>\n",
       "      <th>DOL Vehicle ID</th>\n",
       "      <th>Vehicle Location</th>\n",
       "      <th>Electric Utility</th>\n",
       "      <th>2020 Census Tract</th>\n",
       "      <th>num_stations_ZIP</th>\n",
       "      <th>num_stations_city</th>\n",
       "      <th>num_register</th>\n",
       "      <th>CAFV_clean alternative fuel vehicle eligible</th>\n",
       "      <th>CAFV_eligibility unknown as battery range has not been researched</th>\n",
       "      <th>CAFV_not eligible due to low battery range</th>\n",
       "    </tr>\n",
       "  </thead>\n",
       "  <tbody>\n",
       "    <tr>\n",
       "      <th>0</th>\n",
       "      <td>5UXKT0C59G</td>\n",
       "      <td>yakima</td>\n",
       "      <td>zillah</td>\n",
       "      <td>wa</td>\n",
       "      <td>98953.0</td>\n",
       "      <td>2016</td>\n",
       "      <td>bmw</td>\n",
       "      <td>x5</td>\n",
       "      <td>plug-in hybrid electric vehicle (phev)</td>\n",
       "      <td>14.0</td>\n",
       "      <td>...</td>\n",
       "      <td>206822717</td>\n",
       "      <td>point (-120.26317 46.40556)</td>\n",
       "      <td>pacificorp</td>\n",
       "      <td>5.307700e+10</td>\n",
       "      <td>NaN</td>\n",
       "      <td>2.0</td>\n",
       "      <td>33.0</td>\n",
       "      <td>0</td>\n",
       "      <td>0</td>\n",
       "      <td>1</td>\n",
       "    </tr>\n",
       "    <tr>\n",
       "      <th>1</th>\n",
       "      <td>5YJ3E1EA2J</td>\n",
       "      <td>snohomish</td>\n",
       "      <td>edmonds</td>\n",
       "      <td>wa</td>\n",
       "      <td>98020.0</td>\n",
       "      <td>2018</td>\n",
       "      <td>tesla</td>\n",
       "      <td>model 3</td>\n",
       "      <td>battery electric vehicle (bev)</td>\n",
       "      <td>215.0</td>\n",
       "      <td>...</td>\n",
       "      <td>137721636</td>\n",
       "      <td>point (-122.37507 47.80807)</td>\n",
       "      <td>puget sound energy inc</td>\n",
       "      <td>5.306105e+10</td>\n",
       "      <td>NaN</td>\n",
       "      <td>17.0</td>\n",
       "      <td>372.0</td>\n",
       "      <td>1</td>\n",
       "      <td>0</td>\n",
       "      <td>0</td>\n",
       "    </tr>\n",
       "    <tr>\n",
       "      <th>2</th>\n",
       "      <td>1G1RE6E4XE</td>\n",
       "      <td>kitsap</td>\n",
       "      <td>port orchard</td>\n",
       "      <td>wa</td>\n",
       "      <td>98367.0</td>\n",
       "      <td>2014</td>\n",
       "      <td>chevrolet</td>\n",
       "      <td>volt</td>\n",
       "      <td>plug-in hybrid electric vehicle (phev)</td>\n",
       "      <td>38.0</td>\n",
       "      <td>...</td>\n",
       "      <td>197718468</td>\n",
       "      <td>point (-122.6847073 47.50524)</td>\n",
       "      <td>puget sound energy inc</td>\n",
       "      <td>5.303509e+10</td>\n",
       "      <td>NaN</td>\n",
       "      <td>6.0</td>\n",
       "      <td>16.0</td>\n",
       "      <td>1</td>\n",
       "      <td>0</td>\n",
       "      <td>0</td>\n",
       "    </tr>\n",
       "  </tbody>\n",
       "</table>\n",
       "<p>3 rows × 22 columns</p>\n",
       "</div>"
      ],
      "text/plain": [
       "   VIN (1-10)     County          City State Postal Code  Model Year  \\\n",
       "0  5UXKT0C59G     yakima        zillah    wa     98953.0        2016   \n",
       "1  5YJ3E1EA2J  snohomish       edmonds    wa     98020.0        2018   \n",
       "2  1G1RE6E4XE     kitsap  port orchard    wa     98367.0        2014   \n",
       "\n",
       "        Make    Model                   Electric Vehicle Type  Electric Range  \\\n",
       "0        bmw       x5  plug-in hybrid electric vehicle (phev)            14.0   \n",
       "1      tesla  model 3          battery electric vehicle (bev)           215.0   \n",
       "2  chevrolet     volt  plug-in hybrid electric vehicle (phev)            38.0   \n",
       "\n",
       "   ...  DOL Vehicle ID               Vehicle Location        Electric Utility  \\\n",
       "0  ...       206822717    point (-120.26317 46.40556)              pacificorp   \n",
       "1  ...       137721636    point (-122.37507 47.80807)  puget sound energy inc   \n",
       "2  ...       197718468  point (-122.6847073 47.50524)  puget sound energy inc   \n",
       "\n",
       "  2020 Census Tract num_stations_ZIP  num_stations_city  num_register  \\\n",
       "0      5.307700e+10              NaN                2.0          33.0   \n",
       "1      5.306105e+10              NaN               17.0         372.0   \n",
       "2      5.303509e+10              NaN                6.0          16.0   \n",
       "\n",
       "   CAFV_clean alternative fuel vehicle eligible  \\\n",
       "0                                             0   \n",
       "1                                             1   \n",
       "2                                             1   \n",
       "\n",
       "   CAFV_eligibility unknown as battery range has not been researched  \\\n",
       "0                                                  0                   \n",
       "1                                                  0                   \n",
       "2                                                  0                   \n",
       "\n",
       "   CAFV_not eligible due to low battery range  \n",
       "0                                           1  \n",
       "1                                           0  \n",
       "2                                           0  \n",
       "\n",
       "[3 rows x 22 columns]"
      ]
     },
     "execution_count": 48,
     "metadata": {},
     "output_type": "execute_result"
    }
   ],
   "source": [
    "ev_population.head(3)"
   ]
  },
  {
   "cell_type": "code",
   "execution_count": 49,
   "id": "e9862626-a9ab-4aa7-ab10-ae2f356245d8",
   "metadata": {
    "tags": []
   },
   "outputs": [
    {
     "data": {
      "text/plain": [
       "array(['plug-in hybrid electric vehicle (phev)',\n",
       "       'battery electric vehicle (bev)'], dtype=object)"
      ]
     },
     "execution_count": 49,
     "metadata": {},
     "output_type": "execute_result"
    }
   ],
   "source": [
    "ev_population['Electric Vehicle Type'].unique()"
   ]
  },
  {
   "cell_type": "code",
   "execution_count": 50,
   "id": "ed614c99-3a27-4f15-a55f-66cbbe25cc27",
   "metadata": {
    "tags": []
   },
   "outputs": [
    {
     "data": {
      "text/html": [
       "<div>\n",
       "<style scoped>\n",
       "    .dataframe tbody tr th:only-of-type {\n",
       "        vertical-align: middle;\n",
       "    }\n",
       "\n",
       "    .dataframe tbody tr th {\n",
       "        vertical-align: top;\n",
       "    }\n",
       "\n",
       "    .dataframe thead th {\n",
       "        text-align: right;\n",
       "    }\n",
       "</style>\n",
       "<table border=\"1\" class=\"dataframe\">\n",
       "  <thead>\n",
       "    <tr style=\"text-align: right;\">\n",
       "      <th></th>\n",
       "      <th>VIN (1-10)</th>\n",
       "      <th>County</th>\n",
       "      <th>City</th>\n",
       "      <th>State</th>\n",
       "      <th>Postal Code</th>\n",
       "      <th>Model Year</th>\n",
       "      <th>Make</th>\n",
       "      <th>Model</th>\n",
       "      <th>Electric Vehicle Type</th>\n",
       "      <th>Electric Range</th>\n",
       "      <th>...</th>\n",
       "      <th>DOL Vehicle ID</th>\n",
       "      <th>Vehicle Location</th>\n",
       "      <th>Electric Utility</th>\n",
       "      <th>2020 Census Tract</th>\n",
       "      <th>num_stations_ZIP</th>\n",
       "      <th>num_stations_city</th>\n",
       "      <th>num_register</th>\n",
       "      <th>CAFV_clean alternative fuel vehicle eligible</th>\n",
       "      <th>CAFV_eligibility unknown as battery range has not been researched</th>\n",
       "      <th>CAFV_not eligible due to low battery range</th>\n",
       "    </tr>\n",
       "  </thead>\n",
       "  <tbody>\n",
       "    <tr>\n",
       "      <th>0</th>\n",
       "      <td>5UXKT0C59G</td>\n",
       "      <td>yakima</td>\n",
       "      <td>zillah</td>\n",
       "      <td>wa</td>\n",
       "      <td>98953.0</td>\n",
       "      <td>2016</td>\n",
       "      <td>bmw</td>\n",
       "      <td>x5</td>\n",
       "      <td>1</td>\n",
       "      <td>14.0</td>\n",
       "      <td>...</td>\n",
       "      <td>206822717</td>\n",
       "      <td>point (-120.26317 46.40556)</td>\n",
       "      <td>pacificorp</td>\n",
       "      <td>5.307700e+10</td>\n",
       "      <td>NaN</td>\n",
       "      <td>2.0</td>\n",
       "      <td>33.0</td>\n",
       "      <td>0</td>\n",
       "      <td>0</td>\n",
       "      <td>1</td>\n",
       "    </tr>\n",
       "    <tr>\n",
       "      <th>1</th>\n",
       "      <td>5YJ3E1EA2J</td>\n",
       "      <td>snohomish</td>\n",
       "      <td>edmonds</td>\n",
       "      <td>wa</td>\n",
       "      <td>98020.0</td>\n",
       "      <td>2018</td>\n",
       "      <td>tesla</td>\n",
       "      <td>model 3</td>\n",
       "      <td>0</td>\n",
       "      <td>215.0</td>\n",
       "      <td>...</td>\n",
       "      <td>137721636</td>\n",
       "      <td>point (-122.37507 47.80807)</td>\n",
       "      <td>puget sound energy inc</td>\n",
       "      <td>5.306105e+10</td>\n",
       "      <td>NaN</td>\n",
       "      <td>17.0</td>\n",
       "      <td>372.0</td>\n",
       "      <td>1</td>\n",
       "      <td>0</td>\n",
       "      <td>0</td>\n",
       "    </tr>\n",
       "    <tr>\n",
       "      <th>2</th>\n",
       "      <td>1G1RE6E4XE</td>\n",
       "      <td>kitsap</td>\n",
       "      <td>port orchard</td>\n",
       "      <td>wa</td>\n",
       "      <td>98367.0</td>\n",
       "      <td>2014</td>\n",
       "      <td>chevrolet</td>\n",
       "      <td>volt</td>\n",
       "      <td>1</td>\n",
       "      <td>38.0</td>\n",
       "      <td>...</td>\n",
       "      <td>197718468</td>\n",
       "      <td>point (-122.6847073 47.50524)</td>\n",
       "      <td>puget sound energy inc</td>\n",
       "      <td>5.303509e+10</td>\n",
       "      <td>NaN</td>\n",
       "      <td>6.0</td>\n",
       "      <td>16.0</td>\n",
       "      <td>1</td>\n",
       "      <td>0</td>\n",
       "      <td>0</td>\n",
       "    </tr>\n",
       "  </tbody>\n",
       "</table>\n",
       "<p>3 rows × 22 columns</p>\n",
       "</div>"
      ],
      "text/plain": [
       "   VIN (1-10)     County          City State Postal Code  Model Year  \\\n",
       "0  5UXKT0C59G     yakima        zillah    wa     98953.0        2016   \n",
       "1  5YJ3E1EA2J  snohomish       edmonds    wa     98020.0        2018   \n",
       "2  1G1RE6E4XE     kitsap  port orchard    wa     98367.0        2014   \n",
       "\n",
       "        Make    Model  Electric Vehicle Type  Electric Range  ...  \\\n",
       "0        bmw       x5                      1            14.0  ...   \n",
       "1      tesla  model 3                      0           215.0  ...   \n",
       "2  chevrolet     volt                      1            38.0  ...   \n",
       "\n",
       "   DOL Vehicle ID               Vehicle Location        Electric Utility  \\\n",
       "0       206822717    point (-120.26317 46.40556)              pacificorp   \n",
       "1       137721636    point (-122.37507 47.80807)  puget sound energy inc   \n",
       "2       197718468  point (-122.6847073 47.50524)  puget sound energy inc   \n",
       "\n",
       "  2020 Census Tract num_stations_ZIP  num_stations_city  num_register  \\\n",
       "0      5.307700e+10              NaN                2.0          33.0   \n",
       "1      5.306105e+10              NaN               17.0         372.0   \n",
       "2      5.303509e+10              NaN                6.0          16.0   \n",
       "\n",
       "   CAFV_clean alternative fuel vehicle eligible  \\\n",
       "0                                             0   \n",
       "1                                             1   \n",
       "2                                             1   \n",
       "\n",
       "   CAFV_eligibility unknown as battery range has not been researched  \\\n",
       "0                                                  0                   \n",
       "1                                                  0                   \n",
       "2                                                  0                   \n",
       "\n",
       "   CAFV_not eligible due to low battery range  \n",
       "0                                           1  \n",
       "1                                           0  \n",
       "2                                           0  \n",
       "\n",
       "[3 rows x 22 columns]"
      ]
     },
     "execution_count": 50,
     "metadata": {},
     "output_type": "execute_result"
    }
   ],
   "source": [
    "option_map = {'plug-in hybrid electric vehicle (phev)': 1, 'battery electric vehicle (bev)': 0}\n",
    "ev_population['Electric Vehicle Type'] = ev_population['Electric Vehicle Type'].map(option_map)\n",
    "ev_population.head(3)"
   ]
  },
  {
   "cell_type": "markdown",
   "id": "ccc8a2ea-4216-4e77-8322-cad3f7087965",
   "metadata": {},
   "source": [
    "# Balancing the Data"
   ]
  },
  {
   "cell_type": "code",
   "execution_count": 51,
   "id": "76465eb5-3784-4d83-901c-fc710633c1e1",
   "metadata": {
    "tags": []
   },
   "outputs": [
    {
     "name": "stdout",
     "output_type": "stream",
     "text": [
      "   VIN (1-10)     County          City State Postal Code  Model Year  \\\n",
      "0  5UXKT0C59G     yakima        zillah    wa     98953.0        2016   \n",
      "1  5YJ3E1EA2J  snohomish       edmonds    wa     98020.0        2018   \n",
      "2  1G1RE6E4XE     kitsap  port orchard    wa     98367.0        2014   \n",
      "3  2C4RC1L76M     skagit           bow    wa     98232.0        2021   \n",
      "4  5YJ3E1EA2J   thurston       olympia    wa     98513.0        2018   \n",
      "\n",
      "        Make     Model  Electric Vehicle Type  Electric Range  ...  \\\n",
      "0        bmw        x5                      1            14.0  ...   \n",
      "1      tesla   model 3                      0           215.0  ...   \n",
      "2  chevrolet      volt                      1            38.0  ...   \n",
      "3   chrysler  pacifica                      1            32.0  ...   \n",
      "4      tesla   model 3                      0           215.0  ...   \n",
      "\n",
      "   DOL Vehicle ID                Vehicle Location        Electric Utility  \\\n",
      "0       206822717     point (-120.26317 46.40556)              pacificorp   \n",
      "1       137721636     point (-122.37507 47.80807)  puget sound energy inc   \n",
      "2       197718468   point (-122.6847073 47.50524)  puget sound energy inc   \n",
      "3       256274308  point (-122.440636 48.5613885)  puget sound energy inc   \n",
      "4       259176578    point (-122.817545 46.98876)  puget sound energy inc   \n",
      "\n",
      "  2020 Census Tract num_stations_ZIP  num_stations_city  num_register  \\\n",
      "0      5.307700e+10              NaN                2.0          33.0   \n",
      "1      5.306105e+10              NaN               17.0         372.0   \n",
      "2      5.303509e+10              NaN                6.0          16.0   \n",
      "3      5.305795e+10              NaN                1.0          28.0   \n",
      "4      5.306701e+10              NaN               39.0         372.0   \n",
      "\n",
      "   CAFV_clean alternative fuel vehicle eligible  \\\n",
      "0                                             0   \n",
      "1                                             1   \n",
      "2                                             1   \n",
      "3                                             1   \n",
      "4                                             1   \n",
      "\n",
      "   CAFV_eligibility unknown as battery range has not been researched  \\\n",
      "0                                                  0                   \n",
      "1                                                  0                   \n",
      "2                                                  0                   \n",
      "3                                                  0                   \n",
      "4                                                  0                   \n",
      "\n",
      "   CAFV_not eligible due to low battery range  \n",
      "0                                           1  \n",
      "1                                           0  \n",
      "2                                           0  \n",
      "3                                           0  \n",
      "4                                           0  \n",
      "\n",
      "[5 rows x 22 columns]\n"
     ]
    }
   ],
   "source": [
    "# Display the first few rows of the dataset\n",
    "print(ev_population.head())"
   ]
  },
  {
   "cell_type": "code",
   "execution_count": 52,
   "id": "319d91f2-15ea-4c4c-bd07-ff9a41ad7e9a",
   "metadata": {
    "tags": []
   },
   "outputs": [
    {
     "data": {
      "image/png": "[encoded data removed]",
      "text/plain": [
       "<Figure size 720x432 with 1 Axes>"
      ]
     },
     "metadata": {
      "needs_background": "light"
     },
     "output_type": "display_data"
    }
   ],
   "source": [
    "# Plotting the distribution of 'num_register'\n",
    "plt.figure(figsize=(10, 6))\n",
    "sns.histplot(ev_population['num_register'], kde=True, bins=30)\n",
    "plt.title('Distribution of EV Registrations (num_register)')\n",
    "plt.xlabel('Number of Registrations')\n",
    "plt.ylabel('Frequency')\n",
    "plt.show()\n"
   ]
  },
  {
   "cell_type": "code",
   "execution_count": 53,
   "id": "43d7fcad-591f-46d3-9a86-c12ccb2492b1",
   "metadata": {
    "tags": []
   },
   "outputs": [
    {
     "name": "stdout",
     "output_type": "stream",
     "text": [
      "count    190477.000000\n",
      "mean        209.125695\n",
      "std         307.440353\n",
      "min           1.000000\n",
      "25%          23.000000\n",
      "50%          66.000000\n",
      "75%         254.000000\n",
      "max        1230.000000\n",
      "Name: num_register, dtype: float64\n"
     ]
    }
   ],
   "source": [
    "# Calculating summary statistics\n",
    "print(ev_population['num_register'].describe())"
   ]
  },
  {
   "cell_type": "code",
   "execution_count": 54,
   "id": "a4156025-378e-44a7-a3b4-a8cf406a8834",
   "metadata": {
    "tags": []
   },
   "outputs": [
    {
     "name": "stdout",
     "output_type": "stream",
     "text": [
      "\n",
      "Potential Outliers:\n",
      "0.01       2.0\n",
      "0.99    1223.0\n",
      "Name: num_register, dtype: float64\n"
     ]
    }
   ],
   "source": [
    "# Checking for any potential outliers\n",
    "print(\"\\nPotential Outliers:\")\n",
    "print(ev_population['num_register'].quantile([0.01, 0.99]))"
   ]
  },
  {
   "cell_type": "markdown",
   "id": "16e6c26d-c14f-4034-b037-731aec28a5c1",
   "metadata": {},
   "source": [
    "###  The histogram indicates a right-skewed distribution of the num_register variable, with a long tail towards higher registration numbers. This skewness can affect regression model performance because many algorithms assume a normal distribution of the target variable."
   ]
  },
  {
   "cell_type": "markdown",
   "id": "e164b1dc-6575-41fd-838f-4a1cd7c02d71",
   "metadata": {},
   "source": [
    "## Further Data Cleaning"
   ]
  },
  {
   "cell_type": "code",
   "execution_count": 55,
   "id": "efedef7d-b671-426f-a004-34ea8e9187e4",
   "metadata": {
    "tags": []
   },
   "outputs": [
    {
     "name": "stdout",
     "output_type": "stream",
     "text": [
      "Columns dropped due to high missing values or low variance: ['num_stations_ZIP', 'State']\n",
      "\n",
      "Remaining columns with missing values: num_stations_city    12890\n",
      "num_register           144\n",
      "dtype: int64\n"
     ]
    }
   ],
   "source": [
    "# Identify columns with a high percentage of missing values\n",
    "missing_value_threshold = 0.5  # Threshold\n",
    "high_missing_cols = [col for col in ev_population.columns if ev_population[col].isnull().mean() > missing_value_threshold]\n",
    "# Drop these columns\n",
    "ev_population_cleaned = ev_population.drop(columns=high_missing_cols)\n",
    "\n",
    "# Identify columns with a single unique value\n",
    "low_variance_cols = [col for col in ev_population_cleaned.columns if ev_population_cleaned[col].nunique() <= 1]\n",
    "\n",
    "# Drop these columns\n",
    "ev_population_cleaned = ev_population_cleaned.drop(columns=low_variance_cols)\n",
    "\n",
    "# Finally, check for remaining missing values\n",
    "missing_data = ev_population_cleaned.isnull().sum()\n",
    "missing_data = missing_data[missing_data > 0]\n",
    "\n",
    "print(\"Columns dropped due to high missing values or low variance:\", high_missing_cols + low_variance_cols)\n",
    "print(\"\\nRemaining columns with missing values:\", missing_data)"
   ]
  },
  {
   "cell_type": "markdown",
   "id": "64c638cf-9d45-4c4d-8264-d5c5a136747e",
   "metadata": {},
   "source": [
    "### - For num_register, since this is our target variable, and there are only 144 missing entries out of over 190,000, it's reasonable to drop these records as they represent a tiny fraction of the dataset.\n",
    "\n",
    "### - For num_stations_city, which is likely an important predictor, we should impute these missing values. A sensible imputation might be to use the median value, as the mean can be skewed by outliers, which we've seen in the distribution of num_register."
   ]
  },
  {
   "cell_type": "code",
   "execution_count": 56,
   "id": "7d47b2a7-fb01-4dea-a743-edf44fd8c357",
   "metadata": {
    "tags": []
   },
   "outputs": [
    {
     "name": "stdout",
     "output_type": "stream",
     "text": [
      "Remaining columns with missing values after imputation: VIN (1-10)                                                           0\n",
      "County                                                               0\n",
      "City                                                                 0\n",
      "Postal Code                                                          0\n",
      "Model Year                                                           0\n",
      "Make                                                                 0\n",
      "Model                                                                0\n",
      "Electric Vehicle Type                                                0\n",
      "Electric Range                                                       0\n",
      "Base MSRP                                                            0\n",
      "Legislative District                                                 0\n",
      "DOL Vehicle ID                                                       0\n",
      "Vehicle Location                                                     0\n",
      "Electric Utility                                                     0\n",
      "2020 Census Tract                                                    0\n",
      "num_stations_city                                                    0\n",
      "num_register                                                         0\n",
      "CAFV_clean alternative fuel vehicle eligible                         0\n",
      "CAFV_eligibility unknown as battery range has not been researched    0\n",
      "CAFV_not eligible due to low battery range                           0\n",
      "dtype: int64\n",
      "\n",
      "First few entries in the cleaned dataset:\n",
      "   VIN (1-10)     County          City Postal Code  Model Year       Make  \\\n",
      "0  5UXKT0C59G     yakima        zillah     98953.0        2016        bmw   \n",
      "1  5YJ3E1EA2J  snohomish       edmonds     98020.0        2018      tesla   \n",
      "2  1G1RE6E4XE     kitsap  port orchard     98367.0        2014  chevrolet   \n",
      "3  2C4RC1L76M     skagit           bow     98232.0        2021   chrysler   \n",
      "4  5YJ3E1EA2J   thurston       olympia     98513.0        2018      tesla   \n",
      "\n",
      "      Model  Electric Vehicle Type  Electric Range  Base MSRP  \\\n",
      "0        x5                      1            14.0        0.0   \n",
      "1   model 3                      0           215.0        0.0   \n",
      "2      volt                      1            38.0        0.0   \n",
      "3  pacifica                      1            32.0        0.0   \n",
      "4   model 3                      0           215.0        0.0   \n",
      "\n",
      "   Legislative District  DOL Vehicle ID                Vehicle Location  \\\n",
      "0                    15       206822717     point (-120.26317 46.40556)   \n",
      "1                    21       137721636     point (-122.37507 47.80807)   \n",
      "2                    26       197718468   point (-122.6847073 47.50524)   \n",
      "3                    40       256274308  point (-122.440636 48.5613885)   \n",
      "4                     2       259176578    point (-122.817545 46.98876)   \n",
      "\n",
      "         Electric Utility  2020 Census Tract  num_stations_city  num_register  \\\n",
      "0              pacificorp       5.307700e+10                2.0          33.0   \n",
      "1  puget sound energy inc       5.306105e+10               17.0         372.0   \n",
      "2  puget sound energy inc       5.303509e+10                6.0          16.0   \n",
      "3  puget sound energy inc       5.305795e+10                1.0          28.0   \n",
      "4  puget sound energy inc       5.306701e+10               39.0         372.0   \n",
      "\n",
      "   CAFV_clean alternative fuel vehicle eligible  \\\n",
      "0                                             0   \n",
      "1                                             1   \n",
      "2                                             1   \n",
      "3                                             1   \n",
      "4                                             1   \n",
      "\n",
      "   CAFV_eligibility unknown as battery range has not been researched  \\\n",
      "0                                                  0                   \n",
      "1                                                  0                   \n",
      "2                                                  0                   \n",
      "3                                                  0                   \n",
      "4                                                  0                   \n",
      "\n",
      "   CAFV_not eligible due to low battery range  \n",
      "0                                           1  \n",
      "1                                           0  \n",
      "2                                           0  \n",
      "3                                           0  \n",
      "4                                           0  \n"
     ]
    }
   ],
   "source": [
    "# Drop rows where the target variable 'num_register' is missing\n",
    "ev_population_cleaned = ev_population_cleaned.dropna(subset=['num_register'])\n",
    "\n",
    "# Impute missing values in 'num_stations_city' with the median\n",
    "num_stations_city_median = ev_population_cleaned['num_stations_city'].median()\n",
    "ev_population_cleaned['num_stations_city'].fillna(num_stations_city_median, inplace=True)\n",
    "\n",
    "# Check if there are any more missing values\n",
    "remaining_missing_data = ev_population_cleaned.isnull().sum()\n",
    "print(\"Remaining columns with missing values after imputation:\", remaining_missing_data)\n",
    "\n",
    "# Check the first few entries of the cleaned dataframe\n",
    "print(\"\\nFirst few entries in the cleaned dataset:\")\n",
    "print(ev_population_cleaned.head())\n"
   ]
  },
  {
   "cell_type": "markdown",
   "id": "546476a4-8072-4b0e-8e25-2911ce157d9d",
   "metadata": {},
   "source": [
    "## Addressing Skewness of the Target Variable"
   ]
  },
  {
   "cell_type": "code",
   "execution_count": 57,
   "id": "79d0bc88-083d-4ad7-b9cc-8d99d5e9b4d3",
   "metadata": {
    "tags": []
   },
   "outputs": [
    {
     "data": {
      "image/png": "[encoded data removed]",
      "text/plain": [
       "<Figure size 720x432 with 1 Axes>"
      ]
     },
     "metadata": {
      "needs_background": "light"
     },
     "output_type": "display_data"
    },
    {
     "name": "stdout",
     "output_type": "stream",
     "text": [
      "count    190477.000000\n",
      "mean          4.315535\n",
      "std           1.554570\n",
      "min           0.693147\n",
      "25%           3.178054\n",
      "50%           4.204693\n",
      "75%           5.541264\n",
      "max           7.115582\n",
      "Name: log_num_register, dtype: float64\n"
     ]
    }
   ],
   "source": [
    "# Apply log transformation\n",
    "ev_population_cleaned['log_num_register'] = np.log1p(ev_population_cleaned['num_register'])\n",
    "\n",
    "# Plotting the distribution of the transformed 'num_register'\n",
    "plt.figure(figsize=(10, 6))\n",
    "sns.histplot(ev_population_cleaned['log_num_register'], kde=True, bins=30)\n",
    "plt.title('Distribution of Log-Transformed EV Registrations (log_num_register)')\n",
    "plt.xlabel('Log(Number of Registrations + 1)')\n",
    "plt.ylabel('Frequency')\n",
    "plt.show()\n",
    "\n",
    "# Calculate the summary statistics of the transformed variable\n",
    "print(ev_population_cleaned['log_num_register'].describe())"
   ]
  },
  {
   "cell_type": "markdown",
   "id": "85ba74c2-d02f-4ce2-b070-894c61b2f96e",
   "metadata": {},
   "source": [
    "# Preprocessing Steps Before Model Training"
   ]
  },
  {
   "cell_type": "code",
   "execution_count": 58,
   "id": "260ded50-b2f7-448f-917f-0447c1d53baf",
   "metadata": {
    "tags": []
   },
   "outputs": [
    {
     "name": "stdout",
     "output_type": "stream",
     "text": [
      "Training features shape: (114286, 1218)\n",
      "Validation features shape: (38095, 1218)\n",
      "Test features shape: (38096, 1218)\n",
      "Training labels shape: (114286,)\n",
      "Validation labels shape: (38095,)\n",
      "Test labels shape: (38096,)\n"
     ]
    }
   ],
   "source": [
    "# Final feature selection \n",
    "final_features = ['County', 'City', 'Postal Code', 'Model Year', 'Make', 'Model', 'Electric Vehicle Type', 'Electric Range', 'num_stations_city']\n",
    "\n",
    "# Splitting the dataset into features and target variable\n",
    "X = ev_population_cleaned[final_features]\n",
    "y = ev_population_cleaned['log_num_register']\n",
    "\n",
    "# Encoding categorical variables\n",
    "X_encoded = pd.get_dummies(X, drop_first=True)\n",
    "\n",
    "# Splitting the data into training, validation, and test sets (60%, 20%, 20%)\n",
    "X_train, X_temp, y_train, y_temp = train_test_split(X_encoded, y, test_size=0.4, random_state=42)\n",
    "X_val, X_test, y_val, y_test = train_test_split(X_temp, y_temp, test_size=0.5, random_state=42)\n",
    "\n",
    "# Printing the shapes of the splits\n",
    "print(f\"Training features shape: {X_train.shape}\")\n",
    "print(f\"Validation features shape: {X_val.shape}\")\n",
    "print(f\"Test features shape: {X_test.shape}\")\n",
    "print(f\"Training labels shape: {y_train.shape}\")\n",
    "print(f\"Validation labels shape: {y_val.shape}\")\n",
    "print(f\"Test labels shape: {y_test.shape}\")\n"
   ]
  },
  {
   "cell_type": "markdown",
   "id": "40909f48-68a0-4c07-b143-c276030e54de",
   "metadata": {},
   "source": [
    "# Modeling:"
   ]
  },
  {
   "cell_type": "code",
   "execution_count": null,
   "id": "55c3e525-b08e-45e4-95f4-653d4405a8d9",
   "metadata": {
    "tags": []
   },
   "outputs": [],
   "source": [
    "# Initialize the models\n",
    "models = {\n",
    "    'Linear Regression': LinearRegression(),\n",
    "    'Ridge Regression': Ridge(),\n",
    "    'Lasso Regression': Lasso(),\n",
    "    'Random Forest': RandomForestRegressor(n_estimators=100, random_state=42),\n",
    "    'Gradient Boosting': GradientBoostingRegressor(n_estimators=100, learning_rate=0.05, random_state=42)\n",
    "}\n",
    "\n",
    "# Prepare a DataFrame to collect metrics\n",
    "model_metrics = pd.DataFrame(index=models.keys(), columns=['RMSE', 'R2', 'MAE'])\n",
    "\n",
    "# Train and evaluate each model\n",
    "for model_name, model in models.items():\n",
    "    model.fit(X_train, y_train)  # Train the model\n",
    "    y_val_pred = model.predict(X_val)  # Predict on validation set\n",
    "    model_metrics.loc[model_name, 'RMSE'] = mean_squared_error(y_val, y_val_pred, squared=False)\n",
    "    model_metrics.loc[model_name, 'R2'] = r2_score(y_val, y_val_pred)\n",
    "    model_metrics.loc[model_name, 'MAE'] = mean_absolute_error(y_val, y_val_pred)\n",
    "\n",
    "# Display the metrics\n",
    "model_metrics = model_metrics.sort_values('RMSE')  # Sort by RMSE\n",
    "print(model_metrics)"
   ]
  },
  {
   "cell_type": "code",
   "execution_count": null,
   "id": "8a734a87-45c4-4b05-899e-df6d5890041d",
   "metadata": {},
   "outputs": [],
   "source": []
  },
  {
   "cell_type": "code",
   "execution_count": null,
   "id": "eb114198-a328-4ccd-8f87-742289853197",
   "metadata": {},
   "outputs": [],
   "source": []
  },
  {
   "cell_type": "code",
   "execution_count": null,
   "id": "7e583e1b-0ce7-4f5f-9114-8964c8ec4ffa",
   "metadata": {},
   "outputs": [],
   "source": []
  },
  {
   "cell_type": "markdown",
   "id": "297d3ed1-312f-4b39-9ab0-8d152d1055ad",
   "metadata": {},
   "source": [
    "# Metric 1: Charging Station Density"
   ]
  },
  {
   "cell_type": "code",
   "execution_count": null,
   "id": "74f672d2-1d96-4b37-89a1-75abd7e4fb0b",
   "metadata": {
    "tags": []
   },
   "outputs": [],
   "source": [
    "total_charging_stations = fuel_stations.shape[0]\n",
    "total_population = 1000000\n",
    "charging_station_density = total_charging_stations / total_population"
   ]
  },
  {
   "cell_type": "code",
   "execution_count": null,
   "id": "acaa5aa1-a649-4326-8fad-80410932da92",
   "metadata": {
    "tags": []
   },
   "outputs": [],
   "source": [
    "print(\"charging station density\")\n",
    "charging_station_density"
   ]
  },
  {
   "cell_type": "markdown",
   "id": "1edb0cf6-56e2-40f3-b2b4-1f65b492420e",
   "metadata": {},
   "source": [
    "# Metric 2: Electric Vehicle Market Share\n",
    "# Calculate the percentage of new vehicle registrations that are electric vehicles"
   ]
  },
  {
   "cell_type": "code",
   "execution_count": null,
   "id": "8f71c613-312d-4737-966d-ae07475e85f4",
   "metadata": {
    "tags": []
   },
   "outputs": [],
   "source": [
    "total_new_vehicle_registrations = 5000  \n",
    "total_ev_new_registrations = 1500  \n",
    "ev_market_share = (total_ev_new_registrations / total_new_vehicle_registrations) * 100"
   ]
  },
  {
   "cell_type": "code",
   "execution_count": null,
   "id": "80e11703-3d16-4691-99b1-5a13073a7f61",
   "metadata": {
    "tags": []
   },
   "outputs": [],
   "source": [
    "print(\"electric vehicle market share\")\n",
    "ev_market_share"
   ]
  },
  {
   "cell_type": "markdown",
   "id": "a918fe33-0d5d-4571-b1d7-23f6921699ec",
   "metadata": {
    "tags": []
   },
   "source": [
    "# Metric 3: Range Anxiety Reduction\n",
    "# Calculate the average electric range of vehicles registered over time"
   ]
  },
  {
   "cell_type": "code",
   "execution_count": null,
   "id": "db5d9ddc-4813-4c1b-a575-006be5483e6f",
   "metadata": {
    "tags": []
   },
   "outputs": [],
   "source": [
    "average_ev_range = ev_registration['Electric Range'].mean()"
   ]
  },
  {
   "cell_type": "code",
   "execution_count": null,
   "id": "5653c642-bcf0-4df1-8c42-cab352250aba",
   "metadata": {
    "tags": []
   },
   "outputs": [],
   "source": [
    "print(\"average electric vehicles registered over time\")\n",
    "average_ev_range"
   ]
  },
  {
   "cell_type": "markdown",
   "id": "2160f96a-a8df-4af4-be88-e4b71ed7f1ff",
   "metadata": {},
   "source": [
    "# Metric 4: Vehicle Turnover Rate\n",
    "# Calculate the rate at which older gasoline-powered vehicles are replaced with new electric vehicles"
   ]
  },
  {
   "cell_type": "code",
   "execution_count": null,
   "id": "b60e3b7b-8395-481f-b4c0-b912d54baeaa",
   "metadata": {
    "tags": []
   },
   "outputs": [],
   "source": [
    "total_gasoline_vehicles = 8000  \n",
    "total_ev_vehicles = 2500  \n",
    "vehicle_turnover_rate = (total_ev_vehicles / total_gasoline_vehicles) * 100\n"
   ]
  },
  {
   "cell_type": "code",
   "execution_count": null,
   "id": "97e9c2f1-c3e5-47a2-bce2-cb943bff60dc",
   "metadata": {
    "tags": []
   },
   "outputs": [],
   "source": [
    "print(\"vehicle turnover rate\")\n",
    "vehicle_turnover_rate"
   ]
  },
  {
   "cell_type": "markdown",
   "id": "3376034c-9db8-4b6f-86a5-a5d944e5c0a3",
   "metadata": {},
   "source": [
    "# Metric 5: Economic Impact\n",
    "# Example economic impact calculation"
   ]
  },
  {
   "cell_type": "code",
   "execution_count": null,
   "id": "44b34d8c-9f4c-4d93-8b22-b273193294da",
   "metadata": {
    "tags": []
   },
   "outputs": [],
   "source": [
    "job_creation = 500  \n",
    "revenue_from_sales = 1000000  \n",
    "fuel_cost_savings = 500000  "
   ]
  },
  {
   "cell_type": "markdown",
   "id": "65d33bff-0117-4deb-a7e4-656831788387",
   "metadata": {},
   "source": [
    "# Total economic impact\n",
    "\n"
   ]
  },
  {
   "cell_type": "code",
   "execution_count": null,
   "id": "76e3a99c-0084-4921-9a6a-42766966ce95",
   "metadata": {
    "tags": []
   },
   "outputs": [],
   "source": [
    "total_economic_impact = job_creation + revenue_from_sales + fuel_cost_savings"
   ]
  },
  {
   "cell_type": "code",
   "execution_count": null,
   "id": "a6e6d321-2680-4a34-aa8c-88147406a6eb",
   "metadata": {
    "tags": []
   },
   "outputs": [],
   "source": [
    "print(\"Metrics:\")\n",
    "print(\"1. Charging Station Density (per capita):\", charging_station_density)\n",
    "print(\"2. Electric Vehicle Market Share (%):\", ev_market_share)\n",
    "print(\"3. Average Electric Vehicle Range (miles):\", average_ev_range)\n",
    "print(\"4. Vehicle Turnover Rate (%):\", vehicle_turnover_rate)\n",
    "print(\"5. Economic Impact ($):\", total_economic_impact)"
   ]
  },
  {
   "cell_type": "markdown",
   "id": "f0ae7bd8-f8ad-46c2-a186-207225e10227",
   "metadata": {},
   "source": [
    "### TO BE DELETED\n",
    "- Data Preparation\n",
    "- Data Scrubbing:\n",
    "- What data cleansing techniques will you apply?\n",
    "- Feature Selection: Which fields from your data will you use/exclude?\n",
    "- Feature Creation: Which fields will be combined or bucketed?\n",
    "- Feature Transformation: What other transformations (such as one hot encoding, etc.) will you apply to your data?\n",
    "- How will you balance your data set?\n",
    "- How will you split your dataset?"
   ]
  },
  {
   "cell_type": "code",
   "execution_count": null,
   "id": "87e70d33-7ef1-40df-92cd-b318d6f99573",
   "metadata": {},
   "outputs": [],
   "source": []
  }
 ],
 "metadata": {
  "availableInstances": [
   {
    "_defaultOrder": 0,
    "_isFastLaunch": true,
    "category": "General purpose",
    "gpuNum": 0,
    "hideHardwareSpecs": false,
    "memoryGiB": 4,
    "name": "ml.t3.medium",
    "vcpuNum": 2
   },
   {
    "_defaultOrder": 1,
    "_isFastLaunch": false,
    "category": "General purpose",
    "gpuNum": 0,
    "hideHardwareSpecs": false,
    "memoryGiB": 8,
    "name": "ml.t3.large",
    "vcpuNum": 2
   },
   {
    "_defaultOrder": 2,
    "_isFastLaunch": false,
    "category": "General purpose",
    "gpuNum": 0,
    "hideHardwareSpecs": false,
    "memoryGiB": 16,
    "name": "ml.t3.xlarge",
    "vcpuNum": 4
   },
   {
    "_defaultOrder": 3,
    "_isFastLaunch": false,
    "category": "General purpose",
    "gpuNum": 0,
    "hideHardwareSpecs": false,
    "memoryGiB": 32,
    "name": "ml.t3.2xlarge",
    "vcpuNum": 8
   },
   {
    "_defaultOrder": 4,
    "_isFastLaunch": true,
    "category": "General purpose",
    "gpuNum": 0,
    "hideHardwareSpecs": false,
    "memoryGiB": 8,
    "name": "ml.m5.large",
    "vcpuNum": 2
   },
   {
    "_defaultOrder": 5,
    "_isFastLaunch": false,
    "category": "General purpose",
    "gpuNum": 0,
    "hideHardwareSpecs": false,
    "memoryGiB": 16,
    "name": "ml.m5.xlarge",
    "vcpuNum": 4
   },
   {
    "_defaultOrder": 6,
    "_isFastLaunch": false,
    "category": "General purpose",
    "gpuNum": 0,
    "hideHardwareSpecs": false,
    "memoryGiB": 32,
    "name": "ml.m5.2xlarge",
    "vcpuNum": 8
   },
   {
    "_defaultOrder": 7,
    "_isFastLaunch": false,
    "category": "General purpose",
    "gpuNum": 0,
    "hideHardwareSpecs": false,
    "memoryGiB": 64,
    "name": "ml.m5.4xlarge",
    "vcpuNum": 16
   },
   {
    "_defaultOrder": 8,
    "_isFastLaunch": false,
    "category": "General purpose",
    "gpuNum": 0,
    "hideHardwareSpecs": false,
    "memoryGiB": 128,
    "name": "ml.m5.8xlarge",
    "vcpuNum": 32
   },
   {
    "_defaultOrder": 9,
    "_isFastLaunch": false,
    "category": "General purpose",
    "gpuNum": 0,
    "hideHardwareSpecs": false,
    "memoryGiB": 192,
    "name": "ml.m5.12xlarge",
    "vcpuNum": 48
   },
   {
    "_defaultOrder": 10,
    "_isFastLaunch": false,
    "category": "General purpose",
    "gpuNum": 0,
    "hideHardwareSpecs": false,
    "memoryGiB": 256,
    "name": "ml.m5.16xlarge",
    "vcpuNum": 64
   },
   {
    "_defaultOrder": 11,
    "_isFastLaunch": false,
    "category": "General purpose",
    "gpuNum": 0,
    "hideHardwareSpecs": false,
    "memoryGiB": 384,
    "name": "ml.m5.24xlarge",
    "vcpuNum": 96
   },
   {
    "_defaultOrder": 12,
    "_isFastLaunch": false,
    "category": "General purpose",
    "gpuNum": 0,
    "hideHardwareSpecs": false,
    "memoryGiB": 8,
    "name": "ml.m5d.large",
    "vcpuNum": 2
   },
   {
    "_defaultOrder": 13,
    "_isFastLaunch": false,
    "category": "General purpose",
    "gpuNum": 0,
    "hideHardwareSpecs": false,
    "memoryGiB": 16,
    "name": "ml.m5d.xlarge",
    "vcpuNum": 4
   },
   {
    "_defaultOrder": 14,
    "_isFastLaunch": false,
    "category": "General purpose",
    "gpuNum": 0,
    "hideHardwareSpecs": false,
    "memoryGiB": 32,
    "name": "ml.m5d.2xlarge",
    "vcpuNum": 8
   },
   {
    "_defaultOrder": 15,
    "_isFastLaunch": false,
    "category": "General purpose",
    "gpuNum": 0,
    "hideHardwareSpecs": false,
    "memoryGiB": 64,
    "name": "ml.m5d.4xlarge",
    "vcpuNum": 16
   },
   {
    "_defaultOrder": 16,
    "_isFastLaunch": false,
    "category": "General purpose",
    "gpuNum": 0,
    "hideHardwareSpecs": false,
    "memoryGiB": 128,
    "name": "ml.m5d.8xlarge",
    "vcpuNum": 32
   },
   {
    "_defaultOrder": 17,
    "_isFastLaunch": false,
    "category": "General purpose",
    "gpuNum": 0,
    "hideHardwareSpecs": false,
    "memoryGiB": 192,
    "name": "ml.m5d.12xlarge",
    "vcpuNum": 48
   },
   {
    "_defaultOrder": 18,
    "_isFastLaunch": false,
    "category": "General purpose",
    "gpuNum": 0,
    "hideHardwareSpecs": false,
    "memoryGiB": 256,
    "name": "ml.m5d.16xlarge",
    "vcpuNum": 64
   },
   {
    "_defaultOrder": 19,
    "_isFastLaunch": false,
    "category": "General purpose",
    "gpuNum": 0,
    "hideHardwareSpecs": false,
    "memoryGiB": 384,
    "name": "ml.m5d.24xlarge",
    "vcpuNum": 96
   },
   {
    "_defaultOrder": 20,
    "_isFastLaunch": false,
    "category": "General purpose",
    "gpuNum": 0,
    "hideHardwareSpecs": true,
    "memoryGiB": 0,
    "name": "ml.geospatial.interactive",
    "supportedImageNames": [
     "sagemaker-geospatial-v1-0"
    ],
    "vcpuNum": 0
   },
   {
    "_defaultOrder": 21,
    "_isFastLaunch": true,
    "category": "Compute optimized",
    "gpuNum": 0,
    "hideHardwareSpecs": false,
    "memoryGiB": 4,
    "name": "ml.c5.large",
    "vcpuNum": 2
   },
   {
    "_defaultOrder": 22,
    "_isFastLaunch": false,
    "category": "Compute optimized",
    "gpuNum": 0,
    "hideHardwareSpecs": false,
    "memoryGiB": 8,
    "name": "ml.c5.xlarge",
    "vcpuNum": 4
   },
   {
    "_defaultOrder": 23,
    "_isFastLaunch": false,
    "category": "Compute optimized",
    "gpuNum": 0,
    "hideHardwareSpecs": false,
    "memoryGiB": 16,
    "name": "ml.c5.2xlarge",
    "vcpuNum": 8
   },
   {
    "_defaultOrder": 24,
    "_isFastLaunch": false,
    "category": "Compute optimized",
    "gpuNum": 0,
    "hideHardwareSpecs": false,
    "memoryGiB": 32,
    "name": "ml.c5.4xlarge",
    "vcpuNum": 16
   },
   {
    "_defaultOrder": 25,
    "_isFastLaunch": false,
    "category": "Compute optimized",
    "gpuNum": 0,
    "hideHardwareSpecs": false,
    "memoryGiB": 72,
    "name": "ml.c5.9xlarge",
    "vcpuNum": 36
   },
   {
    "_defaultOrder": 26,
    "_isFastLaunch": false,
    "category": "Compute optimized",
    "gpuNum": 0,
    "hideHardwareSpecs": false,
    "memoryGiB": 96,
    "name": "ml.c5.12xlarge",
    "vcpuNum": 48
   },
   {
    "_defaultOrder": 27,
    "_isFastLaunch": false,
    "category": "Compute optimized",
    "gpuNum": 0,
    "hideHardwareSpecs": false,
    "memoryGiB": 144,
    "name": "ml.c5.18xlarge",
    "vcpuNum": 72
   },
   {
    "_defaultOrder": 28,
    "_isFastLaunch": false,
    "category": "Compute optimized",
    "gpuNum": 0,
    "hideHardwareSpecs": false,
    "memoryGiB": 192,
    "name": "ml.c5.24xlarge",
    "vcpuNum": 96
   },
   {
    "_defaultOrder": 29,
    "_isFastLaunch": true,
    "category": "Accelerated computing",
    "gpuNum": 1,
    "hideHardwareSpecs": false,
    "memoryGiB": 16,
    "name": "ml.g4dn.xlarge",
    "vcpuNum": 4
   },
   {
    "_defaultOrder": 30,
    "_isFastLaunch": false,
    "category": "Accelerated computing",
    "gpuNum": 1,
    "hideHardwareSpecs": false,
    "memoryGiB": 32,
    "name": "ml.g4dn.2xlarge",
    "vcpuNum": 8
   },
   {
    "_defaultOrder": 31,
    "_isFastLaunch": false,
    "category": "Accelerated computing",
    "gpuNum": 1,
    "hideHardwareSpecs": false,
    "memoryGiB": 64,
    "name": "ml.g4dn.4xlarge",
    "vcpuNum": 16
   },
   {
    "_defaultOrder": 32,
    "_isFastLaunch": false,
    "category": "Accelerated computing",
    "gpuNum": 1,
    "hideHardwareSpecs": false,
    "memoryGiB": 128,
    "name": "ml.g4dn.8xlarge",
    "vcpuNum": 32
   },
   {
    "_defaultOrder": 33,
    "_isFastLaunch": false,
    "category": "Accelerated computing",
    "gpuNum": 4,
    "hideHardwareSpecs": false,
    "memoryGiB": 192,
    "name": "ml.g4dn.12xlarge",
    "vcpuNum": 48
   },
   {
    "_defaultOrder": 34,
    "_isFastLaunch": false,
    "category": "Accelerated computing",
    "gpuNum": 1,
    "hideHardwareSpecs": false,
    "memoryGiB": 256,
    "name": "ml.g4dn.16xlarge",
    "vcpuNum": 64
   },
   {
    "_defaultOrder": 35,
    "_isFastLaunch": false,
    "category": "Accelerated computing",
    "gpuNum": 1,
    "hideHardwareSpecs": false,
    "memoryGiB": 61,
    "name": "ml.p3.2xlarge",
    "vcpuNum": 8
   },
   {
    "_defaultOrder": 36,
    "_isFastLaunch": false,
    "category": "Accelerated computing",
    "gpuNum": 4,
    "hideHardwareSpecs": false,
    "memoryGiB": 244,
    "name": "ml.p3.8xlarge",
    "vcpuNum": 32
   },
   {
    "_defaultOrder": 37,
    "_isFastLaunch": false,
    "category": "Accelerated computing",
    "gpuNum": 8,
    "hideHardwareSpecs": false,
    "memoryGiB": 488,
    "name": "ml.p3.16xlarge",
    "vcpuNum": 64
   },
   {
    "_defaultOrder": 38,
    "_isFastLaunch": false,
    "category": "Accelerated computing",
    "gpuNum": 8,
    "hideHardwareSpecs": false,
    "memoryGiB": 768,
    "name": "ml.p3dn.24xlarge",
    "vcpuNum": 96
   },
   {
    "_defaultOrder": 39,
    "_isFastLaunch": false,
    "category": "Memory Optimized",
    "gpuNum": 0,
    "hideHardwareSpecs": false,
    "memoryGiB": 16,
    "name": "ml.r5.large",
    "vcpuNum": 2
   },
   {
    "_defaultOrder": 40,
    "_isFastLaunch": false,
    "category": "Memory Optimized",
    "gpuNum": 0,
    "hideHardwareSpecs": false,
    "memoryGiB": 32,
    "name": "ml.r5.xlarge",
    "vcpuNum": 4
   },
   {
    "_defaultOrder": 41,
    "_isFastLaunch": false,
    "category": "Memory Optimized",
    "gpuNum": 0,
    "hideHardwareSpecs": false,
    "memoryGiB": 64,
    "name": "ml.r5.2xlarge",
    "vcpuNum": 8
   },
   {
    "_defaultOrder": 42,
    "_isFastLaunch": false,
    "category": "Memory Optimized",
    "gpuNum": 0,
    "hideHardwareSpecs": false,
    "memoryGiB": 128,
    "name": "ml.r5.4xlarge",
    "vcpuNum": 16
   },
   {
    "_defaultOrder": 43,
    "_isFastLaunch": false,
    "category": "Memory Optimized",
    "gpuNum": 0,
    "hideHardwareSpecs": false,
    "memoryGiB": 256,
    "name": "ml.r5.8xlarge",
    "vcpuNum": 32
   },
   {
    "_defaultOrder": 44,
    "_isFastLaunch": false,
    "category": "Memory Optimized",
    "gpuNum": 0,
    "hideHardwareSpecs": false,
    "memoryGiB": 384,
    "name": "ml.r5.12xlarge",
    "vcpuNum": 48
   },
   {
    "_defaultOrder": 45,
    "_isFastLaunch": false,
    "category": "Memory Optimized",
    "gpuNum": 0,
    "hideHardwareSpecs": false,
    "memoryGiB": 512,
    "name": "ml.r5.16xlarge",
    "vcpuNum": 64
   },
   {
    "_defaultOrder": 46,
    "_isFastLaunch": false,
    "category": "Memory Optimized",
    "gpuNum": 0,
    "hideHardwareSpecs": false,
    "memoryGiB": 768,
    "name": "ml.r5.24xlarge",
    "vcpuNum": 96
   },
   {
    "_defaultOrder": 47,
    "_isFastLaunch": false,
    "category": "Accelerated computing",
    "gpuNum": 1,
    "hideHardwareSpecs": false,
    "memoryGiB": 16,
    "name": "ml.g5.xlarge",
    "vcpuNum": 4
   },
   {
    "_defaultOrder": 48,
    "_isFastLaunch": false,
    "category": "Accelerated computing",
    "gpuNum": 1,
    "hideHardwareSpecs": false,
    "memoryGiB": 32,
    "name": "ml.g5.2xlarge",
    "vcpuNum": 8
   },
   {
    "_defaultOrder": 49,
    "_isFastLaunch": false,
    "category": "Accelerated computing",
    "gpuNum": 1,
    "hideHardwareSpecs": false,
    "memoryGiB": 64,
    "name": "ml.g5.4xlarge",
    "vcpuNum": 16
   },
   {
    "_defaultOrder": 50,
    "_isFastLaunch": false,
    "category": "Accelerated computing",
    "gpuNum": 1,
    "hideHardwareSpecs": false,
    "memoryGiB": 128,
    "name": "ml.g5.8xlarge",
    "vcpuNum": 32
   },
   {
    "_defaultOrder": 51,
    "_isFastLaunch": false,
    "category": "Accelerated computing",
    "gpuNum": 1,
    "hideHardwareSpecs": false,
    "memoryGiB": 256,
    "name": "ml.g5.16xlarge",
    "vcpuNum": 64
   },
   {
    "_defaultOrder": 52,
    "_isFastLaunch": false,
    "category": "Accelerated computing",
    "gpuNum": 4,
    "hideHardwareSpecs": false,
    "memoryGiB": 192,
    "name": "ml.g5.12xlarge",
    "vcpuNum": 48
   },
   {
    "_defaultOrder": 53,
    "_isFastLaunch": false,
    "category": "Accelerated computing",
    "gpuNum": 4,
    "hideHardwareSpecs": false,
    "memoryGiB": 384,
    "name": "ml.g5.24xlarge",
    "vcpuNum": 96
   },
   {
    "_defaultOrder": 54,
    "_isFastLaunch": false,
    "category": "Accelerated computing",
    "gpuNum": 8,
    "hideHardwareSpecs": false,
    "memoryGiB": 768,
    "name": "ml.g5.48xlarge",
    "vcpuNum": 192
   },
   {
    "_defaultOrder": 55,
    "_isFastLaunch": false,
    "category": "Accelerated computing",
    "gpuNum": 8,
    "hideHardwareSpecs": false,
    "memoryGiB": 1152,
    "name": "ml.p4d.24xlarge",
    "vcpuNum": 96
   },
   {
    "_defaultOrder": 56,
    "_isFastLaunch": false,
    "category": "Accelerated computing",
    "gpuNum": 8,
    "hideHardwareSpecs": false,
    "memoryGiB": 1152,
    "name": "ml.p4de.24xlarge",
    "vcpuNum": 96
   },
   {
    "_defaultOrder": 57,
    "_isFastLaunch": false,
    "category": "Accelerated computing",
    "gpuNum": 0,
    "hideHardwareSpecs": false,
    "memoryGiB": 32,
    "name": "ml.trn1.2xlarge",
    "vcpuNum": 8
   },
   {
    "_defaultOrder": 58,
    "_isFastLaunch": false,
    "category": "Accelerated computing",
    "gpuNum": 0,
    "hideHardwareSpecs": false,
    "memoryGiB": 512,
    "name": "ml.trn1.32xlarge",
    "vcpuNum": 128
   },
   {
    "_defaultOrder": 59,
    "_isFastLaunch": false,
    "category": "Accelerated computing",
    "gpuNum": 0,
    "hideHardwareSpecs": false,
    "memoryGiB": 512,
    "name": "ml.trn1n.32xlarge",
    "vcpuNum": 128
   }
  ],
  "instance_type": "ml.t3.medium",
  "kernelspec": {
   "display_name": "Python 3 (Data Science 2.0)",
   "language": "python",
   "name": "python3__SAGEMAKER_INTERNAL__arn:aws:sagemaker:us-east-1:081325390199:image/sagemaker-data-science-38"
  },
  "language_info": {
   "codemirror_mode": {
    "name": "ipython",
    "version": 3
   },
   "file_extension": ".py",
   "mimetype": "text/x-python",
   "name": "python",
   "nbconvert_exporter": "python",
   "pygments_lexer": "ipython3",
   "version": "3.8.13"
  }
 },
 "nbformat": 4,
 "nbformat_minor": 5
}
